{
 "cells": [
  {
   "cell_type": "code",
   "execution_count": 1,
   "metadata": {},
   "outputs": [],
   "source": [
    "# Import packages\n",
    "\n",
    "import pandas as pd\n",
    "import numpy as np\n",
    "import matplotlib as plt\n",
    "\n",
    "%matplotlib inline"
   ]
  },
  {
   "cell_type": "code",
   "execution_count": 2,
   "metadata": {},
   "outputs": [],
   "source": [
    "# Load datasets\n",
    "\n",
    "train_data = pd.read_csv(\"train.csv\", sep=\",\")\n",
    "test_data = pd.read_csv(\"test.csv\", sep=\",\")\n",
    "test_Yreal = pd.read_csv(\"gender_submission.csv\", sep=\",\")"
   ]
  },
  {
   "cell_type": "markdown",
   "metadata": {},
   "source": [
    "## 1)  Data manipulation"
   ]
  },
  {
   "cell_type": "code",
   "execution_count": 3,
   "metadata": {},
   "outputs": [
    {
     "data": {
      "text/html": [
       "<div>\n",
       "<style scoped>\n",
       "    .dataframe tbody tr th:only-of-type {\n",
       "        vertical-align: middle;\n",
       "    }\n",
       "\n",
       "    .dataframe tbody tr th {\n",
       "        vertical-align: top;\n",
       "    }\n",
       "\n",
       "    .dataframe thead th {\n",
       "        text-align: right;\n",
       "    }\n",
       "</style>\n",
       "<table border=\"1\" class=\"dataframe\">\n",
       "  <thead>\n",
       "    <tr style=\"text-align: right;\">\n",
       "      <th></th>\n",
       "      <th>PassengerId</th>\n",
       "      <th>Survived</th>\n",
       "      <th>Pclass</th>\n",
       "      <th>Name</th>\n",
       "      <th>Sex</th>\n",
       "      <th>Age</th>\n",
       "      <th>SibSp</th>\n",
       "      <th>Parch</th>\n",
       "      <th>Ticket</th>\n",
       "      <th>Fare</th>\n",
       "      <th>Cabin</th>\n",
       "      <th>Embarked</th>\n",
       "    </tr>\n",
       "  </thead>\n",
       "  <tbody>\n",
       "    <tr>\n",
       "      <th>13</th>\n",
       "      <td>14</td>\n",
       "      <td>0</td>\n",
       "      <td>3</td>\n",
       "      <td>Andersson, Mr. Anders Johan</td>\n",
       "      <td>male</td>\n",
       "      <td>39.0</td>\n",
       "      <td>1</td>\n",
       "      <td>5</td>\n",
       "      <td>347082</td>\n",
       "      <td>31.2750</td>\n",
       "      <td>NaN</td>\n",
       "      <td>S</td>\n",
       "    </tr>\n",
       "    <tr>\n",
       "      <th>5</th>\n",
       "      <td>6</td>\n",
       "      <td>0</td>\n",
       "      <td>3</td>\n",
       "      <td>Moran, Mr. James</td>\n",
       "      <td>male</td>\n",
       "      <td>NaN</td>\n",
       "      <td>0</td>\n",
       "      <td>0</td>\n",
       "      <td>330877</td>\n",
       "      <td>8.4583</td>\n",
       "      <td>NaN</td>\n",
       "      <td>Q</td>\n",
       "    </tr>\n",
       "    <tr>\n",
       "      <th>615</th>\n",
       "      <td>616</td>\n",
       "      <td>1</td>\n",
       "      <td>2</td>\n",
       "      <td>Herman, Miss. Alice</td>\n",
       "      <td>female</td>\n",
       "      <td>24.0</td>\n",
       "      <td>1</td>\n",
       "      <td>2</td>\n",
       "      <td>220845</td>\n",
       "      <td>65.0000</td>\n",
       "      <td>NaN</td>\n",
       "      <td>S</td>\n",
       "    </tr>\n",
       "    <tr>\n",
       "      <th>413</th>\n",
       "      <td>414</td>\n",
       "      <td>0</td>\n",
       "      <td>2</td>\n",
       "      <td>Cunningham, Mr. Alfred Fleming</td>\n",
       "      <td>male</td>\n",
       "      <td>NaN</td>\n",
       "      <td>0</td>\n",
       "      <td>0</td>\n",
       "      <td>239853</td>\n",
       "      <td>0.0000</td>\n",
       "      <td>NaN</td>\n",
       "      <td>S</td>\n",
       "    </tr>\n",
       "    <tr>\n",
       "      <th>255</th>\n",
       "      <td>256</td>\n",
       "      <td>1</td>\n",
       "      <td>3</td>\n",
       "      <td>Touma, Mrs. Darwis (Hanne Youssef Razi)</td>\n",
       "      <td>female</td>\n",
       "      <td>29.0</td>\n",
       "      <td>0</td>\n",
       "      <td>2</td>\n",
       "      <td>2650</td>\n",
       "      <td>15.2458</td>\n",
       "      <td>NaN</td>\n",
       "      <td>C</td>\n",
       "    </tr>\n",
       "    <tr>\n",
       "      <th>643</th>\n",
       "      <td>644</td>\n",
       "      <td>1</td>\n",
       "      <td>3</td>\n",
       "      <td>Foo, Mr. Choong</td>\n",
       "      <td>male</td>\n",
       "      <td>NaN</td>\n",
       "      <td>0</td>\n",
       "      <td>0</td>\n",
       "      <td>1601</td>\n",
       "      <td>56.4958</td>\n",
       "      <td>NaN</td>\n",
       "      <td>S</td>\n",
       "    </tr>\n",
       "    <tr>\n",
       "      <th>725</th>\n",
       "      <td>726</td>\n",
       "      <td>0</td>\n",
       "      <td>3</td>\n",
       "      <td>Oreskovic, Mr. Luka</td>\n",
       "      <td>male</td>\n",
       "      <td>20.0</td>\n",
       "      <td>0</td>\n",
       "      <td>0</td>\n",
       "      <td>315094</td>\n",
       "      <td>8.6625</td>\n",
       "      <td>NaN</td>\n",
       "      <td>S</td>\n",
       "    </tr>\n",
       "    <tr>\n",
       "      <th>483</th>\n",
       "      <td>484</td>\n",
       "      <td>1</td>\n",
       "      <td>3</td>\n",
       "      <td>Turkula, Mrs. (Hedwig)</td>\n",
       "      <td>female</td>\n",
       "      <td>63.0</td>\n",
       "      <td>0</td>\n",
       "      <td>0</td>\n",
       "      <td>4134</td>\n",
       "      <td>9.5875</td>\n",
       "      <td>NaN</td>\n",
       "      <td>S</td>\n",
       "    </tr>\n",
       "    <tr>\n",
       "      <th>246</th>\n",
       "      <td>247</td>\n",
       "      <td>0</td>\n",
       "      <td>3</td>\n",
       "      <td>Lindahl, Miss. Agda Thorilda Viktoria</td>\n",
       "      <td>female</td>\n",
       "      <td>25.0</td>\n",
       "      <td>0</td>\n",
       "      <td>0</td>\n",
       "      <td>347071</td>\n",
       "      <td>7.7750</td>\n",
       "      <td>NaN</td>\n",
       "      <td>S</td>\n",
       "    </tr>\n",
       "    <tr>\n",
       "      <th>128</th>\n",
       "      <td>129</td>\n",
       "      <td>1</td>\n",
       "      <td>3</td>\n",
       "      <td>Peter, Miss. Anna</td>\n",
       "      <td>female</td>\n",
       "      <td>NaN</td>\n",
       "      <td>1</td>\n",
       "      <td>1</td>\n",
       "      <td>2668</td>\n",
       "      <td>22.3583</td>\n",
       "      <td>F E69</td>\n",
       "      <td>C</td>\n",
       "    </tr>\n",
       "  </tbody>\n",
       "</table>\n",
       "</div>"
      ],
      "text/plain": [
       "     PassengerId  Survived  Pclass                                     Name  \\\n",
       "13            14         0       3              Andersson, Mr. Anders Johan   \n",
       "5              6         0       3                         Moran, Mr. James   \n",
       "615          616         1       2                      Herman, Miss. Alice   \n",
       "413          414         0       2           Cunningham, Mr. Alfred Fleming   \n",
       "255          256         1       3  Touma, Mrs. Darwis (Hanne Youssef Razi)   \n",
       "643          644         1       3                          Foo, Mr. Choong   \n",
       "725          726         0       3                      Oreskovic, Mr. Luka   \n",
       "483          484         1       3                   Turkula, Mrs. (Hedwig)   \n",
       "246          247         0       3    Lindahl, Miss. Agda Thorilda Viktoria   \n",
       "128          129         1       3                        Peter, Miss. Anna   \n",
       "\n",
       "        Sex   Age  SibSp  Parch  Ticket     Fare  Cabin Embarked  \n",
       "13     male  39.0      1      5  347082  31.2750    NaN        S  \n",
       "5      male   NaN      0      0  330877   8.4583    NaN        Q  \n",
       "615  female  24.0      1      2  220845  65.0000    NaN        S  \n",
       "413    male   NaN      0      0  239853   0.0000    NaN        S  \n",
       "255  female  29.0      0      2    2650  15.2458    NaN        C  \n",
       "643    male   NaN      0      0    1601  56.4958    NaN        S  \n",
       "725    male  20.0      0      0  315094   8.6625    NaN        S  \n",
       "483  female  63.0      0      0    4134   9.5875    NaN        S  \n",
       "246  female  25.0      0      0  347071   7.7750    NaN        S  \n",
       "128  female   NaN      1      1    2668  22.3583  F E69        C  "
      ]
     },
     "execution_count": 3,
     "metadata": {},
     "output_type": "execute_result"
    }
   ],
   "source": [
    "# Verify datasets\n",
    "\n",
    "train_data.sample(10)"
   ]
  },
  {
   "cell_type": "code",
   "execution_count": 4,
   "metadata": {},
   "outputs": [
    {
     "name": "stdout",
     "output_type": "stream",
     "text": [
      "PassengerId      0\n",
      "Survived         0\n",
      "Pclass           0\n",
      "Name             0\n",
      "Sex              0\n",
      "Age            177\n",
      "SibSp            0\n",
      "Parch            0\n",
      "Ticket           0\n",
      "Fare             0\n",
      "Cabin          687\n",
      "Embarked         2\n",
      "dtype: int64\n",
      "Detect missing values: Age, Cabin and Embarked columns\n"
     ]
    }
   ],
   "source": [
    "# Checking missing values in train data\n",
    "print(train_data.isnull().sum())\n",
    "print(\"Detect missing values: Age, Cabin and Embarked columns\")"
   ]
  },
  {
   "cell_type": "code",
   "execution_count": 5,
   "metadata": {},
   "outputs": [
    {
     "name": "stdout",
     "output_type": "stream",
     "text": [
      "PassengerId      0\n",
      "Pclass           0\n",
      "Name             0\n",
      "Sex              0\n",
      "Age             86\n",
      "SibSp            0\n",
      "Parch            0\n",
      "Ticket           0\n",
      "Fare             1\n",
      "Cabin          327\n",
      "Embarked         0\n",
      "dtype: int64\n",
      "Detect missing values: Age, Fare, and Cabin columns\n"
     ]
    }
   ],
   "source": [
    "# Cheking missing values in test data\n",
    "print(test_data.isnull().sum())\n",
    "print(\"Detect missing values: Age, Fare, and Cabin columns\")"
   ]
  },
  {
   "cell_type": "code",
   "execution_count": 6,
   "metadata": {},
   "outputs": [
    {
     "data": {
      "text/plain": [
       "PassengerId    0\n",
       "Survived       0\n",
       "dtype: int64"
      ]
     },
     "execution_count": 6,
     "metadata": {},
     "output_type": "execute_result"
    }
   ],
   "source": [
    "# Cheking missing values in Y real dataset\n",
    "test_Yreal.isnull().sum()"
   ]
  },
  {
   "cell_type": "markdown",
   "metadata": {},
   "source": [
    "### 1.1) Clearing the data"
   ]
  },
  {
   "cell_type": "code",
   "execution_count": 7,
   "metadata": {},
   "outputs": [],
   "source": [
    "# First, COMPLETING the missing values\n",
    "\n",
    "# Stategy: use the mean or mode of column to substitute in missing values [Train Dataset]\n",
    "\n",
    "train_data['Age'].fillna(train_data['Age'].mean(), inplace = True)\n",
    "train_data['Cabin'].fillna(train_data['Cabin'].mode()[0], inplace = True) #Only to pratice\n",
    "train_data['Embarked'].fillna(train_data['Embarked'].mode()[0], inplace = True)"
   ]
  },
  {
   "cell_type": "code",
   "execution_count": 8,
   "metadata": {},
   "outputs": [],
   "source": [
    "# Stategy: use the mean or mode of column to substitute in missing values [Test Dataset]\n",
    "\n",
    "test_data['Age'].fillna(train_data['Age'].mean(), inplace = True)\n",
    "test_data['Fare'].fillna(train_data['Fare'].mean(), inplace = True)\n",
    "test_data['Cabin'].fillna(train_data['Cabin'].mode()[0], inplace = True)"
   ]
  },
  {
   "cell_type": "code",
   "execution_count": 9,
   "metadata": {},
   "outputs": [],
   "source": [
    "# Excluing 'insignificant' columns in train data\n",
    "\n",
    "delete_train_data = ['Name', 'Cabin', 'PassengerId', 'Ticket']\n",
    "train_data.drop(delete_train_data, axis=1, inplace= True)"
   ]
  },
  {
   "cell_type": "code",
   "execution_count": 10,
   "metadata": {},
   "outputs": [],
   "source": [
    "# Round the age and Fare\n",
    "train_data = train_data.round()\n",
    "test_data = test_data.round()"
   ]
  },
  {
   "cell_type": "code",
   "execution_count": 11,
   "metadata": {},
   "outputs": [
    {
     "name": "stdout",
     "output_type": "stream",
     "text": [
      "     Survived  Pclass     Sex   Age  SibSp  Parch   Fare Embarked\n",
      "698         0       1    male  49.0      1      1  111.0        C\n",
      "393         1       1  female  23.0      1      0  113.0        C\n",
      "622         1       3    male  20.0      1      1   16.0        C\n",
      "882         0       3  female  22.0      0      0   11.0        S\n",
      "162         0       3    male  26.0      0      0    8.0        S\n",
      "599         1       1    male  49.0      1      0   57.0        C\n",
      "449         1       1    male  52.0      0      0   30.0        S\n",
      "497         0       3    male  30.0      0      0   15.0        S\n",
      "807         0       3  female  18.0      0      0    8.0        S\n",
      "315         1       3  female  26.0      0      0    8.0        S\n"
     ]
    }
   ],
   "source": [
    "print(train_data.sample(10))"
   ]
  },
  {
   "cell_type": "code",
   "execution_count": 12,
   "metadata": {},
   "outputs": [],
   "source": [
    "# Excluing 'insignificant' columns in test data\n",
    "delete_test_data = ['Name', 'Cabin', 'PassengerId', 'Ticket']\n",
    "test_data.drop(delete_test_data, axis=1, inplace= True)"
   ]
  },
  {
   "cell_type": "code",
   "execution_count": 13,
   "metadata": {},
   "outputs": [],
   "source": [
    "# Excluing 'insignificant' columns in Y real data\n",
    "delete_Y_real = ['PassengerId']\n",
    "test_Yreal.drop(delete_Y_real, axis=1, inplace=True)"
   ]
  },
  {
   "cell_type": "code",
   "execution_count": 14,
   "metadata": {},
   "outputs": [
    {
     "name": "stdout",
     "output_type": "stream",
     "text": [
      "     Pclass     Sex   Age  SibSp  Parch   Fare Embarked\n",
      "305       1  female  64.0      1      1   27.0        S\n",
      "343       1  female  58.0      0      1  512.0        C\n",
      "99        3    male  33.0      0      0    8.0        S\n",
      "90        3  female  22.0      1      0   14.0        S\n",
      "133       3    male  30.0      1      0    6.0        C\n",
      "249       3  female  30.0      1      0   14.0        C\n",
      "91        3    male  30.0      0      0    8.0        S\n",
      "240       1  female  55.0      0      0   28.0        C\n",
      "326       2  female  12.0      2      1   39.0        S\n",
      "13        2    male  63.0      1      0   26.0        S\n"
     ]
    }
   ],
   "source": [
    "print(test_data.sample(10))"
   ]
  },
  {
   "cell_type": "markdown",
   "metadata": {},
   "source": [
    "### 1.2) Creating new variable"
   ]
  },
  {
   "cell_type": "code",
   "execution_count": 15,
   "metadata": {},
   "outputs": [],
   "source": [
    "# Simplifying the dataset\n",
    "\n",
    "# Forming the 'FamilyNumber' variable based on the 'SibSp' and 'Parch' more one\n",
    "train_data['FamilyNumber'] = train_data['SibSp'] + train_data['Parch'] + 1\n",
    "test_data['FamilyNumber'] = test_data['SibSp'] + test_data['Parch'] + 1"
   ]
  },
  {
   "cell_type": "code",
   "execution_count": 16,
   "metadata": {},
   "outputs": [
    {
     "data": {
      "text/html": [
       "<div>\n",
       "<style scoped>\n",
       "    .dataframe tbody tr th:only-of-type {\n",
       "        vertical-align: middle;\n",
       "    }\n",
       "\n",
       "    .dataframe tbody tr th {\n",
       "        vertical-align: top;\n",
       "    }\n",
       "\n",
       "    .dataframe thead th {\n",
       "        text-align: right;\n",
       "    }\n",
       "</style>\n",
       "<table border=\"1\" class=\"dataframe\">\n",
       "  <thead>\n",
       "    <tr style=\"text-align: right;\">\n",
       "      <th></th>\n",
       "      <th>Survived</th>\n",
       "      <th>Pclass</th>\n",
       "      <th>Sex</th>\n",
       "      <th>Age</th>\n",
       "      <th>SibSp</th>\n",
       "      <th>Parch</th>\n",
       "      <th>Fare</th>\n",
       "      <th>Embarked</th>\n",
       "      <th>FamilyNumber</th>\n",
       "    </tr>\n",
       "  </thead>\n",
       "  <tbody>\n",
       "    <tr>\n",
       "      <th>283</th>\n",
       "      <td>1</td>\n",
       "      <td>3</td>\n",
       "      <td>male</td>\n",
       "      <td>19.0</td>\n",
       "      <td>0</td>\n",
       "      <td>0</td>\n",
       "      <td>8.0</td>\n",
       "      <td>S</td>\n",
       "      <td>1</td>\n",
       "    </tr>\n",
       "    <tr>\n",
       "      <th>266</th>\n",
       "      <td>0</td>\n",
       "      <td>3</td>\n",
       "      <td>male</td>\n",
       "      <td>16.0</td>\n",
       "      <td>4</td>\n",
       "      <td>1</td>\n",
       "      <td>40.0</td>\n",
       "      <td>S</td>\n",
       "      <td>6</td>\n",
       "    </tr>\n",
       "    <tr>\n",
       "      <th>79</th>\n",
       "      <td>1</td>\n",
       "      <td>3</td>\n",
       "      <td>female</td>\n",
       "      <td>30.0</td>\n",
       "      <td>0</td>\n",
       "      <td>0</td>\n",
       "      <td>12.0</td>\n",
       "      <td>S</td>\n",
       "      <td>1</td>\n",
       "    </tr>\n",
       "  </tbody>\n",
       "</table>\n",
       "</div>"
      ],
      "text/plain": [
       "     Survived  Pclass     Sex   Age  SibSp  Parch  Fare Embarked  FamilyNumber\n",
       "283         1       3    male  19.0      0      0   8.0        S             1\n",
       "266         0       3    male  16.0      4      1  40.0        S             6\n",
       "79          1       3  female  30.0      0      0  12.0        S             1"
      ]
     },
     "execution_count": 16,
     "metadata": {},
     "output_type": "execute_result"
    }
   ],
   "source": [
    "# Showing the data\n",
    "train_data.sample(3)"
   ]
  },
  {
   "cell_type": "code",
   "execution_count": 17,
   "metadata": {},
   "outputs": [],
   "source": [
    "# Deleting variables Sibp/Parch train data\n",
    "delete_SibpParch_train = ['SibSp', 'Parch']\n",
    "train_data.drop(delete_SibpParch_train, axis = 1, inplace = True)\n",
    "\n",
    "# Deleting variables Sibp/Parch test data\n",
    "delete_SibpParch_test = ['SibSp', 'Parch']\n",
    "test_data.drop(delete_SibpParch_test, axis = 1, inplace = True)"
   ]
  },
  {
   "cell_type": "code",
   "execution_count": 18,
   "metadata": {},
   "outputs": [
    {
     "data": {
      "text/html": [
       "<div>\n",
       "<style scoped>\n",
       "    .dataframe tbody tr th:only-of-type {\n",
       "        vertical-align: middle;\n",
       "    }\n",
       "\n",
       "    .dataframe tbody tr th {\n",
       "        vertical-align: top;\n",
       "    }\n",
       "\n",
       "    .dataframe thead th {\n",
       "        text-align: right;\n",
       "    }\n",
       "</style>\n",
       "<table border=\"1\" class=\"dataframe\">\n",
       "  <thead>\n",
       "    <tr style=\"text-align: right;\">\n",
       "      <th></th>\n",
       "      <th>Survived</th>\n",
       "      <th>Pclass</th>\n",
       "      <th>Sex</th>\n",
       "      <th>Age</th>\n",
       "      <th>Fare</th>\n",
       "      <th>Embarked</th>\n",
       "      <th>FamilyNumber</th>\n",
       "    </tr>\n",
       "  </thead>\n",
       "  <tbody>\n",
       "    <tr>\n",
       "      <th>1</th>\n",
       "      <td>1</td>\n",
       "      <td>1</td>\n",
       "      <td>female</td>\n",
       "      <td>38.0</td>\n",
       "      <td>71.0</td>\n",
       "      <td>C</td>\n",
       "      <td>2</td>\n",
       "    </tr>\n",
       "    <tr>\n",
       "      <th>409</th>\n",
       "      <td>0</td>\n",
       "      <td>3</td>\n",
       "      <td>female</td>\n",
       "      <td>30.0</td>\n",
       "      <td>25.0</td>\n",
       "      <td>S</td>\n",
       "      <td>5</td>\n",
       "    </tr>\n",
       "    <tr>\n",
       "      <th>667</th>\n",
       "      <td>0</td>\n",
       "      <td>3</td>\n",
       "      <td>male</td>\n",
       "      <td>30.0</td>\n",
       "      <td>8.0</td>\n",
       "      <td>S</td>\n",
       "      <td>1</td>\n",
       "    </tr>\n",
       "  </tbody>\n",
       "</table>\n",
       "</div>"
      ],
      "text/plain": [
       "     Survived  Pclass     Sex   Age  Fare Embarked  FamilyNumber\n",
       "1           1       1  female  38.0  71.0        C             2\n",
       "409         0       3  female  30.0  25.0        S             5\n",
       "667         0       3    male  30.0   8.0        S             1"
      ]
     },
     "execution_count": 18,
     "metadata": {},
     "output_type": "execute_result"
    }
   ],
   "source": [
    "# Showing the data\n",
    "train_data.sample(3)"
   ]
  },
  {
   "cell_type": "code",
   "execution_count": 19,
   "metadata": {},
   "outputs": [
    {
     "data": {
      "text/html": [
       "<div>\n",
       "<style scoped>\n",
       "    .dataframe tbody tr th:only-of-type {\n",
       "        vertical-align: middle;\n",
       "    }\n",
       "\n",
       "    .dataframe tbody tr th {\n",
       "        vertical-align: top;\n",
       "    }\n",
       "\n",
       "    .dataframe thead th {\n",
       "        text-align: right;\n",
       "    }\n",
       "</style>\n",
       "<table border=\"1\" class=\"dataframe\">\n",
       "  <thead>\n",
       "    <tr style=\"text-align: right;\">\n",
       "      <th></th>\n",
       "      <th>Pclass</th>\n",
       "      <th>Sex</th>\n",
       "      <th>Age</th>\n",
       "      <th>Fare</th>\n",
       "      <th>Embarked</th>\n",
       "      <th>FamilyNumber</th>\n",
       "    </tr>\n",
       "  </thead>\n",
       "  <tbody>\n",
       "    <tr>\n",
       "      <th>130</th>\n",
       "      <td>3</td>\n",
       "      <td>male</td>\n",
       "      <td>32.0</td>\n",
       "      <td>8.0</td>\n",
       "      <td>S</td>\n",
       "      <td>1</td>\n",
       "    </tr>\n",
       "    <tr>\n",
       "      <th>386</th>\n",
       "      <td>3</td>\n",
       "      <td>male</td>\n",
       "      <td>24.0</td>\n",
       "      <td>8.0</td>\n",
       "      <td>S</td>\n",
       "      <td>1</td>\n",
       "    </tr>\n",
       "    <tr>\n",
       "      <th>138</th>\n",
       "      <td>3</td>\n",
       "      <td>female</td>\n",
       "      <td>23.0</td>\n",
       "      <td>8.0</td>\n",
       "      <td>S</td>\n",
       "      <td>1</td>\n",
       "    </tr>\n",
       "  </tbody>\n",
       "</table>\n",
       "</div>"
      ],
      "text/plain": [
       "     Pclass     Sex   Age  Fare Embarked  FamilyNumber\n",
       "130       3    male  32.0   8.0        S             1\n",
       "386       3    male  24.0   8.0        S             1\n",
       "138       3  female  23.0   8.0        S             1"
      ]
     },
     "execution_count": 19,
     "metadata": {},
     "output_type": "execute_result"
    }
   ],
   "source": [
    "test_data.sample(3)"
   ]
  },
  {
   "cell_type": "code",
   "execution_count": 20,
   "metadata": {},
   "outputs": [],
   "source": [
    "# Using all data set to generate more informations\n",
    "\n",
    "frames = [train_data, test_data, test_Yreal]\n",
    "data_analysis = pd.concat(frames, sort=False)"
   ]
  },
  {
   "cell_type": "markdown",
   "metadata": {},
   "source": [
    "### 1.3) Converting dataset"
   ]
  },
  {
   "cell_type": "code",
   "execution_count": 21,
   "metadata": {},
   "outputs": [],
   "source": [
    "# In this part, i will converting the variables that has categorical data and pass to number values using LabelEncoder\n",
    "\n",
    "from sklearn.preprocessing import LabelEncoder\n",
    "conv = LabelEncoder()\n",
    "\n",
    "# Variable Sex and Embarked\n",
    "train_data['Sex'] = conv.fit_transform(train_data['Sex'])\n",
    "train_data['Embarked'] = conv.fit_transform(train_data['Embarked'])\n",
    "test_data['Sex'] = conv.fit_transform(test_data['Sex'])\n",
    "test_data['Embarked'] = conv.fit_transform(test_data['Embarked'])"
   ]
  },
  {
   "cell_type": "code",
   "execution_count": 22,
   "metadata": {},
   "outputs": [],
   "source": [
    "# Converting Age in Class\n",
    "\n",
    "# 0 - Child =  12 <\n",
    "# 1 - Teenager = 12-18\n",
    "# 2 - Young Adult = 19-30\n",
    "# 3 - Adult = 31-59\n",
    "# 4 - Old = >60\n",
    "\n",
    "# Defining the intervals in which the age classes will be added in train data\n",
    "age_bins_train = [0, 12, 18, 30, 60, 150]\n",
    "age_labels_train = [\"Child\", \"Teenager\", \"YoungAdult\", \"Middle-aged\", \"Old\"]\n",
    "\n",
    "#Converting the numerical variable [\"Age\"] to categorical variable in train data\n",
    "train_data['Age'] = pd.cut(train_data['Age'], age_bins_train, labels=age_labels_train, \n",
    "    right=True, include_lowest=True)\n",
    "\n",
    "# Defining the intervals in which the age classes will be added in test data\n",
    "age_bins_test = [0, 12, 18, 30, 60, 150]\n",
    "age_labels_test = [\"Child\", \"Teenager\", \"YoungAdult\", \"Middle-aged\", \"Old\"]\n",
    "\n",
    "#Converting the numerical variable [\"Age\"] to categorical variable in test data\n",
    "test_data['Age'] = pd.cut(test_data['Age'], age_bins_test, labels=age_labels_test, \n",
    "    right=True, include_lowest=True)\n"
   ]
  },
  {
   "cell_type": "code",
   "execution_count": 23,
   "metadata": {},
   "outputs": [
    {
     "data": {
      "text/plain": [
       "548    Middle-aged\n",
       "159     YoungAdult\n",
       "780       Teenager\n",
       "Name: Age, dtype: category\n",
       "Categories (5, object): [Child < Teenager < YoungAdult < Middle-aged < Old]"
      ]
     },
     "execution_count": 23,
     "metadata": {},
     "output_type": "execute_result"
    }
   ],
   "source": [
    "# Before\n",
    "train_data['Age'].sample(3)"
   ]
  },
  {
   "cell_type": "code",
   "execution_count": 24,
   "metadata": {},
   "outputs": [],
   "source": [
    "# 0 - Child =  12 <\n",
    "# 1 - Teenager = 12-18\n",
    "# 2 - Young Adult = 19-30\n",
    "# 3 - Adult = 31-59\n",
    "# 4 - Old = >60\n",
    "\n",
    "# Now, i'll use again LabelEncoder in variable ['Age'] to transform in number.\n",
    "\n",
    "train_data['Age'] = conv.fit_transform(train_data['Age'])\n",
    "test_data['Age'] = conv.fit_transform(test_data['Age'])"
   ]
  },
  {
   "cell_type": "code",
   "execution_count": 25,
   "metadata": {},
   "outputs": [
    {
     "data": {
      "text/plain": [
       "394    4\n",
       "825    4\n",
       "441    4\n",
       "Name: Age, dtype: int32"
      ]
     },
     "execution_count": 25,
     "metadata": {},
     "output_type": "execute_result"
    }
   ],
   "source": [
    "# After\n",
    "train_data['Age'].sample(3)"
   ]
  },
  {
   "cell_type": "code",
   "execution_count": 26,
   "metadata": {},
   "outputs": [],
   "source": [
    "# Converting Fare in Class"
   ]
  },
  {
   "cell_type": "code",
   "execution_count": 27,
   "metadata": {},
   "outputs": [
    {
     "data": {
      "text/plain": [
       "<matplotlib.axes._subplots.AxesSubplot at 0x2283c96b710>"
      ]
     },
     "execution_count": 27,
     "metadata": {},
     "output_type": "execute_result"
    },
    {
     "data": {
      "image/png": "[encoded data removed]",
      "text/plain": [
       "<Figure size 432x288 with 1 Axes>"
      ]
     },
     "metadata": {
      "needs_background": "light"
     },
     "output_type": "display_data"
    }
   ],
   "source": [
    "# With the help of the histogram it is possible to analyze ticket prices in order to define the classes and purchasing power of passengers\n",
    "\n",
    "train_data['Fare'].hist(range = (0,20))\n",
    "train_data['Fare'].hist(range = (21,40))\n",
    "train_data['Fare'].hist(range = (41,65))\n",
    "train_data['Fare'].hist(range = (65,100))"
   ]
  },
  {
   "cell_type": "code",
   "execution_count": 28,
   "metadata": {},
   "outputs": [
    {
     "data": {
      "text/plain": [
       "<matplotlib.axes._subplots.AxesSubplot at 0x2283ca73a90>"
      ]
     },
     "execution_count": 28,
     "metadata": {},
     "output_type": "execute_result"
    },
    {
     "data": {
      "image/png": "[encoded data removed]",
      "text/plain": [
       "<Figure size 432x288 with 1 Axes>"
      ]
     },
     "metadata": {
      "needs_background": "light"
     },
     "output_type": "display_data"
    }
   ],
   "source": [
    "train_data['Fare'].hist(range = (100,280), color=\"silver\")\n",
    "train_data['Fare'].hist(range = (400,530), color=\"gold\")"
   ]
  },
  {
   "cell_type": "code",
   "execution_count": 29,
   "metadata": {},
   "outputs": [],
   "source": [
    "# To simplify the data, i separate the ticket price class this form:\n",
    "\n",
    "# 0 - (0$) - FreePassengers(Probabily workers)\n",
    "# 1 - (1-20$) - LowClass\n",
    "# 2 - (21-99) - MediumClass\n",
    "# 3 - (>100) - HighClass\n",
    "\n",
    "# Defining the intervals in which the Fare classes will be added in train data\n",
    "fare_bins_train = [0, 1, 21, 100,550]\n",
    "fare_labels_train = [\"Free\", \"Low Class\", \"Medium Class\", \"High Class\"]\n",
    "\n",
    "#Converting the numerical variable [\"Fare\"] to categorical variable in train data\n",
    "train_data['Fare'] = pd.cut(train_data['Fare'], bins = fare_bins_train, labels = fare_labels_train, \n",
    "                            right=True, include_lowest=True)\n",
    "\n",
    "# Defining the intervals in which the Fare classes will be added in test data\n",
    "fare_bins_test = [0,1,21,100,550]\n",
    "fare_labels_test = [\"Free\", \"Low Class\", \"Medium Class\", \"High Class\"]\n",
    "\n",
    "#Converting the numerical variable [\"Fare\"], to categorical variable in test data\n",
    "test_data['Fare'] = pd.cut(test_data['Fare'], bins = fare_bins_test, labels = fare_labels_test, \n",
    "                          right=True, include_lowest= True)"
   ]
  },
  {
   "cell_type": "code",
   "execution_count": 30,
   "metadata": {},
   "outputs": [
    {
     "data": {
      "text/plain": [
       "158       Low Class\n",
       "751       Low Class\n",
       "690    Medium Class\n",
       "Name: Fare, dtype: category\n",
       "Categories (4, object): [Free < Low Class < Medium Class < High Class]"
      ]
     },
     "execution_count": 30,
     "metadata": {},
     "output_type": "execute_result"
    }
   ],
   "source": [
    "# Before treatment\n",
    "train_data['Fare'].sample(3)"
   ]
  },
  {
   "cell_type": "code",
   "execution_count": 31,
   "metadata": {},
   "outputs": [],
   "source": [
    "# Now, i'll use again LabelEncoder in variable ['Fare'] to transform in number.\n",
    "\n",
    "# 0 - (0$) - FreePassengers(Probabily workers)\n",
    "# 1 - (1-20$) - LowClass\n",
    "# 2 - (21-99) - MediumClass\n",
    "# 3 - (>100) - HighClass\n",
    "\n",
    "train_data['Fare'] = conv.fit_transform(train_data['Fare'])\n",
    "test_data['Fare'] = conv.fit_transform(test_data['Fare'])"
   ]
  },
  {
   "cell_type": "code",
   "execution_count": 32,
   "metadata": {},
   "outputs": [
    {
     "data": {
      "text/plain": [
       "331    3\n",
       "780    2\n",
       "213    2\n",
       "Name: Fare, dtype: int32"
      ]
     },
     "execution_count": 32,
     "metadata": {},
     "output_type": "execute_result"
    }
   ],
   "source": [
    "# After treatment\n",
    "train_data['Fare'].sample(3)"
   ]
  },
  {
   "cell_type": "code",
   "execution_count": 33,
   "metadata": {},
   "outputs": [
    {
     "data": {
      "text/html": [
       "<div>\n",
       "<style scoped>\n",
       "    .dataframe tbody tr th:only-of-type {\n",
       "        vertical-align: middle;\n",
       "    }\n",
       "\n",
       "    .dataframe tbody tr th {\n",
       "        vertical-align: top;\n",
       "    }\n",
       "\n",
       "    .dataframe thead th {\n",
       "        text-align: right;\n",
       "    }\n",
       "</style>\n",
       "<table border=\"1\" class=\"dataframe\">\n",
       "  <thead>\n",
       "    <tr style=\"text-align: right;\">\n",
       "      <th></th>\n",
       "      <th>Survived</th>\n",
       "      <th>Pclass</th>\n",
       "      <th>Sex</th>\n",
       "      <th>Age</th>\n",
       "      <th>Fare</th>\n",
       "      <th>Embarked</th>\n",
       "      <th>FamilyNumber</th>\n",
       "    </tr>\n",
       "  </thead>\n",
       "  <tbody>\n",
       "    <tr>\n",
       "      <th>285</th>\n",
       "      <td>0</td>\n",
       "      <td>3</td>\n",
       "      <td>1</td>\n",
       "      <td>1</td>\n",
       "      <td>2</td>\n",
       "      <td>0</td>\n",
       "      <td>1</td>\n",
       "    </tr>\n",
       "    <tr>\n",
       "      <th>858</th>\n",
       "      <td>1</td>\n",
       "      <td>3</td>\n",
       "      <td>0</td>\n",
       "      <td>4</td>\n",
       "      <td>2</td>\n",
       "      <td>0</td>\n",
       "      <td>4</td>\n",
       "    </tr>\n",
       "    <tr>\n",
       "      <th>813</th>\n",
       "      <td>0</td>\n",
       "      <td>3</td>\n",
       "      <td>0</td>\n",
       "      <td>0</td>\n",
       "      <td>3</td>\n",
       "      <td>2</td>\n",
       "      <td>7</td>\n",
       "    </tr>\n",
       "    <tr>\n",
       "      <th>12</th>\n",
       "      <td>0</td>\n",
       "      <td>3</td>\n",
       "      <td>1</td>\n",
       "      <td>4</td>\n",
       "      <td>2</td>\n",
       "      <td>2</td>\n",
       "      <td>1</td>\n",
       "    </tr>\n",
       "    <tr>\n",
       "      <th>683</th>\n",
       "      <td>0</td>\n",
       "      <td>3</td>\n",
       "      <td>1</td>\n",
       "      <td>3</td>\n",
       "      <td>3</td>\n",
       "      <td>2</td>\n",
       "      <td>8</td>\n",
       "    </tr>\n",
       "    <tr>\n",
       "      <th>397</th>\n",
       "      <td>0</td>\n",
       "      <td>2</td>\n",
       "      <td>1</td>\n",
       "      <td>1</td>\n",
       "      <td>3</td>\n",
       "      <td>2</td>\n",
       "      <td>1</td>\n",
       "    </tr>\n",
       "    <tr>\n",
       "      <th>283</th>\n",
       "      <td>1</td>\n",
       "      <td>3</td>\n",
       "      <td>1</td>\n",
       "      <td>4</td>\n",
       "      <td>2</td>\n",
       "      <td>2</td>\n",
       "      <td>1</td>\n",
       "    </tr>\n",
       "    <tr>\n",
       "      <th>379</th>\n",
       "      <td>0</td>\n",
       "      <td>3</td>\n",
       "      <td>1</td>\n",
       "      <td>4</td>\n",
       "      <td>2</td>\n",
       "      <td>2</td>\n",
       "      <td>1</td>\n",
       "    </tr>\n",
       "    <tr>\n",
       "      <th>575</th>\n",
       "      <td>0</td>\n",
       "      <td>3</td>\n",
       "      <td>1</td>\n",
       "      <td>4</td>\n",
       "      <td>2</td>\n",
       "      <td>2</td>\n",
       "      <td>1</td>\n",
       "    </tr>\n",
       "    <tr>\n",
       "      <th>265</th>\n",
       "      <td>0</td>\n",
       "      <td>2</td>\n",
       "      <td>1</td>\n",
       "      <td>1</td>\n",
       "      <td>2</td>\n",
       "      <td>2</td>\n",
       "      <td>1</td>\n",
       "    </tr>\n",
       "    <tr>\n",
       "      <th>487</th>\n",
       "      <td>0</td>\n",
       "      <td>1</td>\n",
       "      <td>1</td>\n",
       "      <td>1</td>\n",
       "      <td>3</td>\n",
       "      <td>0</td>\n",
       "      <td>1</td>\n",
       "    </tr>\n",
       "    <tr>\n",
       "      <th>762</th>\n",
       "      <td>1</td>\n",
       "      <td>3</td>\n",
       "      <td>1</td>\n",
       "      <td>4</td>\n",
       "      <td>2</td>\n",
       "      <td>0</td>\n",
       "      <td>1</td>\n",
       "    </tr>\n",
       "    <tr>\n",
       "      <th>602</th>\n",
       "      <td>0</td>\n",
       "      <td>1</td>\n",
       "      <td>1</td>\n",
       "      <td>4</td>\n",
       "      <td>3</td>\n",
       "      <td>2</td>\n",
       "      <td>1</td>\n",
       "    </tr>\n",
       "    <tr>\n",
       "      <th>322</th>\n",
       "      <td>1</td>\n",
       "      <td>2</td>\n",
       "      <td>0</td>\n",
       "      <td>4</td>\n",
       "      <td>2</td>\n",
       "      <td>1</td>\n",
       "      <td>1</td>\n",
       "    </tr>\n",
       "    <tr>\n",
       "      <th>884</th>\n",
       "      <td>0</td>\n",
       "      <td>3</td>\n",
       "      <td>1</td>\n",
       "      <td>4</td>\n",
       "      <td>2</td>\n",
       "      <td>2</td>\n",
       "      <td>1</td>\n",
       "    </tr>\n",
       "  </tbody>\n",
       "</table>\n",
       "</div>"
      ],
      "text/plain": [
       "     Survived  Pclass  Sex  Age  Fare  Embarked  FamilyNumber\n",
       "285         0       3    1    1     2         0             1\n",
       "858         1       3    0    4     2         0             4\n",
       "813         0       3    0    0     3         2             7\n",
       "12          0       3    1    4     2         2             1\n",
       "683         0       3    1    3     3         2             8\n",
       "397         0       2    1    1     3         2             1\n",
       "283         1       3    1    4     2         2             1\n",
       "379         0       3    1    4     2         2             1\n",
       "575         0       3    1    4     2         2             1\n",
       "265         0       2    1    1     2         2             1\n",
       "487         0       1    1    1     3         0             1\n",
       "762         1       3    1    4     2         0             1\n",
       "602         0       1    1    4     3         2             1\n",
       "322         1       2    0    4     2         1             1\n",
       "884         0       3    1    4     2         2             1"
      ]
     },
     "execution_count": 33,
     "metadata": {},
     "output_type": "execute_result"
    }
   ],
   "source": [
    "# Now the dataset is ready to work\n",
    "train_data.sample(15)"
   ]
  },
  {
   "cell_type": "code",
   "execution_count": 34,
   "metadata": {},
   "outputs": [],
   "source": [
    "# Export to xlsx\n",
    "table = pd.ExcelWriter('outputTitanic.xlsx')\n",
    "data_analysis.to_excel(table, 'Sheet1', index= False)\n",
    "table.save()"
   ]
  },
  {
   "cell_type": "code",
   "execution_count": 35,
   "metadata": {},
   "outputs": [],
   "source": [
    "train_data2 = train_data.copy()\n",
    "test_data2 = test_data.copy()"
   ]
  },
  {
   "cell_type": "markdown",
   "metadata": {},
   "source": [
    "## 3) Predict the survivors"
   ]
  },
  {
   "cell_type": "code",
   "execution_count": 36,
   "metadata": {},
   "outputs": [],
   "source": [
    "# Defining the X and Y train\n",
    "X_train = train_data2.drop(['Survived'], axis=1)\n",
    "Y_train = train_data2['Survived']"
   ]
  },
  {
   "cell_type": "code",
   "execution_count": 37,
   "metadata": {},
   "outputs": [],
   "source": [
    "# Defining the X and Y test\n",
    "X_test = test_data2\n",
    "Y_test = test_Yreal"
   ]
  },
  {
   "cell_type": "code",
   "execution_count": 38,
   "metadata": {},
   "outputs": [],
   "source": [
    "# The data set is already slit, so now, i will import de models.\n",
    "\n",
    "from sklearn.svm import SVC\n",
    "from sklearn.neighbors import KNeighborsClassifier\n",
    "from sklearn.naive_bayes import GaussianNB\n",
    "from sklearn.linear_model import SGDClassifier\n",
    "from sklearn.tree import DecisionTreeClassifier\n",
    "from sklearn.ensemble import RandomForestClassifier\n",
    "from sklearn.ensemble import GradientBoostingClassifier\n",
    "from sklearn.ensemble import AdaBoostClassifier\n",
    "from sklearn.ensemble import BaggingClassifier\n",
    "\n",
    "from sklearn.metrics import accuracy_score\n",
    "from sklearn.metrics import confusion_matrix\n",
    "from sklearn.metrics import explained_variance_score"
   ]
  },
  {
   "cell_type": "code",
   "execution_count": 39,
   "metadata": {},
   "outputs": [
    {
     "name": "stdout",
     "output_type": "stream",
     "text": [
      "[[254  12]\n",
      " [  8 144]]\n"
     ]
    },
    {
     "name": "stderr",
     "output_type": "stream",
     "text": [
      "C:\\Users\\Marcos Rocha\\Anaconda3\\lib\\site-packages\\sklearn\\svm\\base.py:196: FutureWarning: The default value of gamma will change from 'auto' to 'scale' in version 0.22 to account better for unscaled features. Set gamma explicitly to 'auto' or 'scale' to avoid this warning.\n",
      "  \"avoid this warning.\", FutureWarning)\n"
     ]
    }
   ],
   "source": [
    "# SVC\n",
    "\n",
    "model_SVC = SVC()\n",
    "model_SVC.fit(X_train, Y_train.ravel())\n",
    "SVC_predict = model_SVC.predict(X_test)\n",
    "\n",
    "acc_SVC = accuracy_score(test_Yreal, SVC_predict)\n",
    "cm_SVC = confusion_matrix(test_Yreal, SVC_predict)\n",
    "print(cm_SVC)"
   ]
  },
  {
   "cell_type": "code",
   "execution_count": 40,
   "metadata": {},
   "outputs": [
    {
     "name": "stdout",
     "output_type": "stream",
     "text": [
      "[[254  12]\n",
      " [  8 144]]\n"
     ]
    }
   ],
   "source": [
    "# Decision Tree\n",
    "\n",
    "model_DT = DecisionTreeClassifier()\n",
    "model_DT.fit(X_train, Y_train.ravel())\n",
    "DT_predict = model_SVC.predict(X_test)\n",
    "\n",
    "acc_DT = accuracy_score(test_Yreal, DT_predict)\n",
    "cm_DT = confusion_matrix(test_Yreal, DT_predict)\n",
    "print(cm_DT)"
   ]
  },
  {
   "cell_type": "code",
   "execution_count": 41,
   "metadata": {},
   "outputs": [
    {
     "name": "stdout",
     "output_type": "stream",
     "text": [
      "[[229  37]\n",
      " [ 31 121]]\n"
     ]
    }
   ],
   "source": [
    "model_KNN = KNeighborsClassifier()\n",
    "model_KNN.fit(X_train, Y_train.ravel())\n",
    "KNN_predict = model_KNN.predict(X_test)\n",
    "\n",
    "acc_KNN = accuracy_score(test_Yreal, KNN_predict)\n",
    "cm_KNN = confusion_matrix(test_Yreal, KNN_predict)\n",
    "print(cm_KNN)"
   ]
  },
  {
   "cell_type": "code",
   "execution_count": 42,
   "metadata": {},
   "outputs": [
    {
     "name": "stdout",
     "output_type": "stream",
     "text": [
      "[[225  41]\n",
      " [  6 146]]\n"
     ]
    }
   ],
   "source": [
    "model_NB = GaussianNB()\n",
    "model_NB.fit(X_train, Y_train.ravel())\n",
    "NB_predict = model_NB.predict(X_test)\n",
    "\n",
    "acc_NB = accuracy_score(test_Yreal, NB_predict)\n",
    "cm_NB = confusion_matrix(test_Yreal, NB_predict)\n",
    "print(cm_NB)"
   ]
  },
  {
   "cell_type": "code",
   "execution_count": 43,
   "metadata": {},
   "outputs": [
    {
     "name": "stdout",
     "output_type": "stream",
     "text": [
      "[[  3 263]\n",
      " [  0 152]]\n"
     ]
    },
    {
     "name": "stderr",
     "output_type": "stream",
     "text": [
      "C:\\Users\\Marcos Rocha\\Anaconda3\\lib\\site-packages\\sklearn\\linear_model\\stochastic_gradient.py:166: FutureWarning: max_iter and tol parameters have been added in SGDClassifier in 0.19. If both are left unset, they default to max_iter=5 and tol=None. If tol is not None, max_iter defaults to max_iter=1000. From 0.21, default max_iter will be 1000, and default tol will be 1e-3.\n",
      "  FutureWarning)\n"
     ]
    }
   ],
   "source": [
    "model_SGD = SGDClassifier()\n",
    "model_SGD.fit(X_train, Y_train.ravel())\n",
    "SGD_predict = model_SGD.predict(X_test)\n",
    "\n",
    "acc_SGD = accuracy_score(test_Yreal, SGD_predict)\n",
    "cm_SGD = confusion_matrix(test_Yreal, SGD_predict)\n",
    "print(cm_SGD)"
   ]
  },
  {
   "cell_type": "code",
   "execution_count": 44,
   "metadata": {},
   "outputs": [
    {
     "name": "stdout",
     "output_type": "stream",
     "text": [
      "[[256  10]\n",
      " [ 20 132]]\n"
     ]
    }
   ],
   "source": [
    "GB_model = GradientBoostingClassifier()\n",
    "GB_model.fit(X_train, Y_train.ravel())\n",
    "GB_predict = GB_model.predict(X_test)\n",
    "\n",
    "acc_GB = accuracy_score(test_Yreal, GB_predict)\n",
    "cm_GB = confusion_matrix(test_Yreal, GB_predict)\n",
    "print(cm_GB)"
   ]
  },
  {
   "cell_type": "code",
   "execution_count": 45,
   "metadata": {},
   "outputs": [
    {
     "name": "stdout",
     "output_type": "stream",
     "text": [
      "[[241  25]\n",
      " [ 32 120]]\n"
     ]
    },
    {
     "name": "stderr",
     "output_type": "stream",
     "text": [
      "C:\\Users\\Marcos Rocha\\Anaconda3\\lib\\site-packages\\sklearn\\ensemble\\forest.py:246: FutureWarning: The default value of n_estimators will change from 10 in version 0.20 to 100 in 0.22.\n",
      "  \"10 in version 0.20 to 100 in 0.22.\", FutureWarning)\n"
     ]
    }
   ],
   "source": [
    "RF_model = RandomForestClassifier()\n",
    "RF_model.fit(X_train, Y_train.ravel())\n",
    "RF_predict = RF_model.predict(X_test)\n",
    "\n",
    "acc_RF = accuracy_score(test_Yreal, RF_predict)\n",
    "cm_RF = confusion_matrix(test_Yreal, RF_predict)\n",
    "print(cm_RF)"
   ]
  },
  {
   "cell_type": "code",
   "execution_count": 46,
   "metadata": {},
   "outputs": [
    {
     "name": "stdout",
     "output_type": "stream",
     "text": [
      "[[247  19]\n",
      " [  8 144]]\n"
     ]
    }
   ],
   "source": [
    "AD_model = AdaBoostClassifier()\n",
    "AD_model.fit(X_train, Y_train.ravel())\n",
    "AD_predict = AD_model.predict(X_test)\n",
    "\n",
    "acc_AD = accuracy_score(test_Yreal, AD_predict)\n",
    "cm_AD = confusion_matrix(test_Yreal, AD_predict)\n",
    "print(cm_AD)"
   ]
  },
  {
   "cell_type": "code",
   "execution_count": 47,
   "metadata": {},
   "outputs": [
    {
     "name": "stdout",
     "output_type": "stream",
     "text": [
      "[[243  23]\n",
      " [ 38 114]]\n"
     ]
    }
   ],
   "source": [
    "BC_model = BaggingClassifier()\n",
    "BC_model.fit(X_train, Y_train.ravel())\n",
    "BC_predict = BC_model.predict(X_test)\n",
    "\n",
    "acc_BC = accuracy_score(test_Yreal, BC_predict)\n",
    "cm_BC = confusion_matrix(test_Yreal, BC_predict)\n",
    "print(cm_BC)"
   ]
  },
  {
   "cell_type": "code",
   "execution_count": 48,
   "metadata": {},
   "outputs": [],
   "source": [
    "### Results"
   ]
  },
  {
   "cell_type": "code",
   "execution_count": 49,
   "metadata": {},
   "outputs": [],
   "source": [
    "results = [acc_AD,acc_BC,acc_DT,acc_GB,acc_KNN,acc_NB,acc_RF,acc_SGD,acc_SVC]\n",
    "cm2 = [cm_AD,cm_BC,cm_DT,cm_GB,cm_KNN,cm_NB,cm_RF,cm_SGD,cm_SVC]\n",
    "models = [\"AdaBoostClassifier\", \"BaggingClassifier\", \"DecisionTreeClassifier\", \"GaussianNB\", \"KNeighborsClassifier\", \n",
    "         \"Naive Bayes\", \"Random Forest\", \"SGDClassifier\", \"Support Vector Classifier\"]\n",
    "data = [{'AdaBoostClassifier':acc_AD, 'BaggingClassifier':acc_BC,\"DecisionTreeClassifier\":acc_DT, \"GaussianNB\":acc_GB, \"KNeighborsClassifier\":acc_KNN, \"Naive Bayes\":acc_NB, \n",
    "        \"Random Forest\": acc_RF, \"SGDClassifier\": acc_SGD, \"Support Vector Classifier\":acc_SVC}]\n",
    "tableone = pd.DataFrame(data)\n",
    "tableone.index = ['Accuracy']\n"
   ]
  },
  {
   "cell_type": "code",
   "execution_count": 50,
   "metadata": {},
   "outputs": [
    {
     "data": {
      "text/html": [
       "<div>\n",
       "<style scoped>\n",
       "    .dataframe tbody tr th:only-of-type {\n",
       "        vertical-align: middle;\n",
       "    }\n",
       "\n",
       "    .dataframe tbody tr th {\n",
       "        vertical-align: top;\n",
       "    }\n",
       "\n",
       "    .dataframe thead th {\n",
       "        text-align: right;\n",
       "    }\n",
       "</style>\n",
       "<table border=\"1\" class=\"dataframe\">\n",
       "  <thead>\n",
       "    <tr style=\"text-align: right;\">\n",
       "      <th></th>\n",
       "      <th>AdaBoostClassifier</th>\n",
       "      <th>BaggingClassifier</th>\n",
       "      <th>DecisionTreeClassifier</th>\n",
       "      <th>GaussianNB</th>\n",
       "      <th>KNeighborsClassifier</th>\n",
       "      <th>Naive Bayes</th>\n",
       "      <th>Random Forest</th>\n",
       "      <th>SGDClassifier</th>\n",
       "      <th>Support Vector Classifier</th>\n",
       "    </tr>\n",
       "  </thead>\n",
       "  <tbody>\n",
       "    <tr>\n",
       "      <th>Accuracy</th>\n",
       "      <td>0.935407</td>\n",
       "      <td>0.854067</td>\n",
       "      <td>0.952153</td>\n",
       "      <td>0.92823</td>\n",
       "      <td>0.837321</td>\n",
       "      <td>0.88756</td>\n",
       "      <td>0.863636</td>\n",
       "      <td>0.370813</td>\n",
       "      <td>0.952153</td>\n",
       "    </tr>\n",
       "  </tbody>\n",
       "</table>\n",
       "</div>"
      ],
      "text/plain": [
       "          AdaBoostClassifier  BaggingClassifier  DecisionTreeClassifier  \\\n",
       "Accuracy            0.935407           0.854067                0.952153   \n",
       "\n",
       "          GaussianNB  KNeighborsClassifier  Naive Bayes  Random Forest  \\\n",
       "Accuracy     0.92823              0.837321      0.88756       0.863636   \n",
       "\n",
       "          SGDClassifier  Support Vector Classifier  \n",
       "Accuracy       0.370813                   0.952153  "
      ]
     },
     "execution_count": 50,
     "metadata": {},
     "output_type": "execute_result"
    }
   ],
   "source": [
    "tableone"
   ]
  },
  {
   "cell_type": "code",
   "execution_count": null,
   "metadata": {},
   "outputs": [],
   "source": [
    "# The best was SUPPORT VECTOR Classifier !!!"
   ]
  },
  {
   "cell_type": "code",
   "execution_count": null,
   "metadata": {},
   "outputs": [],
   "source": [
    "predictioN = SVC_predict\n",
    "gender_submission = pd.read_csv(\"gender_submission.csv\")"
   ]
  },
  {
   "cell_type": "code",
   "execution_count": null,
   "metadata": {},
   "outputs": [],
   "source": [
    "submissionKaggle = pd.DataFrame({'PassengerId':gender_submission['PassengerId'],'Survived':predictioN})\n",
    "filename = 'SupportVectorClassifier.csv'\n",
    "submissionKaggle.to_csv(filename,index=False)\n",
    "print('Saved file: ' + filename)"
   ]
  },
  {
   "cell_type": "code",
   "execution_count": null,
   "metadata": {},
   "outputs": [],
   "source": []
  }
 ],
 "metadata": {
  "kernelspec": {
   "display_name": "Python 3",
   "language": "python",
   "name": "python3"
  },
  "language_info": {
   "codemirror_mode": {
    "name": "ipython",
    "version": 3
   },
   "file_extension": ".py",
   "mimetype": "text/x-python",
   "name": "python",
   "nbconvert_exporter": "python",
   "pygments_lexer": "ipython3",
   "version": "3.7.1"
  }
 },
 "nbformat": 4,
 "nbformat_minor": 2
}
