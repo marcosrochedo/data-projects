{
 "cells": [
  {
   "cell_type": "code",
   "execution_count": 25,
   "metadata": {},
   "outputs": [],
   "source": [
    "# Import modules\n",
    "\n",
    "import pandas as pd\n",
    "import numpy as np\n",
    "import matplotlib.pyplot as plt\n",
    "import seaborn as sns\n",
    "%matplotlib inline\n",
    "\n",
    "# Import dataset as datafram\n",
    "df = pd.read_csv(\"heart.csv\")"
   ]
  },
  {
   "cell_type": "code",
   "execution_count": 20,
   "metadata": {},
   "outputs": [],
   "source": [
    "# Preprocessing data"
   ]
  },
  {
   "cell_type": "markdown",
   "metadata": {},
   "source": [
    "1. age = idade\n",
    "2. sex = sexo\n",
    "3. cp = tipo de dor no peito (4 valores)\n",
    "4. trestbps = pressão arterial em repouso\n",
    "5. chol = colestoral sérico em mg / dl\n",
    "6. fbs =  açúcar no sangue em jejum> 120 mg / dl\n",
    "7. restecg = resultados eletrocardiográficos em repouso (valores 0,1,2)\n",
    "8. thalach = frequência cardíaca máxima alcançada\n",
    "9. exang = angina induzida por exercício\n",
    "10. oldpeak = depressão ST induzida pelo exercício em relação ao repouso\n",
    "11. slope = a inclinação do segmento ST de pico do exercício\n",
    "12. ca = número de grandes embarcações (0-3) coloridas por flourosopy\n",
    "13. thal = 3 = normal; 6 = defeito fixo; 7 = defeito reversível"
   ]
  },
  {
   "cell_type": "code",
   "execution_count": 26,
   "metadata": {},
   "outputs": [
    {
     "data": {
      "text/html": [
       "<div>\n",
       "<style scoped>\n",
       "    .dataframe tbody tr th:only-of-type {\n",
       "        vertical-align: middle;\n",
       "    }\n",
       "\n",
       "    .dataframe tbody tr th {\n",
       "        vertical-align: top;\n",
       "    }\n",
       "\n",
       "    .dataframe thead th {\n",
       "        text-align: right;\n",
       "    }\n",
       "</style>\n",
       "<table border=\"1\" class=\"dataframe\">\n",
       "  <thead>\n",
       "    <tr style=\"text-align: right;\">\n",
       "      <th></th>\n",
       "      <th>age</th>\n",
       "      <th>sex</th>\n",
       "      <th>cp</th>\n",
       "      <th>trestbps</th>\n",
       "      <th>chol</th>\n",
       "      <th>fbs</th>\n",
       "      <th>restecg</th>\n",
       "      <th>thalach</th>\n",
       "      <th>exang</th>\n",
       "      <th>oldpeak</th>\n",
       "      <th>slope</th>\n",
       "      <th>ca</th>\n",
       "      <th>thal</th>\n",
       "      <th>target</th>\n",
       "    </tr>\n",
       "  </thead>\n",
       "  <tbody>\n",
       "    <tr>\n",
       "      <th>0</th>\n",
       "      <td>63</td>\n",
       "      <td>1</td>\n",
       "      <td>3</td>\n",
       "      <td>145</td>\n",
       "      <td>233</td>\n",
       "      <td>1</td>\n",
       "      <td>0</td>\n",
       "      <td>150</td>\n",
       "      <td>0</td>\n",
       "      <td>2.3</td>\n",
       "      <td>0</td>\n",
       "      <td>0</td>\n",
       "      <td>1</td>\n",
       "      <td>1</td>\n",
       "    </tr>\n",
       "    <tr>\n",
       "      <th>1</th>\n",
       "      <td>37</td>\n",
       "      <td>1</td>\n",
       "      <td>2</td>\n",
       "      <td>130</td>\n",
       "      <td>250</td>\n",
       "      <td>0</td>\n",
       "      <td>1</td>\n",
       "      <td>187</td>\n",
       "      <td>0</td>\n",
       "      <td>3.5</td>\n",
       "      <td>0</td>\n",
       "      <td>0</td>\n",
       "      <td>2</td>\n",
       "      <td>1</td>\n",
       "    </tr>\n",
       "    <tr>\n",
       "      <th>2</th>\n",
       "      <td>41</td>\n",
       "      <td>0</td>\n",
       "      <td>1</td>\n",
       "      <td>130</td>\n",
       "      <td>204</td>\n",
       "      <td>0</td>\n",
       "      <td>0</td>\n",
       "      <td>172</td>\n",
       "      <td>0</td>\n",
       "      <td>1.4</td>\n",
       "      <td>2</td>\n",
       "      <td>0</td>\n",
       "      <td>2</td>\n",
       "      <td>1</td>\n",
       "    </tr>\n",
       "    <tr>\n",
       "      <th>3</th>\n",
       "      <td>56</td>\n",
       "      <td>1</td>\n",
       "      <td>1</td>\n",
       "      <td>120</td>\n",
       "      <td>236</td>\n",
       "      <td>0</td>\n",
       "      <td>1</td>\n",
       "      <td>178</td>\n",
       "      <td>0</td>\n",
       "      <td>0.8</td>\n",
       "      <td>2</td>\n",
       "      <td>0</td>\n",
       "      <td>2</td>\n",
       "      <td>1</td>\n",
       "    </tr>\n",
       "    <tr>\n",
       "      <th>4</th>\n",
       "      <td>57</td>\n",
       "      <td>0</td>\n",
       "      <td>0</td>\n",
       "      <td>120</td>\n",
       "      <td>354</td>\n",
       "      <td>0</td>\n",
       "      <td>1</td>\n",
       "      <td>163</td>\n",
       "      <td>1</td>\n",
       "      <td>0.6</td>\n",
       "      <td>2</td>\n",
       "      <td>0</td>\n",
       "      <td>2</td>\n",
       "      <td>1</td>\n",
       "    </tr>\n",
       "  </tbody>\n",
       "</table>\n",
       "</div>"
      ],
      "text/plain": [
       "   age  sex  cp  trestbps  chol  fbs  restecg  thalach  exang  oldpeak  slope  \\\n",
       "0   63    1   3       145   233    1        0      150      0      2.3      0   \n",
       "1   37    1   2       130   250    0        1      187      0      3.5      0   \n",
       "2   41    0   1       130   204    0        0      172      0      1.4      2   \n",
       "3   56    1   1       120   236    0        1      178      0      0.8      2   \n",
       "4   57    0   0       120   354    0        1      163      1      0.6      2   \n",
       "\n",
       "   ca  thal  target  \n",
       "0   0     1       1  \n",
       "1   0     2       1  \n",
       "2   0     2       1  \n",
       "3   0     2       1  \n",
       "4   0     2       1  "
      ]
     },
     "execution_count": 26,
     "metadata": {},
     "output_type": "execute_result"
    }
   ],
   "source": [
    "# Analise da estrutura dos dados\n",
    "\n",
    "df.head()"
   ]
  },
  {
   "cell_type": "code",
   "execution_count": 27,
   "metadata": {},
   "outputs": [
    {
     "name": "stdout",
     "output_type": "stream",
     "text": [
      "age           int64\n",
      "sex           int64\n",
      "cp            int64\n",
      "trestbps      int64\n",
      "chol          int64\n",
      "fbs           int64\n",
      "restecg       int64\n",
      "thalach       int64\n",
      "exang         int64\n",
      "oldpeak     float64\n",
      "slope         int64\n",
      "ca            int64\n",
      "thal          int64\n",
      "target        int64\n",
      "dtype: object\n",
      "\n",
      "Os dados estão em sua maioria no formato int, apenas a variável \"oldpeak\" em formato float.\n",
      "As variáveis \"sex, cp, fbs, restecg, exang, slope, ca, thal, target\" apesar de estarem em formato \"int\" podem ser reclassificadas como do tipo \"category\" pois são dados categóricos. \n"
     ]
    }
   ],
   "source": [
    "# Analise dos tipos dos dados\n",
    "\n",
    "print(df.dtypes)\n",
    "print('\\nOs dados estão em sua maioria no formato int, apenas a variável \"oldpeak\" em formato float.')\n",
    "print('As variáveis \"sex, cp, fbs, restecg, exang, slope, ca, thal, target\" apesar de estarem em formato \"int\" podem ser reclassificadas como do tipo \"category\" pois são dados categóricos. ')"
   ]
  },
  {
   "cell_type": "code",
   "execution_count": 30,
   "metadata": {},
   "outputs": [
    {
     "name": "stdout",
     "output_type": "stream",
     "text": [
      "age         0\n",
      "sex         0\n",
      "cp          0\n",
      "trestbps    0\n",
      "chol        0\n",
      "fbs         0\n",
      "restecg     0\n",
      "thalach     0\n",
      "exang       0\n",
      "oldpeak     0\n",
      "slope       0\n",
      "ca          0\n",
      "thal        0\n",
      "target      0\n",
      "dtype: int64\n",
      "\n",
      " Há valores missing no dataset:  False\n"
     ]
    }
   ],
   "source": [
    "# Check missing data\n",
    "\n",
    "missing = df.isnull().sum()\n",
    "print(missing)\n",
    "\n",
    "answer = df.isnull().values.any()\n",
    "print(\"\\nHá valores missing no dataset: \", answer)"
   ]
  },
  {
   "cell_type": "code",
   "execution_count": 36,
   "metadata": {},
   "outputs": [
    {
     "name": "stdout",
     "output_type": "stream",
     "text": [
      "              age    trestbps        chol     thalach     oldpeak\n",
      "count  303.000000  303.000000  303.000000  303.000000  303.000000\n",
      "mean    54.366337  131.623762  246.264026  149.646865    1.039604\n",
      "std      9.082101   17.538143   51.830751   22.905161    1.161075\n",
      "min     29.000000   94.000000  126.000000   71.000000    0.000000\n",
      "25%     47.500000  120.000000  211.000000  133.500000    0.000000\n",
      "50%     55.000000  130.000000  240.000000  153.000000    0.800000\n",
      "75%     61.000000  140.000000  274.500000  166.000000    1.600000\n",
      "max     77.000000  200.000000  564.000000  202.000000    6.200000\n",
      "\n",
      "Apenas foi considerado os dados do tipo quantitativo\n",
      "Aparentemente os dados parece estar dentro da realidade\n"
     ]
    }
   ],
   "source": [
    "# Analise de outliers\n",
    "\n",
    "print(df[[\"age\", \"trestbps\", \"chol\", \"thalach\", \"oldpeak\"]].describe())\n",
    "print(\"\\nApenas foi considerado os dados do tipo quantitativo.\")\n",
    "print(\"Aparentemente os dados parece estar dentro da realidade.\")"
   ]
  },
  {
   "cell_type": "markdown",
   "metadata": {},
   "source": [
    "##  Exploratory data analysis"
   ]
  },
  {
   "cell_type": "code",
   "execution_count": null,
   "metadata": {},
   "outputs": [],
   "source": [
    "\n",
    "# Any question that are necessary to answer\n",
    "\n",
    "# Who has more heart disease men or women?\n",
    "# Number of people with heart disease?\n",
    "# How old is the diagnosis of heart disease most often?\n",
    "# People without heart disease can raise heart rate?\n",
    "# People with> 120mg blood sugar higher chances of heart disease?\n",
    "# Are people with high cholesterol prone to heart disease?\n",
    "# Which type of chest pain is more frequently when the people is sick?"
   ]
  },
  {
   "cell_type": "code",
   "execution_count": 25,
   "metadata": {},
   "outputs": [],
   "source": [
    "# 1. age = idade\n",
    "# 2. sex = sexo\n",
    "# 3. cp = tipo de dor no peito (4 valores)\n",
    "# 4. trestbps = pressão arterial em repouso\n",
    "# 5. chol = colestoral sérico em mg / dl\n",
    "# 6. fbs =  açúcar no sangue em jejum> 120 mg / dl\n",
    "# 7. restecg = resultados eletrocardiográficos em repouso (valores 0,1,2)\n",
    "# 8. thalach = frequência cardíaca máxima alcançada\n",
    "# 9. exang = angina induzida por exercício\n",
    "# 10. oldpeak = depressão ST induzida pelo exercício em relação ao repouso\n",
    "# 11. slope = a inclinação do segmento ST de pico do exercício\n",
    "# 12. ca = número de grandes embarcações (0-3) coloridas por flourosopy\n",
    "# 13. thal = 3 = normal; 6 = defeito fixo; 7 = defeito reversível"
   ]
  },
  {
   "cell_type": "code",
   "execution_count": 118,
   "metadata": {},
   "outputs": [
    {
     "name": "stdout",
     "output_type": "stream",
     "text": [
      "[207, 96] ['Male', 'Female']\n"
     ]
    },
    {
     "data": {
      "image/png": "[encoded data removed]",
      "text/plain": [
       "<Figure size 432x288 with 1 Axes>"
      ]
     },
     "metadata": {},
     "output_type": "display_data"
    },
    {
     "name": "stdout",
     "output_type": "stream",
     "text": [
      "Quantity of Male is bigger than Female in this dataset\n"
     ]
    }
   ],
   "source": [
    "# Pie Chart about % male and female in dataset\n",
    "\n",
    "sex = heart['sex']\n",
    "val_counts = sex.value_counts()\n",
    "sizes = list(val_counts.values)\n",
    "labels = ['Male', 'Female']\n",
    "colors = ['#6699ff', '#ff66ff']\n",
    "\n",
    "print(sizes, labels)\n",
    "fig, ax = plt.subplots()\n",
    "ax.pie(sizes, labels=labels, shadow=True, startangle=90, explode=(0.1, 0), autopct='%1.1f%%', colors= colors)\n",
    "ax.axis('equal')\n",
    "plt.title('Male/Female Ratio')\n",
    "plt.show()\n",
    "print('Quantity of Male is bigger than Female in this dataset')"
   ]
  },
  {
   "cell_type": "code",
   "execution_count": 119,
   "metadata": {},
   "outputs": [
    {
     "name": "stdout",
     "output_type": "stream",
     "text": [
      "[165, 138] ['Heart Disease', 'No Disease']\n"
     ]
    },
    {
     "data": {
      "image/png": "[encoded data removed]",
      "text/plain": [
       "<Figure size 432x288 with 1 Axes>"
      ]
     },
     "metadata": {},
     "output_type": "display_data"
    },
    {
     "name": "stdout",
     "output_type": "stream",
     "text": [
      "Quantity of peoples sick is bigger than healthy peoples\n"
     ]
    }
   ],
   "source": [
    "# Pie chart about proportion of peoples have Heart disease a haven't heart disease\n",
    "\n",
    "target = heart['target']\n",
    "target_counts = target.value_counts()\n",
    "sizes2 = list(target_counts.values)\n",
    "labels2 = ['Heart Disease', 'No Disease']\n",
    "print(sizes2, labels2)\n",
    "\n",
    "fig1, ax1 = plt.subplots()\n",
    "ax1.pie(sizes2 , labels=labels2,shadow=True, startangle=190, explode=(0.1, 0), autopct='%1.1f%%')\n",
    "ax1.axis('equal')\n",
    "plt.title('Proportion of patients and healthy')\n",
    "plt.show()\n",
    "\n",
    "print('Quantity of peoples sick is bigger than healthy peoples')"
   ]
  },
  {
   "cell_type": "code",
   "execution_count": 125,
   "metadata": {},
   "outputs": [
    {
     "data": {
      "image/png": "[encoded data removed]",
      "text/plain": [
       "<Figure size 1512x576 with 1 Axes>"
      ]
     },
     "metadata": {
      "needs_background": "light"
     },
     "output_type": "display_data"
    },
    {
     "name": "stdout",
     "output_type": "stream",
     "text": [
      "In this dataset, it seems that females has more probability to have Heart Disease than males\n"
     ]
    }
   ],
   "source": [
    "# In this graph we will analyze relationship between Sex x Disease\n",
    "\n",
    "pd.crosstab(heart.sex, heart.target).plot(kind=\"bar\", figsize = (21,8))\n",
    "plt.title('Frequency between Sex/Disease')\n",
    "plt.xlabel('Sex (0 = Female / 1 = Male)')\n",
    "plt.legend([\"Haven't Disease\", \"Have Disease\"])\n",
    "plt.ylabel('Frequency')\n",
    "plt.show()\n",
    "\n",
    "print('In this dataset, it seems that females has more probability to have Heart Disease than males')"
   ]
  },
  {
   "cell_type": "code",
   "execution_count": 126,
   "metadata": {},
   "outputs": [
    {
     "data": {
      "text/html": [
       "<div>\n",
       "<style scoped>\n",
       "    .dataframe tbody tr th:only-of-type {\n",
       "        vertical-align: middle;\n",
       "    }\n",
       "\n",
       "    .dataframe tbody tr th {\n",
       "        vertical-align: top;\n",
       "    }\n",
       "\n",
       "    .dataframe thead th {\n",
       "        text-align: right;\n",
       "    }\n",
       "</style>\n",
       "<table border=\"1\" class=\"dataframe\">\n",
       "  <thead>\n",
       "    <tr style=\"text-align: right;\">\n",
       "      <th></th>\n",
       "      <th>age</th>\n",
       "      <th>sex</th>\n",
       "      <th>cp</th>\n",
       "      <th>trestbps</th>\n",
       "      <th>chol</th>\n",
       "      <th>fbs</th>\n",
       "      <th>restecg</th>\n",
       "      <th>thalach</th>\n",
       "      <th>exang</th>\n",
       "      <th>oldpeak</th>\n",
       "      <th>slope</th>\n",
       "      <th>ca</th>\n",
       "      <th>thal</th>\n",
       "    </tr>\n",
       "    <tr>\n",
       "      <th>target</th>\n",
       "      <th></th>\n",
       "      <th></th>\n",
       "      <th></th>\n",
       "      <th></th>\n",
       "      <th></th>\n",
       "      <th></th>\n",
       "      <th></th>\n",
       "      <th></th>\n",
       "      <th></th>\n",
       "      <th></th>\n",
       "      <th></th>\n",
       "      <th></th>\n",
       "      <th></th>\n",
       "    </tr>\n",
       "  </thead>\n",
       "  <tbody>\n",
       "    <tr>\n",
       "      <th>0</th>\n",
       "      <td>56.601449</td>\n",
       "      <td>0.826087</td>\n",
       "      <td>0.478261</td>\n",
       "      <td>134.398551</td>\n",
       "      <td>251.086957</td>\n",
       "      <td>0.159420</td>\n",
       "      <td>0.449275</td>\n",
       "      <td>139.101449</td>\n",
       "      <td>0.550725</td>\n",
       "      <td>1.585507</td>\n",
       "      <td>1.166667</td>\n",
       "      <td>1.166667</td>\n",
       "      <td>2.543478</td>\n",
       "    </tr>\n",
       "    <tr>\n",
       "      <th>1</th>\n",
       "      <td>52.496970</td>\n",
       "      <td>0.563636</td>\n",
       "      <td>1.375758</td>\n",
       "      <td>129.303030</td>\n",
       "      <td>242.230303</td>\n",
       "      <td>0.139394</td>\n",
       "      <td>0.593939</td>\n",
       "      <td>158.466667</td>\n",
       "      <td>0.139394</td>\n",
       "      <td>0.583030</td>\n",
       "      <td>1.593939</td>\n",
       "      <td>0.363636</td>\n",
       "      <td>2.121212</td>\n",
       "    </tr>\n",
       "  </tbody>\n",
       "</table>\n",
       "</div>"
      ],
      "text/plain": [
       "              age       sex        cp    trestbps        chol       fbs  \\\n",
       "target                                                                    \n",
       "0       56.601449  0.826087  0.478261  134.398551  251.086957  0.159420   \n",
       "1       52.496970  0.563636  1.375758  129.303030  242.230303  0.139394   \n",
       "\n",
       "         restecg     thalach     exang   oldpeak     slope        ca      thal  \n",
       "target                                                                          \n",
       "0       0.449275  139.101449  0.550725  1.585507  1.166667  1.166667  2.543478  \n",
       "1       0.593939  158.466667  0.139394  0.583030  1.593939  0.363636  2.121212  "
      ]
     },
     "execution_count": 126,
     "metadata": {},
     "output_type": "execute_result"
    }
   ],
   "source": [
    "heart.groupby('target').mean()"
   ]
  },
  {
   "cell_type": "code",
   "execution_count": 127,
   "metadata": {},
   "outputs": [
    {
     "name": "stdout",
     "output_type": "stream",
     "text": [
      "This table is very important to analyze this Dataset. Pessoas descobrem mais cedo esses tipos de doença, elas possuem dores mais fortes no peito, e uma frequencia cardiaca maior\n"
     ]
    }
   ],
   "source": [
    "print('This table is very important to analyze this Dataset. Pessoas descobrem mais cedo esses tipos de doença, elas possuem dores mais fortes no peito, e uma frequencia cardiaca maior')"
   ]
  },
  {
   "cell_type": "code",
   "execution_count": 102,
   "metadata": {},
   "outputs": [
    {
     "data": {
      "image/png": "[encoded data removed]",
      "text/plain": [
       "<Figure size 1440x432 with 1 Axes>"
      ]
     },
     "metadata": {
      "needs_background": "light"
     },
     "output_type": "display_data"
    }
   ],
   "source": [
    "# In this graph we will find relationship between Age and Heart Disease\n",
    "\n",
    "pd.crosstab(heart.age,heart.target).plot(kind=\"bar\",figsize=(20,6))\n",
    "plt.title('Heart Disease Frequency for Ages')\n",
    "plt.xlabel('Age')\n",
    "plt.ylabel('Frequency')\n",
    "plt.legend([\"Haven't Disease\", \"Have Disease\"])\n",
    "plt.savefig('heartDiseaseAndAges.png')\n",
    "plt.show()\n",
    "\n",
    "print('The symptoms of the disease in the heart is to appear between the age of 40-55 years')\n",
    "print('Pessoas acima de 55 anos tem uma probabilidade menor de ter doença do coração dado que nao tiveram antes')"
   ]
  },
  {
   "cell_type": "code",
   "execution_count": 123,
   "metadata": {},
   "outputs": [
    {
     "data": {
      "image/png": "[encoded data removed]",
      "text/plain": [
       "<Figure size 1440x432 with 1 Axes>"
      ]
     },
     "metadata": {
      "needs_background": "light"
     },
     "output_type": "display_data"
    },
    {
     "name": "stdout",
     "output_type": "stream",
     "text": [
      "In general, people who have a high heart rate above 150 bpm tend to have heart disease. \n"
     ]
    }
   ],
   "source": [
    "# In this crosstab plot we will find relationship between Heart Rate x Heart Disease \n",
    "\n",
    "pd.crosstab(heart.thalach, heart.target).plot(kind=\"bar\",figsize=(20,6))\n",
    "plt.title('Heart Disease Frequency for heart rate')\n",
    "plt.xlabel('Heart Rate')\n",
    "plt.ylabel('Frequency')\n",
    "plt.legend([\"Haven't Disease\", \"Have Disease\"])\n",
    "plt.show()\n",
    "\n",
    "print('In general, people who have a high heart rate above 150 bpm tend to have heart disease. ')"
   ]
  },
  {
   "cell_type": "code",
   "execution_count": 108,
   "metadata": {},
   "outputs": [
    {
     "data": {
      "image/png": "[encoded data removed]",
      "text/plain": [
       "<Figure size 432x288 with 1 Axes>"
      ]
     },
     "metadata": {
      "needs_background": "light"
     },
     "output_type": "display_data"
    }
   ],
   "source": [
    "plt.scatter(x=heart.age[heart.target==1], y=heart.thalach[(heart.target==1)], c=\"orange\")\n",
    "plt.scatter(x=heart.age[heart.target==0], y=heart.thalach[heart.target==0], c=\"blue\")\n",
    "plt.legend([\"Have Disease\", \"Haven't Disease\"])\n",
    "plt.xlabel(\"Age\")\n",
    "plt.ylabel(\"Maximum Heart Rate\")\n",
    "plt.show()"
   ]
  },
  {
   "cell_type": "code",
   "execution_count": 100,
   "metadata": {},
   "outputs": [
    {
     "data": {
      "image/png": "[encoded data removed]",
      "text/plain": [
       "<Figure size 1440x432 with 1 Axes>"
      ]
     },
     "metadata": {
      "needs_background": "light"
     },
     "output_type": "display_data"
    }
   ],
   "source": [
    "pd.crosstab(heart.fbs,heart.target).plot(kind=\"bar\",figsize=(20,6))\n",
    "plt.title('Relationship between have or havent disease with Sugar > 120mg/l in blood ')\n",
    "plt.xlabel(\"FBS > 120mg/dl (No = 0 / Yes = 1)\")\n",
    "plt.legend([\"Haven't Disease\", \"Have Disease\"])\n",
    "plt.ylabel(\"Frequency\")\n",
    "plt.show()"
   ]
  },
  {
   "cell_type": "code",
   "execution_count": 129,
   "metadata": {},
   "outputs": [
    {
     "data": {
      "image/png": "[encoded data removed]",
      "text/plain": [
       "<Figure size 432x288 with 1 Axes>"
      ]
     },
     "metadata": {
      "needs_background": "light"
     },
     "output_type": "display_data"
    },
    {
     "name": "stdout",
     "output_type": "stream",
     "text": [
      "There seems to be no relationship between sugar and heart problems in the short term.\n"
     ]
    }
   ],
   "source": [
    "plt.scatter(x=heart.age[heart.target==1], y=heart.chol[(heart.target==1)], c=\"orange\")\n",
    "plt.scatter(x=heart.age[heart.target==0], y=heart.chol[heart.target==0], c=\"blue\")\n",
    "plt.legend([\"Have Disease\", \"Haven't Disease\"])\n",
    "plt.xlabel(\"Age\")\n",
    "plt.ylabel(\"Maximum cholesterol\")\n",
    "plt.show()\n",
    "\n",
    "\n",
    "print('There seems to be no relationship between sugar and heart problems in the short term.')"
   ]
  },
  {
   "cell_type": "code",
   "execution_count": 131,
   "metadata": {},
   "outputs": [
    {
     "data": {
      "image/png": "[encoded data removed]",
      "text/plain": [
       "<Figure size 1080x432 with 1 Axes>"
      ]
     },
     "metadata": {
      "needs_background": "light"
     },
     "output_type": "display_data"
    },
    {
     "name": "stdout",
     "output_type": "stream",
     "text": [
      "Peoples with 1,2,3 Chest pain Type have a high chance of being sick\n",
      " The pain 2 is more frequently when the people is sick\n"
     ]
    }
   ],
   "source": [
    "pd.crosstab(heart.cp,heart.target).plot(kind=\"bar\",figsize=(15,6))\n",
    "plt.title('Heart Disease Frequency According To Chest Pain Type')\n",
    "plt.xlabel('Chest Pain Type')\n",
    "plt.xticks(rotation = 0)\n",
    "plt.legend([\"Haven't Disease\", \"Have Disease\"])\n",
    "plt.ylabel('Frequency of Disease or Not')\n",
    "plt.show()\n",
    "\n",
    "print(\"Peoples with 1,2,3 Chest pain Type have a high chance of being sick\")\n",
    "print(\" The pain 2 is more frequently when the people is sick\")"
   ]
  },
  {
   "cell_type": "markdown",
   "metadata": {},
   "source": [
    "## Creating machine learning model to predict who will have heart disease"
   ]
  },
  {
   "cell_type": "code",
   "execution_count": 140,
   "metadata": {},
   "outputs": [],
   "source": [
    "# Splitting of data - 75% for training data and 25% for test data\n",
    "# Importing the train_test_split\n",
    "\n",
    "from sklearn.model_selection import train_test_split"
   ]
  },
  {
   "cell_type": "code",
   "execution_count": 141,
   "metadata": {},
   "outputs": [],
   "source": [
    "# Variable target\n",
    "Y = heart.target.values\n",
    "\n",
    "# Variable prediction\n",
    "X = heart.drop(['target'], axis = 1)"
   ]
  },
  {
   "cell_type": "code",
   "execution_count": 142,
   "metadata": {},
   "outputs": [],
   "source": [
    "# Setting split rate\n",
    "split_test_size = 0.25"
   ]
  },
  {
   "cell_type": "code",
   "execution_count": 143,
   "metadata": {},
   "outputs": [],
   "source": [
    "# Creating test data and train data\n",
    "X_train, X_test, Y_train, Y_test = train_test_split(X, Y, test_size = split_test_size, random_state = 42)"
   ]
  },
  {
   "cell_type": "code",
   "execution_count": 145,
   "metadata": {},
   "outputs": [
    {
     "name": "stdout",
     "output_type": "stream",
     "text": [
      "74.92% nos dados de treino\n",
      "25.08% nos dados de teste\n"
     ]
    }
   ],
   "source": [
    "# Printing results\n",
    "\n",
    "print(\"{0:0.2f}% nos dados de treino\".format((len(X_train)/len(heart.index)) * 100))\n",
    "print(\"{0:0.2f}% nos dados de teste\".format((len(X_test)/len(heart.index)) * 100))"
   ]
  },
  {
   "cell_type": "code",
   "execution_count": 146,
   "metadata": {},
   "outputs": [],
   "source": [
    "# Building and Trainning Classification Model\n",
    "\n",
    "# Importing Classifier modules\n",
    "from sklearn.svm import SVC\n",
    "from sklearn.neighbors import KNeighborsClassifier\n",
    "from sklearn.naive_bayes import GaussianNB\n",
    "from sklearn.linear_model import SGDClassifier\n",
    "from sklearn.tree import DecisionTreeClassifier\n",
    "from sklearn.ensemble import RandomForestClassifier\n",
    "from sklearn.ensemble import GradientBoostingClassifier\n",
    "\n",
    "from sklearn.metrics import accuracy_score\n",
    "from sklearn.metrics import confusion_matrix"
   ]
  },
  {
   "cell_type": "code",
   "execution_count": 147,
   "metadata": {},
   "outputs": [
    {
     "name": "stdout",
     "output_type": "stream",
     "text": [
      "0.6973684210526315\n",
      "[[22 13]\n",
      " [10 31]]\n"
     ]
    }
   ],
   "source": [
    "model_KNN = KNeighborsClassifier()\n",
    "model_KNN.fit(X_train, Y_train.ravel())\n",
    "KNN_predict_test = model_KNN.predict(X_test)\n",
    "    \n",
    "acc_KNN = accuracy_score(Y_test, KNN_predict_test)\n",
    "print(acc_KNN)\n",
    "print(confusion_matrix(Y_test, KNN_predict_test))"
   ]
  },
  {
   "cell_type": "code",
   "execution_count": 148,
   "metadata": {},
   "outputs": [
    {
     "name": "stdout",
     "output_type": "stream",
     "text": [
      "0.7894736842105263\n",
      "[[27  8]\n",
      " [ 8 33]]\n"
     ]
    }
   ],
   "source": [
    "model_DT = DecisionTreeClassifier()\n",
    "model_DT.fit(X_train, Y_train.ravel())\n",
    "DT_predict_test = model_DT.predict(X_test)\n",
    "\n",
    "acc_DT = accuracy_score(Y_test, DT_predict_test)\n",
    "print(acc_DT)\n",
    "print(confusion_matrix(Y_test, DT_predict_test))"
   ]
  },
  {
   "cell_type": "code",
   "execution_count": 151,
   "metadata": {},
   "outputs": [
    {
     "name": "stdout",
     "output_type": "stream",
     "text": [
      "0.8947368421052632\n",
      "[[31  4]\n",
      " [ 4 37]]\n"
     ]
    },
    {
     "name": "stderr",
     "output_type": "stream",
     "text": [
      "C:\\Users\\aluno\\Anaconda3\\lib\\site-packages\\sklearn\\ensemble\\forest.py:246: FutureWarning: The default value of n_estimators will change from 10 in version 0.20 to 100 in 0.22.\n",
      "  \"10 in version 0.20 to 100 in 0.22.\", FutureWarning)\n"
     ]
    }
   ],
   "source": [
    "model_RF = RandomForestClassifier()\n",
    "model_RF.fit(X_train, Y_train.ravel())\n",
    "RF_predict_test = model_RF.predict(X_test)\n",
    "\n",
    "acc_RF = accuracy_score(Y_test, RF_predict_test)\n",
    "print(acc_RF)\n",
    "print(confusion_matrix(Y_test, RF_predict_test))"
   ]
  },
  {
   "cell_type": "code",
   "execution_count": 152,
   "metadata": {},
   "outputs": [
    {
     "name": "stdout",
     "output_type": "stream",
     "text": [
      "0.7631578947368421\n",
      "[[26  9]\n",
      " [ 9 32]]\n"
     ]
    }
   ],
   "source": [
    "model_XG = GradientBoostingClassifier()\n",
    "model_XG.fit(X_train, Y_train.ravel())\n",
    "XG_predict_test = model_XG.predict(X_test)\n",
    "\n",
    "acc_XG = accuracy_score(Y_test, XG_predict_test)\n",
    "print(acc_XG)\n",
    "print(confusion_matrix(Y_test, XG_predict_test))"
   ]
  },
  {
   "cell_type": "code",
   "execution_count": null,
   "metadata": {},
   "outputs": [],
   "source": []
  }
 ],
 "metadata": {
  "kernelspec": {
   "display_name": "Python 3",
   "language": "python",
   "name": "python3"
  },
  "language_info": {
   "codemirror_mode": {
    "name": "ipython",
    "version": 3
   },
   "file_extension": ".py",
   "mimetype": "text/x-python",
   "name": "python",
   "nbconvert_exporter": "python",
   "pygments_lexer": "ipython3",
   "version": "3.7.1"
  }
 },
 "nbformat": 4,
 "nbformat_minor": 2
}
