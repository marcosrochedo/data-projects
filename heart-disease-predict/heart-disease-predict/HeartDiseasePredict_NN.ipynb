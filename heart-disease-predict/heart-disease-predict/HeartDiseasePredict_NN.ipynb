{
  "nbformat": 4,
  "nbformat_minor": 0,
  "metadata": {
    "kernelspec": {
      "name": "python3",
      "display_name": "Python 3"
    },
    "language_info": {
      "codemirror_mode": {
        "name": "ipython",
        "version": 3
      },
      "file_extension": ".py",
      "mimetype": "text/x-python",
      "name": "python",
      "nbconvert_exporter": "python",
      "pygments_lexer": "ipython3",
      "version": "3.7.1"
    },
    "colab": {
      "name": "HeartDiseasePredict_v2.ipynb",
      "provenance": []
    },
    "accelerator": "GPU"
  },
  "cells": [
    {
      "cell_type": "code",
      "metadata": {
        "id": "s20l4VjLprjs",
        "colab_type": "code",
        "colab": {}
      },
      "source": [
        "# Import modules\n",
        "\n",
        "import pandas as pd\n",
        "import numpy as np\n",
        "import matplotlib.pyplot as plt\n",
        "import seaborn as sns\n",
        "\n",
        "%matplotlib inline"
      ],
      "execution_count": 0,
      "outputs": []
    },
    {
      "cell_type": "code",
      "metadata": {
        "id": "p2Rp0jhXprj6",
        "colab_type": "code",
        "colab": {}
      },
      "source": [
        "# Import dataset as dataframe\n",
        "\n",
        "heart = pd.read_csv(\"https://raw.githubusercontent.com/mp-rocha/data-projects/master/heart-disease-predict/heart-disease-predict/heart.csv\")"
      ],
      "execution_count": 0,
      "outputs": []
    },
    {
      "cell_type": "code",
      "metadata": {
        "id": "tYdFHadAprkH",
        "colab_type": "code",
        "colab": {}
      },
      "source": [
        "# Splitting of data - 75% for training data and 25% for test data\n",
        "# Importing the train_test_split\n",
        "\n",
        "from sklearn.model_selection import train_test_split"
      ],
      "execution_count": 0,
      "outputs": []
    },
    {
      "cell_type": "code",
      "metadata": {
        "id": "PhcHOikAprkO",
        "colab_type": "code",
        "colab": {}
      },
      "source": [
        "from sklearn.preprocessing import StandardScaler\n",
        "\n",
        "\n",
        "# Variable target\n",
        "Y = heart.target.values\n",
        "\n",
        "# Variable prediction\n",
        "x = heart.drop(['target'], axis = 1)\n"
      ],
      "execution_count": 0,
      "outputs": []
    },
    {
      "cell_type": "code",
      "metadata": {
        "id": "vzdhv5g3prkV",
        "colab_type": "code",
        "colab": {}
      },
      "source": [
        "# Standardizing the features\n",
        "X = StandardScaler().fit_transform(x)"
      ],
      "execution_count": 0,
      "outputs": []
    },
    {
      "cell_type": "code",
      "metadata": {
        "id": "1NZtSNN8prkd",
        "colab_type": "code",
        "colab": {}
      },
      "source": [
        "# Setting split rate\n",
        "split_test_size = 0.25"
      ],
      "execution_count": 0,
      "outputs": []
    },
    {
      "cell_type": "code",
      "metadata": {
        "id": "HmYCzNbbprkn",
        "colab_type": "code",
        "colab": {}
      },
      "source": [
        "# Creating test data and train data\n",
        "X_train, X_test, Y_train, Y_test = train_test_split(X, Y, test_size = split_test_size, random_state = 42)"
      ],
      "execution_count": 0,
      "outputs": []
    },
    {
      "cell_type": "code",
      "metadata": {
        "id": "3wjljRrVprlQ",
        "colab_type": "code",
        "colab": {}
      },
      "source": [
        "# Rede neural\n",
        "\n",
        "\n",
        "from keras.models import Sequential\n",
        "from keras.layers import Dense, Dropout\n",
        "\n",
        "model = Sequential()\n",
        "model.add(Dense(128, input_dim = 13, activation='relu'))\n",
        "model.add(Dropout(0.25))\n",
        "model.add(Dense(128, activation='relu'))\n",
        "model.add(Dropout(0.25))\n",
        "model.add(Dense(1, activation='sigmoid'))"
      ],
      "execution_count": 0,
      "outputs": []
    },
    {
      "cell_type": "code",
      "metadata": {
        "id": "h1JqC-v_rS-B",
        "colab_type": "code",
        "colab": {
          "base_uri": "https://localhost:8080/",
          "height": 1000
        },
        "outputId": "14328f9e-7d59-4c5e-e30b-64c6e1f8d65b"
      },
      "source": [
        "# Compilando o modelo\n",
        "\n",
        "model.compile(optimizer='adam',loss='binary_crossentropy',metrics=['accuracy'])\n",
        "              \n",
        "# Treinando o modelo\n",
        "\n",
        "model.fit(X_train, Y_train, epochs= 100, verbose=1)"
      ],
      "execution_count": 32,
      "outputs": [
        {
          "output_type": "stream",
          "text": [
            "Epoch 1/100\n",
            "227/227 [==============================] - 1s 2ms/step - loss: 0.6946 - acc: 0.5242\n",
            "Epoch 2/100\n",
            "227/227 [==============================] - 0s 179us/step - loss: 0.5639 - acc: 0.7489\n",
            "Epoch 3/100\n",
            "227/227 [==============================] - 0s 205us/step - loss: 0.5049 - acc: 0.7974\n",
            "Epoch 4/100\n",
            "227/227 [==============================] - 0s 187us/step - loss: 0.4442 - acc: 0.8238\n",
            "Epoch 5/100\n",
            "227/227 [==============================] - 0s 188us/step - loss: 0.4152 - acc: 0.8194\n",
            "Epoch 6/100\n",
            "227/227 [==============================] - 0s 181us/step - loss: 0.3801 - acc: 0.8502\n",
            "Epoch 7/100\n",
            "227/227 [==============================] - 0s 178us/step - loss: 0.3571 - acc: 0.8370\n",
            "Epoch 8/100\n",
            "227/227 [==============================] - 0s 194us/step - loss: 0.3405 - acc: 0.8590\n",
            "Epoch 9/100\n",
            "227/227 [==============================] - 0s 178us/step - loss: 0.3223 - acc: 0.8678\n",
            "Epoch 10/100\n",
            "227/227 [==============================] - 0s 164us/step - loss: 0.3230 - acc: 0.8546\n",
            "Epoch 11/100\n",
            "227/227 [==============================] - 0s 184us/step - loss: 0.3254 - acc: 0.8722\n",
            "Epoch 12/100\n",
            "227/227 [==============================] - 0s 178us/step - loss: 0.3195 - acc: 0.8546\n",
            "Epoch 13/100\n",
            "227/227 [==============================] - 0s 179us/step - loss: 0.2938 - acc: 0.8811\n",
            "Epoch 14/100\n",
            "227/227 [==============================] - 0s 170us/step - loss: 0.2868 - acc: 0.8987\n",
            "Epoch 15/100\n",
            "227/227 [==============================] - 0s 227us/step - loss: 0.2903 - acc: 0.8943\n",
            "Epoch 16/100\n",
            "227/227 [==============================] - 0s 188us/step - loss: 0.2757 - acc: 0.8943\n",
            "Epoch 17/100\n",
            "227/227 [==============================] - 0s 188us/step - loss: 0.2923 - acc: 0.8722\n",
            "Epoch 18/100\n",
            "227/227 [==============================] - 0s 175us/step - loss: 0.2772 - acc: 0.8678\n",
            "Epoch 19/100\n",
            "227/227 [==============================] - 0s 197us/step - loss: 0.2734 - acc: 0.8899\n",
            "Epoch 20/100\n",
            "227/227 [==============================] - 0s 179us/step - loss: 0.2741 - acc: 0.8767\n",
            "Epoch 21/100\n",
            "227/227 [==============================] - 0s 171us/step - loss: 0.2800 - acc: 0.8811\n",
            "Epoch 22/100\n",
            "227/227 [==============================] - 0s 187us/step - loss: 0.2750 - acc: 0.8811\n",
            "Epoch 23/100\n",
            "227/227 [==============================] - 0s 174us/step - loss: 0.2533 - acc: 0.8899\n",
            "Epoch 24/100\n",
            "227/227 [==============================] - 0s 174us/step - loss: 0.2579 - acc: 0.9075\n",
            "Epoch 25/100\n",
            "227/227 [==============================] - 0s 178us/step - loss: 0.2347 - acc: 0.9075\n",
            "Epoch 26/100\n",
            "227/227 [==============================] - 0s 185us/step - loss: 0.2270 - acc: 0.9031\n",
            "Epoch 27/100\n",
            "227/227 [==============================] - 0s 209us/step - loss: 0.2369 - acc: 0.9119\n",
            "Epoch 28/100\n",
            "227/227 [==============================] - 0s 179us/step - loss: 0.2384 - acc: 0.9119\n",
            "Epoch 29/100\n",
            "227/227 [==============================] - 0s 189us/step - loss: 0.2327 - acc: 0.8899\n",
            "Epoch 30/100\n",
            "227/227 [==============================] - 0s 183us/step - loss: 0.2183 - acc: 0.9163\n",
            "Epoch 31/100\n",
            "227/227 [==============================] - 0s 174us/step - loss: 0.2400 - acc: 0.9031\n",
            "Epoch 32/100\n",
            "227/227 [==============================] - 0s 199us/step - loss: 0.2098 - acc: 0.9251\n",
            "Epoch 33/100\n",
            "227/227 [==============================] - 0s 169us/step - loss: 0.2040 - acc: 0.9295\n",
            "Epoch 34/100\n",
            "227/227 [==============================] - 0s 225us/step - loss: 0.2043 - acc: 0.9339\n",
            "Epoch 35/100\n",
            "227/227 [==============================] - 0s 193us/step - loss: 0.2042 - acc: 0.9207\n",
            "Epoch 36/100\n",
            "227/227 [==============================] - 0s 172us/step - loss: 0.1912 - acc: 0.9251\n",
            "Epoch 37/100\n",
            "227/227 [==============================] - 0s 183us/step - loss: 0.1989 - acc: 0.9251\n",
            "Epoch 38/100\n",
            "227/227 [==============================] - 0s 233us/step - loss: 0.1829 - acc: 0.9295\n",
            "Epoch 39/100\n",
            "227/227 [==============================] - 0s 183us/step - loss: 0.1876 - acc: 0.9383\n",
            "Epoch 40/100\n",
            "227/227 [==============================] - 0s 177us/step - loss: 0.1777 - acc: 0.9207\n",
            "Epoch 41/100\n",
            "227/227 [==============================] - 0s 172us/step - loss: 0.1769 - acc: 0.9339\n",
            "Epoch 42/100\n",
            "227/227 [==============================] - 0s 173us/step - loss: 0.1725 - acc: 0.9383\n",
            "Epoch 43/100\n",
            "227/227 [==============================] - 0s 168us/step - loss: 0.1868 - acc: 0.9295\n",
            "Epoch 44/100\n",
            "227/227 [==============================] - 0s 180us/step - loss: 0.1695 - acc: 0.9163\n",
            "Epoch 45/100\n",
            "227/227 [==============================] - 0s 189us/step - loss: 0.1582 - acc: 0.9515\n",
            "Epoch 46/100\n",
            "227/227 [==============================] - 0s 182us/step - loss: 0.1454 - acc: 0.9383\n",
            "Epoch 47/100\n",
            "227/227 [==============================] - 0s 176us/step - loss: 0.1661 - acc: 0.9295\n",
            "Epoch 48/100\n",
            "227/227 [==============================] - 0s 172us/step - loss: 0.1354 - acc: 0.9471\n",
            "Epoch 49/100\n",
            "227/227 [==============================] - 0s 177us/step - loss: 0.1536 - acc: 0.9339\n",
            "Epoch 50/100\n",
            "227/227 [==============================] - 0s 185us/step - loss: 0.1353 - acc: 0.9604\n",
            "Epoch 51/100\n",
            "227/227 [==============================] - 0s 198us/step - loss: 0.1704 - acc: 0.9339\n",
            "Epoch 52/100\n",
            "227/227 [==============================] - 0s 184us/step - loss: 0.1664 - acc: 0.9604\n",
            "Epoch 53/100\n",
            "227/227 [==============================] - 0s 178us/step - loss: 0.1340 - acc: 0.9515\n",
            "Epoch 54/100\n",
            "227/227 [==============================] - 0s 170us/step - loss: 0.1407 - acc: 0.9471\n",
            "Epoch 55/100\n",
            "227/227 [==============================] - 0s 181us/step - loss: 0.1422 - acc: 0.9383\n",
            "Epoch 56/100\n",
            "227/227 [==============================] - 0s 181us/step - loss: 0.1447 - acc: 0.9559\n",
            "Epoch 57/100\n",
            "227/227 [==============================] - 0s 219us/step - loss: 0.1297 - acc: 0.9692\n",
            "Epoch 58/100\n",
            "227/227 [==============================] - 0s 241us/step - loss: 0.1263 - acc: 0.9559\n",
            "Epoch 59/100\n",
            "227/227 [==============================] - 0s 199us/step - loss: 0.1261 - acc: 0.9515\n",
            "Epoch 60/100\n",
            "227/227 [==============================] - 0s 205us/step - loss: 0.1307 - acc: 0.9559\n",
            "Epoch 61/100\n",
            "227/227 [==============================] - 0s 241us/step - loss: 0.1352 - acc: 0.9648\n",
            "Epoch 62/100\n",
            "227/227 [==============================] - 0s 204us/step - loss: 0.1164 - acc: 0.9559\n",
            "Epoch 63/100\n",
            "227/227 [==============================] - 0s 223us/step - loss: 0.1213 - acc: 0.9692\n",
            "Epoch 64/100\n",
            "227/227 [==============================] - 0s 192us/step - loss: 0.1181 - acc: 0.9471\n",
            "Epoch 65/100\n",
            "227/227 [==============================] - 0s 191us/step - loss: 0.1359 - acc: 0.9604\n",
            "Epoch 66/100\n",
            "227/227 [==============================] - 0s 209us/step - loss: 0.1203 - acc: 0.9559\n",
            "Epoch 67/100\n",
            "227/227 [==============================] - 0s 210us/step - loss: 0.1231 - acc: 0.9604\n",
            "Epoch 68/100\n",
            "227/227 [==============================] - 0s 191us/step - loss: 0.1203 - acc: 0.9604\n",
            "Epoch 69/100\n",
            "227/227 [==============================] - 0s 197us/step - loss: 0.1205 - acc: 0.9604\n",
            "Epoch 70/100\n",
            "227/227 [==============================] - 0s 208us/step - loss: 0.1029 - acc: 0.9736\n",
            "Epoch 71/100\n",
            "227/227 [==============================] - 0s 198us/step - loss: 0.0943 - acc: 0.9604\n",
            "Epoch 72/100\n",
            "227/227 [==============================] - 0s 183us/step - loss: 0.1096 - acc: 0.9648\n",
            "Epoch 73/100\n",
            "227/227 [==============================] - 0s 204us/step - loss: 0.1068 - acc: 0.9515\n",
            "Epoch 74/100\n",
            "227/227 [==============================] - 0s 181us/step - loss: 0.0837 - acc: 0.9780\n",
            "Epoch 75/100\n",
            "227/227 [==============================] - 0s 182us/step - loss: 0.1234 - acc: 0.9427\n",
            "Epoch 76/100\n",
            "227/227 [==============================] - 0s 196us/step - loss: 0.1086 - acc: 0.9692\n",
            "Epoch 77/100\n",
            "227/227 [==============================] - 0s 174us/step - loss: 0.1090 - acc: 0.9780\n",
            "Epoch 78/100\n",
            "227/227 [==============================] - 0s 180us/step - loss: 0.0965 - acc: 0.9604\n",
            "Epoch 79/100\n",
            "227/227 [==============================] - 0s 168us/step - loss: 0.1155 - acc: 0.9471\n",
            "Epoch 80/100\n",
            "227/227 [==============================] - 0s 182us/step - loss: 0.0841 - acc: 0.9736\n",
            "Epoch 81/100\n",
            "227/227 [==============================] - 0s 187us/step - loss: 0.0867 - acc: 0.9824\n",
            "Epoch 82/100\n",
            "227/227 [==============================] - 0s 188us/step - loss: 0.0744 - acc: 0.9780\n",
            "Epoch 83/100\n",
            "227/227 [==============================] - 0s 205us/step - loss: 0.0994 - acc: 0.9604\n",
            "Epoch 84/100\n",
            "227/227 [==============================] - 0s 207us/step - loss: 0.0762 - acc: 0.9868\n",
            "Epoch 85/100\n",
            "227/227 [==============================] - 0s 183us/step - loss: 0.0780 - acc: 0.9692\n",
            "Epoch 86/100\n",
            "227/227 [==============================] - 0s 183us/step - loss: 0.0810 - acc: 0.9692\n",
            "Epoch 87/100\n",
            "227/227 [==============================] - 0s 179us/step - loss: 0.0861 - acc: 0.9648\n",
            "Epoch 88/100\n",
            "227/227 [==============================] - 0s 187us/step - loss: 0.0806 - acc: 0.9736\n",
            "Epoch 89/100\n",
            "227/227 [==============================] - 0s 196us/step - loss: 0.0992 - acc: 0.9736\n",
            "Epoch 90/100\n",
            "227/227 [==============================] - 0s 195us/step - loss: 0.0963 - acc: 0.9604\n",
            "Epoch 91/100\n",
            "227/227 [==============================] - 0s 171us/step - loss: 0.0829 - acc: 0.9736\n",
            "Epoch 92/100\n",
            "227/227 [==============================] - 0s 172us/step - loss: 0.0897 - acc: 0.9692\n",
            "Epoch 93/100\n",
            "227/227 [==============================] - 0s 175us/step - loss: 0.0861 - acc: 0.9780\n",
            "Epoch 94/100\n",
            "227/227 [==============================] - 0s 187us/step - loss: 0.0929 - acc: 0.9780\n",
            "Epoch 95/100\n",
            "227/227 [==============================] - 0s 194us/step - loss: 0.0608 - acc: 0.9824\n",
            "Epoch 96/100\n",
            "227/227 [==============================] - 0s 192us/step - loss: 0.0881 - acc: 0.9736\n",
            "Epoch 97/100\n",
            "227/227 [==============================] - 0s 193us/step - loss: 0.0636 - acc: 0.9780\n",
            "Epoch 98/100\n",
            "227/227 [==============================] - 0s 180us/step - loss: 0.0630 - acc: 0.9912\n",
            "Epoch 99/100\n",
            "227/227 [==============================] - 0s 172us/step - loss: 0.1153 - acc: 0.9471\n",
            "Epoch 100/100\n",
            "227/227 [==============================] - 0s 174us/step - loss: 0.0820 - acc: 0.9736\n"
          ],
          "name": "stdout"
        },
        {
          "output_type": "execute_result",
          "data": {
            "text/plain": [
              "<keras.callbacks.History at 0x7fab0050d5f8>"
            ]
          },
          "metadata": {
            "tags": []
          },
          "execution_count": 32
        }
      ]
    },
    {
      "cell_type": "code",
      "metadata": {
        "id": "Y8E6ShmGsKbh",
        "colab_type": "code",
        "colab": {
          "base_uri": "https://localhost:8080/",
          "height": 340
        },
        "outputId": "b8b0703f-2172-4ead-fe63-40b4ba733433"
      },
      "source": [
        "# Sumário do modelo\n",
        "\n",
        "model.summary()\n",
        "\n",
        "score = model.evaluate(X_test, Y_test, verbose=0)\n",
        "print('Model Accuracy = ',score[1])"
      ],
      "execution_count": 33,
      "outputs": [
        {
          "output_type": "stream",
          "text": [
            "Model: \"sequential_7\"\n",
            "_________________________________________________________________\n",
            "Layer (type)                 Output Shape              Param #   \n",
            "=================================================================\n",
            "dense_15 (Dense)             (None, 128)               1792      \n",
            "_________________________________________________________________\n",
            "dropout_3 (Dropout)          (None, 128)               0         \n",
            "_________________________________________________________________\n",
            "dense_16 (Dense)             (None, 128)               16512     \n",
            "_________________________________________________________________\n",
            "dropout_4 (Dropout)          (None, 128)               0         \n",
            "_________________________________________________________________\n",
            "dense_17 (Dense)             (None, 1)                 129       \n",
            "=================================================================\n",
            "Total params: 18,433\n",
            "Trainable params: 18,433\n",
            "Non-trainable params: 0\n",
            "_________________________________________________________________\n",
            "Model Accuracy =  0.8421052600208082\n"
          ],
          "name": "stdout"
        }
      ]
    }
  ]
}