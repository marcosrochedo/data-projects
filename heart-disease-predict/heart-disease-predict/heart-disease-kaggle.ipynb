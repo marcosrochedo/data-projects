{
  "nbformat": 4,
  "nbformat_minor": 0,
  "metadata": {
    "kernelspec": {
      "language": "python",
      "display_name": "Python 3",
      "name": "python3"
    },
    "language_info": {
      "pygments_lexer": "ipython3",
      "nbconvert_exporter": "python",
      "version": "3.6.4",
      "file_extension": ".py",
      "codemirror_mode": {
        "name": "ipython",
        "version": 3
      },
      "name": "python",
      "mimetype": "text/x-python"
    },
    "colab": {
      "name": "heart-disease-kaggle.ipynb",
      "provenance": [],
      "toc_visible": true
    }
  },
  "cells": [
    {
      "cell_type": "markdown",
      "metadata": {
        "id": "66IzO-20mdVm",
        "colab_type": "text"
      },
      "source": [
        "### **Project 2 : Predict heart disease using medical information**"
      ]
    },
    {
      "cell_type": "code",
      "metadata": {
        "id": "9Yocnj8bmzhc",
        "colab_type": "code",
        "colab": {}
      },
      "source": [
        "# Import modules\n",
        "\n",
        "import numpy as np # linear algebra\n",
        "import pandas as pd # data processing, CSV file I/O (e.g. pd.read_csv)\n",
        "import matplotlib.pyplot as plt #plots\n",
        "import seaborn as sns # plots\n",
        "import warnings\n",
        "warnings.filterwarnings(\"ignore\")\n",
        "\n",
        "%matplotlib inline"
      ],
      "execution_count": 0,
      "outputs": []
    },
    {
      "cell_type": "markdown",
      "metadata": {
        "id": "NgkdVPiYyOZO",
        "colab_type": "text"
      },
      "source": [
        "---\n",
        "> ##### **1. Checking and understanding the data**\n",
        "---\n",
        "\n",
        "* Load data\n",
        "* Checking missing values\n",
        "* Checking data structure\n",
        "\n",
        "---\n"
      ]
    },
    {
      "cell_type": "code",
      "metadata": {
        "trusted": true,
        "id": "hVBP8LbMyOZR",
        "colab_type": "code",
        "outputId": "bb4f1e65-bc79-412a-e073-428defd0c40b",
        "colab": {
          "base_uri": "https://localhost:8080/",
          "height": 196
        }
      },
      "source": [
        "# Load the data\n",
        "\n",
        "data = pd.read_csv(\"https://raw.githubusercontent.com/mp-rocha/data-projects/master/heart-disease-predict/heart-disease-predict/heart.csv\")\n",
        "df = data.copy()\n",
        "df.head()"
      ],
      "execution_count": 2,
      "outputs": [
        {
          "output_type": "execute_result",
          "data": {
            "text/html": [
              "<div>\n",
              "<style scoped>\n",
              "    .dataframe tbody tr th:only-of-type {\n",
              "        vertical-align: middle;\n",
              "    }\n",
              "\n",
              "    .dataframe tbody tr th {\n",
              "        vertical-align: top;\n",
              "    }\n",
              "\n",
              "    .dataframe thead th {\n",
              "        text-align: right;\n",
              "    }\n",
              "</style>\n",
              "<table border=\"1\" class=\"dataframe\">\n",
              "  <thead>\n",
              "    <tr style=\"text-align: right;\">\n",
              "      <th></th>\n",
              "      <th>age</th>\n",
              "      <th>sex</th>\n",
              "      <th>cp</th>\n",
              "      <th>trestbps</th>\n",
              "      <th>chol</th>\n",
              "      <th>fbs</th>\n",
              "      <th>restecg</th>\n",
              "      <th>thalach</th>\n",
              "      <th>exang</th>\n",
              "      <th>oldpeak</th>\n",
              "      <th>slope</th>\n",
              "      <th>ca</th>\n",
              "      <th>thal</th>\n",
              "      <th>target</th>\n",
              "    </tr>\n",
              "  </thead>\n",
              "  <tbody>\n",
              "    <tr>\n",
              "      <th>0</th>\n",
              "      <td>63</td>\n",
              "      <td>1</td>\n",
              "      <td>3</td>\n",
              "      <td>145</td>\n",
              "      <td>233</td>\n",
              "      <td>1</td>\n",
              "      <td>0</td>\n",
              "      <td>150</td>\n",
              "      <td>0</td>\n",
              "      <td>2.3</td>\n",
              "      <td>0</td>\n",
              "      <td>0</td>\n",
              "      <td>1</td>\n",
              "      <td>1</td>\n",
              "    </tr>\n",
              "    <tr>\n",
              "      <th>1</th>\n",
              "      <td>37</td>\n",
              "      <td>1</td>\n",
              "      <td>2</td>\n",
              "      <td>130</td>\n",
              "      <td>250</td>\n",
              "      <td>0</td>\n",
              "      <td>1</td>\n",
              "      <td>187</td>\n",
              "      <td>0</td>\n",
              "      <td>3.5</td>\n",
              "      <td>0</td>\n",
              "      <td>0</td>\n",
              "      <td>2</td>\n",
              "      <td>1</td>\n",
              "    </tr>\n",
              "    <tr>\n",
              "      <th>2</th>\n",
              "      <td>41</td>\n",
              "      <td>0</td>\n",
              "      <td>1</td>\n",
              "      <td>130</td>\n",
              "      <td>204</td>\n",
              "      <td>0</td>\n",
              "      <td>0</td>\n",
              "      <td>172</td>\n",
              "      <td>0</td>\n",
              "      <td>1.4</td>\n",
              "      <td>2</td>\n",
              "      <td>0</td>\n",
              "      <td>2</td>\n",
              "      <td>1</td>\n",
              "    </tr>\n",
              "    <tr>\n",
              "      <th>3</th>\n",
              "      <td>56</td>\n",
              "      <td>1</td>\n",
              "      <td>1</td>\n",
              "      <td>120</td>\n",
              "      <td>236</td>\n",
              "      <td>0</td>\n",
              "      <td>1</td>\n",
              "      <td>178</td>\n",
              "      <td>0</td>\n",
              "      <td>0.8</td>\n",
              "      <td>2</td>\n",
              "      <td>0</td>\n",
              "      <td>2</td>\n",
              "      <td>1</td>\n",
              "    </tr>\n",
              "    <tr>\n",
              "      <th>4</th>\n",
              "      <td>57</td>\n",
              "      <td>0</td>\n",
              "      <td>0</td>\n",
              "      <td>120</td>\n",
              "      <td>354</td>\n",
              "      <td>0</td>\n",
              "      <td>1</td>\n",
              "      <td>163</td>\n",
              "      <td>1</td>\n",
              "      <td>0.6</td>\n",
              "      <td>2</td>\n",
              "      <td>0</td>\n",
              "      <td>2</td>\n",
              "      <td>1</td>\n",
              "    </tr>\n",
              "  </tbody>\n",
              "</table>\n",
              "</div>"
            ],
            "text/plain": [
              "   age  sex  cp  trestbps  chol  fbs  ...  exang  oldpeak  slope  ca  thal  target\n",
              "0   63    1   3       145   233    1  ...      0      2.3      0   0     1       1\n",
              "1   37    1   2       130   250    0  ...      0      3.5      0   0     2       1\n",
              "2   41    0   1       130   204    0  ...      0      1.4      2   0     2       1\n",
              "3   56    1   1       120   236    0  ...      0      0.8      2   0     2       1\n",
              "4   57    0   0       120   354    0  ...      1      0.6      2   0     2       1\n",
              "\n",
              "[5 rows x 14 columns]"
            ]
          },
          "metadata": {
            "tags": []
          },
          "execution_count": 2
        }
      ]
    },
    {
      "cell_type": "code",
      "metadata": {
        "id": "FttRejiDoNC4",
        "colab_type": "code",
        "outputId": "36d8d838-c482-4baf-992b-c2f178d8291c",
        "colab": {
          "base_uri": "https://localhost:8080/",
          "height": 334
        }
      },
      "source": [
        "df.info()"
      ],
      "execution_count": 3,
      "outputs": [
        {
          "output_type": "stream",
          "text": [
            "<class 'pandas.core.frame.DataFrame'>\n",
            "RangeIndex: 303 entries, 0 to 302\n",
            "Data columns (total 14 columns):\n",
            "age         303 non-null int64\n",
            "sex         303 non-null int64\n",
            "cp          303 non-null int64\n",
            "trestbps    303 non-null int64\n",
            "chol        303 non-null int64\n",
            "fbs         303 non-null int64\n",
            "restecg     303 non-null int64\n",
            "thalach     303 non-null int64\n",
            "exang       303 non-null int64\n",
            "oldpeak     303 non-null float64\n",
            "slope       303 non-null int64\n",
            "ca          303 non-null int64\n",
            "thal        303 non-null int64\n",
            "target      303 non-null int64\n",
            "dtypes: float64(1), int64(13)\n",
            "memory usage: 33.3 KB\n"
          ],
          "name": "stdout"
        }
      ]
    },
    {
      "cell_type": "code",
      "metadata": {
        "trusted": true,
        "id": "nAuVC7JHyOZa",
        "colab_type": "code",
        "outputId": "c43c6e2e-322d-4e18-ae3f-90d0bc392768",
        "colab": {
          "base_uri": "https://localhost:8080/",
          "height": 301
        }
      },
      "source": [
        "# Checking for missing data\n",
        "\n",
        "print(data.isnull().sum())\n",
        "print('\\nNo missing data')"
      ],
      "execution_count": 4,
      "outputs": [
        {
          "output_type": "stream",
          "text": [
            "age         0\n",
            "sex         0\n",
            "cp          0\n",
            "trestbps    0\n",
            "chol        0\n",
            "fbs         0\n",
            "restecg     0\n",
            "thalach     0\n",
            "exang       0\n",
            "oldpeak     0\n",
            "slope       0\n",
            "ca          0\n",
            "thal        0\n",
            "target      0\n",
            "dtype: int64\n",
            "\n",
            "No missing data\n"
          ],
          "name": "stdout"
        }
      ]
    },
    {
      "cell_type": "markdown",
      "metadata": {
        "id": "H39OhSbSor13",
        "colab_type": "text"
      },
      "source": [
        "---\n",
        "> ##### **2. Exploratory data analysis**\n",
        "---\n",
        "\n",
        "* Describe data\n",
        "* Number of people with heart disease\n",
        "* Proportion men x women in dataset\n",
        "* Who has more heart disease men or women?\n",
        "* People without heart disease can raise heart rate?\n",
        "* People with> 120mg blood sugar higher chances of heart disease?\n",
        "* Are people with high cholesterol prone to heart disease?\n",
        "* Which type of chest pain is more frequently when the people is sick?\n",
        "\n",
        "---"
      ]
    },
    {
      "cell_type": "code",
      "metadata": {
        "id": "1l-NnkvLqIDk",
        "colab_type": "code",
        "outputId": "f6bb7b7c-4aae-4070-9538-3fd0b7f0faff",
        "colab": {
          "base_uri": "https://localhost:8080/",
          "height": 306
        }
      },
      "source": [
        "# Statistical resume\n",
        "\n",
        "df.describe()"
      ],
      "execution_count": 5,
      "outputs": [
        {
          "output_type": "execute_result",
          "data": {
            "text/html": [
              "<div>\n",
              "<style scoped>\n",
              "    .dataframe tbody tr th:only-of-type {\n",
              "        vertical-align: middle;\n",
              "    }\n",
              "\n",
              "    .dataframe tbody tr th {\n",
              "        vertical-align: top;\n",
              "    }\n",
              "\n",
              "    .dataframe thead th {\n",
              "        text-align: right;\n",
              "    }\n",
              "</style>\n",
              "<table border=\"1\" class=\"dataframe\">\n",
              "  <thead>\n",
              "    <tr style=\"text-align: right;\">\n",
              "      <th></th>\n",
              "      <th>age</th>\n",
              "      <th>sex</th>\n",
              "      <th>cp</th>\n",
              "      <th>trestbps</th>\n",
              "      <th>chol</th>\n",
              "      <th>fbs</th>\n",
              "      <th>restecg</th>\n",
              "      <th>thalach</th>\n",
              "      <th>exang</th>\n",
              "      <th>oldpeak</th>\n",
              "      <th>slope</th>\n",
              "      <th>ca</th>\n",
              "      <th>thal</th>\n",
              "      <th>target</th>\n",
              "    </tr>\n",
              "  </thead>\n",
              "  <tbody>\n",
              "    <tr>\n",
              "      <th>count</th>\n",
              "      <td>303.000000</td>\n",
              "      <td>303.000000</td>\n",
              "      <td>303.000000</td>\n",
              "      <td>303.000000</td>\n",
              "      <td>303.000000</td>\n",
              "      <td>303.000000</td>\n",
              "      <td>303.000000</td>\n",
              "      <td>303.000000</td>\n",
              "      <td>303.000000</td>\n",
              "      <td>303.000000</td>\n",
              "      <td>303.000000</td>\n",
              "      <td>303.000000</td>\n",
              "      <td>303.000000</td>\n",
              "      <td>303.000000</td>\n",
              "    </tr>\n",
              "    <tr>\n",
              "      <th>mean</th>\n",
              "      <td>54.366337</td>\n",
              "      <td>0.683168</td>\n",
              "      <td>0.966997</td>\n",
              "      <td>131.623762</td>\n",
              "      <td>246.264026</td>\n",
              "      <td>0.148515</td>\n",
              "      <td>0.528053</td>\n",
              "      <td>149.646865</td>\n",
              "      <td>0.326733</td>\n",
              "      <td>1.039604</td>\n",
              "      <td>1.399340</td>\n",
              "      <td>0.729373</td>\n",
              "      <td>2.313531</td>\n",
              "      <td>0.544554</td>\n",
              "    </tr>\n",
              "    <tr>\n",
              "      <th>std</th>\n",
              "      <td>9.082101</td>\n",
              "      <td>0.466011</td>\n",
              "      <td>1.032052</td>\n",
              "      <td>17.538143</td>\n",
              "      <td>51.830751</td>\n",
              "      <td>0.356198</td>\n",
              "      <td>0.525860</td>\n",
              "      <td>22.905161</td>\n",
              "      <td>0.469794</td>\n",
              "      <td>1.161075</td>\n",
              "      <td>0.616226</td>\n",
              "      <td>1.022606</td>\n",
              "      <td>0.612277</td>\n",
              "      <td>0.498835</td>\n",
              "    </tr>\n",
              "    <tr>\n",
              "      <th>min</th>\n",
              "      <td>29.000000</td>\n",
              "      <td>0.000000</td>\n",
              "      <td>0.000000</td>\n",
              "      <td>94.000000</td>\n",
              "      <td>126.000000</td>\n",
              "      <td>0.000000</td>\n",
              "      <td>0.000000</td>\n",
              "      <td>71.000000</td>\n",
              "      <td>0.000000</td>\n",
              "      <td>0.000000</td>\n",
              "      <td>0.000000</td>\n",
              "      <td>0.000000</td>\n",
              "      <td>0.000000</td>\n",
              "      <td>0.000000</td>\n",
              "    </tr>\n",
              "    <tr>\n",
              "      <th>25%</th>\n",
              "      <td>47.500000</td>\n",
              "      <td>0.000000</td>\n",
              "      <td>0.000000</td>\n",
              "      <td>120.000000</td>\n",
              "      <td>211.000000</td>\n",
              "      <td>0.000000</td>\n",
              "      <td>0.000000</td>\n",
              "      <td>133.500000</td>\n",
              "      <td>0.000000</td>\n",
              "      <td>0.000000</td>\n",
              "      <td>1.000000</td>\n",
              "      <td>0.000000</td>\n",
              "      <td>2.000000</td>\n",
              "      <td>0.000000</td>\n",
              "    </tr>\n",
              "    <tr>\n",
              "      <th>50%</th>\n",
              "      <td>55.000000</td>\n",
              "      <td>1.000000</td>\n",
              "      <td>1.000000</td>\n",
              "      <td>130.000000</td>\n",
              "      <td>240.000000</td>\n",
              "      <td>0.000000</td>\n",
              "      <td>1.000000</td>\n",
              "      <td>153.000000</td>\n",
              "      <td>0.000000</td>\n",
              "      <td>0.800000</td>\n",
              "      <td>1.000000</td>\n",
              "      <td>0.000000</td>\n",
              "      <td>2.000000</td>\n",
              "      <td>1.000000</td>\n",
              "    </tr>\n",
              "    <tr>\n",
              "      <th>75%</th>\n",
              "      <td>61.000000</td>\n",
              "      <td>1.000000</td>\n",
              "      <td>2.000000</td>\n",
              "      <td>140.000000</td>\n",
              "      <td>274.500000</td>\n",
              "      <td>0.000000</td>\n",
              "      <td>1.000000</td>\n",
              "      <td>166.000000</td>\n",
              "      <td>1.000000</td>\n",
              "      <td>1.600000</td>\n",
              "      <td>2.000000</td>\n",
              "      <td>1.000000</td>\n",
              "      <td>3.000000</td>\n",
              "      <td>1.000000</td>\n",
              "    </tr>\n",
              "    <tr>\n",
              "      <th>max</th>\n",
              "      <td>77.000000</td>\n",
              "      <td>1.000000</td>\n",
              "      <td>3.000000</td>\n",
              "      <td>200.000000</td>\n",
              "      <td>564.000000</td>\n",
              "      <td>1.000000</td>\n",
              "      <td>2.000000</td>\n",
              "      <td>202.000000</td>\n",
              "      <td>1.000000</td>\n",
              "      <td>6.200000</td>\n",
              "      <td>2.000000</td>\n",
              "      <td>4.000000</td>\n",
              "      <td>3.000000</td>\n",
              "      <td>1.000000</td>\n",
              "    </tr>\n",
              "  </tbody>\n",
              "</table>\n",
              "</div>"
            ],
            "text/plain": [
              "              age         sex          cp  ...          ca        thal      target\n",
              "count  303.000000  303.000000  303.000000  ...  303.000000  303.000000  303.000000\n",
              "mean    54.366337    0.683168    0.966997  ...    0.729373    2.313531    0.544554\n",
              "std      9.082101    0.466011    1.032052  ...    1.022606    0.612277    0.498835\n",
              "min     29.000000    0.000000    0.000000  ...    0.000000    0.000000    0.000000\n",
              "25%     47.500000    0.000000    0.000000  ...    0.000000    2.000000    0.000000\n",
              "50%     55.000000    1.000000    1.000000  ...    0.000000    2.000000    1.000000\n",
              "75%     61.000000    1.000000    2.000000  ...    1.000000    3.000000    1.000000\n",
              "max     77.000000    1.000000    3.000000  ...    4.000000    3.000000    1.000000\n",
              "\n",
              "[8 rows x 14 columns]"
            ]
          },
          "metadata": {
            "tags": []
          },
          "execution_count": 5
        }
      ]
    },
    {
      "cell_type": "code",
      "metadata": {
        "id": "ZjSIxF1FqNhC",
        "colab_type": "code",
        "outputId": "ef3b6ef4-4ea6-4a32-e7ef-b9b9c49c56af",
        "colab": {
          "base_uri": "https://localhost:8080/",
          "height": 281
        }
      },
      "source": [
        "# Number of people with heart disease\n",
        "\n",
        "n_target = data[\"target\"].value_counts()\n",
        "\n",
        "fig, ax = plt.subplots()\n",
        "sns.barplot(x=[\"Heart Disease\", \"No Heart Disease\"], y=n_target)\n",
        "plt.ylabel(\"Number of peoples\")\n"
      ],
      "execution_count": 6,
      "outputs": [
        {
          "output_type": "execute_result",
          "data": {
            "text/plain": [
              "Text(0, 0.5, 'Number of peoples')"
            ]
          },
          "metadata": {
            "tags": []
          },
          "execution_count": 6
        },
        {
          "output_type": "display_data",
          "data": {
            "image/png": "[encoded data removed]",
            "text/plain": [
              "<Figure size 432x288 with 1 Axes>"
            ]
          },
          "metadata": {
            "tags": []
          }
        }
      ]
    },
    {
      "cell_type": "code",
      "metadata": {
        "id": "lULReBgjq321",
        "colab_type": "code",
        "outputId": "fa703806-e5ed-4db6-9226-fedb57e522ba",
        "colab": {
          "base_uri": "https://localhost:8080/",
          "height": 281
        }
      },
      "source": [
        "# Proportion of males and females\n",
        "\n",
        "n_sex = data[\"sex\"].value_counts()\n",
        "sizes = list(n_sex.values)\n",
        "fig, ax = plt.subplots()\n",
        "ax.pie(n_sex, labels= [\"Male\", \"Female\"], colors=[\"blue\", \"pink\"], shadow=True, labeldistance=1.2, autopct='%1.1f%%', explode=(0, 0.05), startangle=49)\n",
        "plt.title(\"Proportion Male x Female\")"
      ],
      "execution_count": 7,
      "outputs": [
        {
          "output_type": "execute_result",
          "data": {
            "text/plain": [
              "Text(0.5, 1.0, 'Proportion Male x Female')"
            ]
          },
          "metadata": {
            "tags": []
          },
          "execution_count": 7
        },
        {
          "output_type": "display_data",
          "data": {
            "image/png": "[encoded data removed]",
            "text/plain": [
              "<Figure size 432x288 with 1 Axes>"
            ]
          },
          "metadata": {
            "tags": []
          }
        }
      ]
    },
    {
      "cell_type": "code",
      "metadata": {
        "id": "SOwFHExmq8Y0",
        "colab_type": "code",
        "outputId": "4b904db4-73f7-49d2-ed05-bdec16311ddb",
        "colab": {
          "base_uri": "https://localhost:8080/",
          "height": 529
        }
      },
      "source": [
        "# Who has more heart disease men or women?\n",
        "\n",
        "pd.crosstab(data.sex, data.target).plot(kind=\"bar\", figsize = (21,8), colors=[\"blue\", \"pink\"])\n",
        "plt.title('Frequency between Sex/Disease')\n",
        "plt.xlabel('Sex (0 = Female / 1 = Male)')\n",
        "plt.legend([\"Haven't Disease\", \"Have Disease\"])\n",
        "plt.ylabel('Frequency')\n",
        "plt.show()"
      ],
      "execution_count": 8,
      "outputs": [
        {
          "output_type": "display_data",
          "data": {
            "image/png": "[encoded data removed]",
            "text/plain": [
              "<Figure size 1512x576 with 1 Axes>"
            ]
          },
          "metadata": {
            "tags": []
          }
        }
      ]
    },
    {
      "cell_type": "code",
      "metadata": {
        "id": "FjA8lqwPtXHG",
        "colab_type": "code",
        "outputId": "b9430274-cd90-4f1b-c70e-9ac58ad02b86",
        "colab": {
          "base_uri": "https://localhost:8080/",
          "height": 35
        }
      },
      "source": [
        "# People without heart disease can raise heart rate?\n",
        "\n",
        "heartraise = data.loc[(data[\"target\"] == 0) & (data[\"exang\"] == 1)]\n",
        "print(\"Number of peoples with angina without heart disease: \", len(heartraise.index))"
      ],
      "execution_count": 0,
      "outputs": [
        {
          "output_type": "stream",
          "text": [
            "Number of peoples with angina without heart disease:  76\n"
          ],
          "name": "stdout"
        }
      ]
    },
    {
      "cell_type": "code",
      "metadata": {
        "id": "zOqAXsXPwLS6",
        "colab_type": "code",
        "outputId": "afb03949-09a2-4398-afe0-997c90fa1351",
        "colab": {
          "base_uri": "https://localhost:8080/",
          "height": 281
        }
      },
      "source": [
        "# Number of peoples with sugar blood > 120mg/dl\n",
        "\n",
        "sns.barplot(x=[\"120 mg/dl <\", \"> 120 mg/dl\"], y=data[\"fbs\"].value_counts())\n",
        "plt.ylabel(\"Number of peoples\")"
      ],
      "execution_count": 9,
      "outputs": [
        {
          "output_type": "execute_result",
          "data": {
            "text/plain": [
              "Text(0, 0.5, 'Number of peoples')"
            ]
          },
          "metadata": {
            "tags": []
          },
          "execution_count": 9
        },
        {
          "output_type": "display_data",
          "data": {
            "image/png": "[encoded data removed]",
            "text/plain": [
              "<Figure size 432x288 with 1 Axes>"
            ]
          },
          "metadata": {
            "tags": []
          }
        }
      ]
    },
    {
      "cell_type": "code",
      "metadata": {
        "id": "tJwmrQQG0BJN",
        "colab_type": "code",
        "outputId": "65aa3e12-6503-43f5-b8a9-a9209b17b3d3",
        "colab": {
          "base_uri": "https://localhost:8080/",
          "height": 281
        }
      },
      "source": [
        "# Are people with diabetes more likely to have heart disease?\n",
        "\n",
        "diabetes = data.loc[data[\"fbs\"] == 1]\n",
        "sns.barplot(x=[\"Heart Disease\", \"No Heart Disease\"], y=diabetes[\"target\"].value_counts())\n",
        "plt.ylabel(\"Number of peoples with diabetes\")"
      ],
      "execution_count": 10,
      "outputs": [
        {
          "output_type": "execute_result",
          "data": {
            "text/plain": [
              "Text(0, 0.5, 'Number of peoples with diabetes')"
            ]
          },
          "metadata": {
            "tags": []
          },
          "execution_count": 10
        },
        {
          "output_type": "display_data",
          "data": {
            "image/png": "[encoded data removed]",
            "text/plain": [
              "<Figure size 432x288 with 1 Axes>"
            ]
          },
          "metadata": {
            "tags": []
          }
        }
      ]
    },
    {
      "cell_type": "code",
      "metadata": {
        "id": "xMK1Joaa0_6e",
        "colab_type": "code",
        "outputId": "a6728853-86f3-443d-d440-108ecdbc4c8f",
        "colab": {
          "base_uri": "https://localhost:8080/",
          "height": 100
        }
      },
      "source": [
        "# Which type of chest pain is more frequently when the people is sick?\n",
        "\n",
        "sick = data.loc[(data[\"target\"] == 1)]\n",
        "sick[\"cp\"].value_counts()\n",
        "\n",
        "# The type 2 of chest pain is more frequently when people has heart disease."
      ],
      "execution_count": 11,
      "outputs": [
        {
          "output_type": "execute_result",
          "data": {
            "text/plain": [
              "2    69\n",
              "1    41\n",
              "0    39\n",
              "3    16\n",
              "Name: cp, dtype: int64"
            ]
          },
          "metadata": {
            "tags": []
          },
          "execution_count": 11
        }
      ]
    },
    {
      "cell_type": "markdown",
      "metadata": {
        "id": "dwjGvhY6md0D",
        "colab_type": "text"
      },
      "source": [
        "---\n",
        "> ##### **3. Feature engeneering**\n",
        "---\n",
        "\n",
        "* Transform numerical variable to category variable\n",
        "* Transform matrix to sparse\n",
        "\n",
        "---"
      ]
    },
    {
      "cell_type": "code",
      "metadata": {
        "id": "nAc8WcTUQyp9",
        "colab_type": "code",
        "colab": {}
      },
      "source": [
        "# Converting Age in class\n",
        "\n",
        "# 0 - (25-40)\n",
        "# 1 - (41-50)\n",
        "# 2 - (51-60)\n",
        "# 3 - (61-80)\n",
        "\n",
        "# Defining intervals\n",
        "age_bins = [0, 40, 50, 60, 120]\n",
        "age_bins_label = [0, 1, 2, 3]\n",
        "\n",
        "# Converting numerical variabel \"Age\" in a categorical variable\n",
        "df[\"age\"] = pd.cut(df['age'], age_bins, labels=age_bins_label, include_lowest=True)\n",
        "\n",
        "# Converting \"trestbps\" in class\n",
        "\n",
        "# 0 - (90-120)\n",
        "# 1 - (121-150)\n",
        "# 2 - (151-200)\n",
        "\n",
        "# Defining intervals\n",
        "trestbps_bins = [90, 120, 150, 200]\n",
        "trestbps_label = [0, 1, 2]\n",
        "\n",
        "# Converting numerical variable \"trestbps\" in categorical variable\n",
        "df['trestbps'] = pd.cut(df['trestbps'], trestbps_bins, labels=trestbps_label, include_lowest=True)\n",
        "\n",
        "# Converting \"chol\" in class\n",
        "\n",
        "# 0 - (0-250)\n",
        "# 1 - (250-600)\n",
        "\n",
        "# Defing intervals\n",
        "chol_bins = [0, 250, 600]\n",
        "chol_label = [0, 1]\n",
        "\n",
        "# Converting 'chol' in category variable\n",
        "df['chol'] = pd.cut(df['chol'], chol_bins, labels=chol_label, include_lowest=True)\n",
        "\n",
        "# Converting \"thalach\" in class\n",
        "\n",
        "# 0 - (80-130)\n",
        "# 1 - (131-160)\n",
        "# 2 - (161-210)\n",
        "\n",
        "# Defing intervals\n",
        "thalach_bins = [80, 130, 160, 210]\n",
        "thalach_label = [0, 1, 2]\n",
        "\n",
        "# Converting 'thalach' in category variable\n",
        "df['thalach'] = pd.cut(df['thalach'], thalach_bins, labels=thalach_label, include_lowest=True)\n",
        "\n",
        "# Converting \"oldpeak\" in class\n",
        "\n",
        "# 0 - (0-1)\n",
        "# 1 - (1-2)\n",
        "# 2 - (2-6)\n",
        "\n",
        "# Defing intervals\n",
        "oldpeak_bins = [0, 1, 2, 6]\n",
        "oldpeak_label = [0, 1, 2]\n",
        "\n",
        "# Converting 'chol' in category variable\n",
        "df['oldpeak'] = pd.cut(df['oldpeak'], oldpeak_bins, labels=oldpeak_label, include_lowest=True)"
      ],
      "execution_count": 0,
      "outputs": []
    },
    {
      "cell_type": "code",
      "metadata": {
        "id": "o_h4M9XpYNbB",
        "colab_type": "code",
        "outputId": "7d67420b-66a8-4d22-a49a-62a7ff643b0a",
        "colab": {
          "base_uri": "https://localhost:8080/",
          "height": 127
        }
      },
      "source": [
        "# Using get_dummies to transform in a sparse matrix\n",
        "\n",
        "df_dummies = pd.get_dummies(df, columns=[\"age\", \"sex\", \"cp\", \"trestbps\", \"chol\", \"fbs\", \"restecg\", \"thalach\", \"exang\", \"oldpeak\", \"slope\", \"ca\", \"thal\"])\n",
        "df_dummies.head(2)"
      ],
      "execution_count": 13,
      "outputs": [
        {
          "output_type": "execute_result",
          "data": {
            "text/html": [
              "<div>\n",
              "<style scoped>\n",
              "    .dataframe tbody tr th:only-of-type {\n",
              "        vertical-align: middle;\n",
              "    }\n",
              "\n",
              "    .dataframe tbody tr th {\n",
              "        vertical-align: top;\n",
              "    }\n",
              "\n",
              "    .dataframe thead th {\n",
              "        text-align: right;\n",
              "    }\n",
              "</style>\n",
              "<table border=\"1\" class=\"dataframe\">\n",
              "  <thead>\n",
              "    <tr style=\"text-align: right;\">\n",
              "      <th></th>\n",
              "      <th>target</th>\n",
              "      <th>age_0</th>\n",
              "      <th>age_1</th>\n",
              "      <th>age_2</th>\n",
              "      <th>age_3</th>\n",
              "      <th>sex_0</th>\n",
              "      <th>sex_1</th>\n",
              "      <th>cp_0</th>\n",
              "      <th>cp_1</th>\n",
              "      <th>cp_2</th>\n",
              "      <th>cp_3</th>\n",
              "      <th>trestbps_0</th>\n",
              "      <th>trestbps_1</th>\n",
              "      <th>trestbps_2</th>\n",
              "      <th>chol_0</th>\n",
              "      <th>chol_1</th>\n",
              "      <th>fbs_0</th>\n",
              "      <th>fbs_1</th>\n",
              "      <th>restecg_0</th>\n",
              "      <th>restecg_1</th>\n",
              "      <th>restecg_2</th>\n",
              "      <th>thalach_0</th>\n",
              "      <th>thalach_1</th>\n",
              "      <th>thalach_2</th>\n",
              "      <th>exang_0</th>\n",
              "      <th>exang_1</th>\n",
              "      <th>oldpeak_0</th>\n",
              "      <th>oldpeak_1</th>\n",
              "      <th>oldpeak_2</th>\n",
              "      <th>slope_0</th>\n",
              "      <th>slope_1</th>\n",
              "      <th>slope_2</th>\n",
              "      <th>ca_0</th>\n",
              "      <th>ca_1</th>\n",
              "      <th>ca_2</th>\n",
              "      <th>ca_3</th>\n",
              "      <th>ca_4</th>\n",
              "      <th>thal_0</th>\n",
              "      <th>thal_1</th>\n",
              "      <th>thal_2</th>\n",
              "      <th>thal_3</th>\n",
              "    </tr>\n",
              "  </thead>\n",
              "  <tbody>\n",
              "    <tr>\n",
              "      <th>0</th>\n",
              "      <td>1</td>\n",
              "      <td>0</td>\n",
              "      <td>0</td>\n",
              "      <td>0</td>\n",
              "      <td>1</td>\n",
              "      <td>0</td>\n",
              "      <td>1</td>\n",
              "      <td>0</td>\n",
              "      <td>0</td>\n",
              "      <td>0</td>\n",
              "      <td>1</td>\n",
              "      <td>0</td>\n",
              "      <td>1</td>\n",
              "      <td>0</td>\n",
              "      <td>1</td>\n",
              "      <td>0</td>\n",
              "      <td>0</td>\n",
              "      <td>1</td>\n",
              "      <td>1</td>\n",
              "      <td>0</td>\n",
              "      <td>0</td>\n",
              "      <td>0</td>\n",
              "      <td>1</td>\n",
              "      <td>0</td>\n",
              "      <td>1</td>\n",
              "      <td>0</td>\n",
              "      <td>0</td>\n",
              "      <td>0</td>\n",
              "      <td>1</td>\n",
              "      <td>1</td>\n",
              "      <td>0</td>\n",
              "      <td>0</td>\n",
              "      <td>1</td>\n",
              "      <td>0</td>\n",
              "      <td>0</td>\n",
              "      <td>0</td>\n",
              "      <td>0</td>\n",
              "      <td>0</td>\n",
              "      <td>1</td>\n",
              "      <td>0</td>\n",
              "      <td>0</td>\n",
              "    </tr>\n",
              "    <tr>\n",
              "      <th>1</th>\n",
              "      <td>1</td>\n",
              "      <td>1</td>\n",
              "      <td>0</td>\n",
              "      <td>0</td>\n",
              "      <td>0</td>\n",
              "      <td>0</td>\n",
              "      <td>1</td>\n",
              "      <td>0</td>\n",
              "      <td>0</td>\n",
              "      <td>1</td>\n",
              "      <td>0</td>\n",
              "      <td>0</td>\n",
              "      <td>1</td>\n",
              "      <td>0</td>\n",
              "      <td>1</td>\n",
              "      <td>0</td>\n",
              "      <td>1</td>\n",
              "      <td>0</td>\n",
              "      <td>0</td>\n",
              "      <td>1</td>\n",
              "      <td>0</td>\n",
              "      <td>0</td>\n",
              "      <td>0</td>\n",
              "      <td>1</td>\n",
              "      <td>1</td>\n",
              "      <td>0</td>\n",
              "      <td>0</td>\n",
              "      <td>0</td>\n",
              "      <td>1</td>\n",
              "      <td>1</td>\n",
              "      <td>0</td>\n",
              "      <td>0</td>\n",
              "      <td>1</td>\n",
              "      <td>0</td>\n",
              "      <td>0</td>\n",
              "      <td>0</td>\n",
              "      <td>0</td>\n",
              "      <td>0</td>\n",
              "      <td>0</td>\n",
              "      <td>1</td>\n",
              "      <td>0</td>\n",
              "    </tr>\n",
              "  </tbody>\n",
              "</table>\n",
              "</div>"
            ],
            "text/plain": [
              "   target  age_0  age_1  age_2  age_3  ...  ca_4  thal_0  thal_1  thal_2  thal_3\n",
              "0       1      0      0      0      1  ...     0       0       1       0       0\n",
              "1       1      1      0      0      0  ...     0       0       0       1       0\n",
              "\n",
              "[2 rows x 41 columns]"
            ]
          },
          "metadata": {
            "tags": []
          },
          "execution_count": 13
        }
      ]
    },
    {
      "cell_type": "markdown",
      "metadata": {
        "id": "wnVkSyDqyOZq",
        "colab_type": "text"
      },
      "source": [
        "---\n",
        "> ##### **4. Construct a baseline and simple models**\n",
        "---\n",
        "\n",
        "* Define train e test data\n",
        "* Make dummies\n",
        "* Define a baseline\n",
        "* Define metric\n",
        "* Run Random forest classifier model\n",
        "\n",
        "---"
      ]
    },
    {
      "cell_type": "code",
      "metadata": {
        "id": "OIfGW3uHpCnH",
        "colab_type": "code",
        "colab": {}
      },
      "source": [
        ""
      ],
      "execution_count": 0,
      "outputs": []
    },
    {
      "cell_type": "code",
      "metadata": {
        "trusted": true,
        "id": "xBn5ijLjyOZs",
        "colab_type": "code",
        "outputId": "b4de6b85-b962-490a-cf7c-224397dc68ae",
        "colab": {
          "base_uri": "https://localhost:8080/",
          "height": 50
        }
      },
      "source": [
        "from sklearn.model_selection import train_test_split\n",
        "\n",
        "# Defining variables and split data [DATA WITHOUT FEATURE ENGENEERING]\n",
        "\n",
        "y = data[\"target\"]\n",
        "X = data.drop(labels=[\"target\"], axis = 1)\n",
        "\n",
        "X_train, X_test, y_train, y_test = train_test_split(X, y, test_size = 0.2, random_state = 42)\n",
        "\n",
        "# Data dimension\n",
        "print(X_train.shape, X_test.shape, y_train.shape, y_test.shape)\n",
        "\n",
        "# Defining variables and split data [DUMMY DATA]\n",
        "\n",
        "y_dummies = df_dummies[\"target\"]\n",
        "X_dummies = df_dummies.drop(labels=[\"target\"], axis = 1)\n",
        "\n",
        "X_train_dummies, X_test_dummies, y_train_dummies, y_test_dummies = train_test_split(X_dummies, y_dummies, test_size = 0.2, random_state = 42)\n",
        "\n",
        "# Data dimension\n",
        "print(X_train_dummies.shape, X_test_dummies.shape, y_train_dummies.shape, y_test_dummies.shape)"
      ],
      "execution_count": 32,
      "outputs": [
        {
          "output_type": "stream",
          "text": [
            "(242, 13) (61, 13) (242,) (61,)\n",
            "(242, 40) (61, 40) (242,) (61,)\n"
          ],
          "name": "stdout"
        }
      ]
    },
    {
      "cell_type": "code",
      "metadata": {
        "id": "yS6fX8fIrnlC",
        "colab_type": "code",
        "colab": {
          "base_uri": "https://localhost:8080/",
          "height": 375
        },
        "outputId": "41dbe0f7-df0d-46d6-c468-3279bb8edb98"
      },
      "source": [
        "\n",
        "# Creating a first simple models to predict heart disease. [WITHOUT FEATURE ENGENEERING]\n",
        "\n",
        "def model(X_train, y_train, X_test, y_test):\n",
        "    \n",
        "    # Importing models\n",
        "    from sklearn.linear_model import RidgeClassifier, SGDClassifier\n",
        "    from sklearn.svm import LinearSVC, SVC\n",
        "    from sklearn.tree import DecisionTreeClassifier, ExtraTreeClassifier\n",
        "    from sklearn.ensemble import AdaBoostClassifier, BaggingClassifier, GradientBoostingClassifier, RandomForestClassifier \n",
        "    from xgboost import XGBClassifier\n",
        "    from sklearn.metrics import accuracy_score\n",
        "\n",
        "\n",
        "    models = [RidgeClassifier(), SGDClassifier(), LinearSVC(), SVC(), DecisionTreeClassifier(), ExtraTreeClassifier(),                                      AdaBoostClassifier(), BaggingClassifier(), GradientBoostingClassifier(), RandomForestClassifier(), XGBClassifier()]\n",
        "\n",
        "    models_name = [\"RidgeClassifier\", \"SGDClassifier\", \"LinearSVC\", \"SVC\", \"DecisionTreeClassifier\", \"ExtraTreeClassifier\",                                      \"AdaBoostClassifier\", \"BaggingClassifier\", \"GradientBoostingClassifier\", \"RandomForestClassifier\", \"XGBClassifier\"]\n",
        "    \n",
        "\n",
        "    # Looop for training all models\n",
        "    valor = []\n",
        "\n",
        "    for i in models:\n",
        "        model = i\n",
        "        model.fit(X_train, y_train)\n",
        "        y_pred = model.predict(X_test)\n",
        "        acc = accuracy_score(y_test, y_pred)\n",
        "        valor.append(acc)\n",
        "        results = pd.DataFrame(list(zip(models_name, valor)), columns=[\"Model\", \"Accuracy\"])\n",
        "    \n",
        "    return results.sort_values(by=['Accuracy'], ascending=False)\n",
        "\n",
        "model(X_train, y_train, X_test, y_test)"
      ],
      "execution_count": 36,
      "outputs": [
        {
          "output_type": "execute_result",
          "data": {
            "text/html": [
              "<div>\n",
              "<style scoped>\n",
              "    .dataframe tbody tr th:only-of-type {\n",
              "        vertical-align: middle;\n",
              "    }\n",
              "\n",
              "    .dataframe tbody tr th {\n",
              "        vertical-align: top;\n",
              "    }\n",
              "\n",
              "    .dataframe thead th {\n",
              "        text-align: right;\n",
              "    }\n",
              "</style>\n",
              "<table border=\"1\" class=\"dataframe\">\n",
              "  <thead>\n",
              "    <tr style=\"text-align: right;\">\n",
              "      <th></th>\n",
              "      <th>Model</th>\n",
              "      <th>Accuracy</th>\n",
              "    </tr>\n",
              "  </thead>\n",
              "  <tbody>\n",
              "    <tr>\n",
              "      <th>0</th>\n",
              "      <td>RidgeClassifier</td>\n",
              "      <td>0.868852</td>\n",
              "    </tr>\n",
              "    <tr>\n",
              "      <th>9</th>\n",
              "      <td>RandomForestClassifier</td>\n",
              "      <td>0.852459</td>\n",
              "    </tr>\n",
              "    <tr>\n",
              "      <th>10</th>\n",
              "      <td>XGBClassifier</td>\n",
              "      <td>0.852459</td>\n",
              "    </tr>\n",
              "    <tr>\n",
              "      <th>4</th>\n",
              "      <td>DecisionTreeClassifier</td>\n",
              "      <td>0.836066</td>\n",
              "    </tr>\n",
              "    <tr>\n",
              "      <th>5</th>\n",
              "      <td>ExtraTreeClassifier</td>\n",
              "      <td>0.803279</td>\n",
              "    </tr>\n",
              "    <tr>\n",
              "      <th>6</th>\n",
              "      <td>AdaBoostClassifier</td>\n",
              "      <td>0.803279</td>\n",
              "    </tr>\n",
              "    <tr>\n",
              "      <th>1</th>\n",
              "      <td>SGDClassifier</td>\n",
              "      <td>0.786885</td>\n",
              "    </tr>\n",
              "    <tr>\n",
              "      <th>7</th>\n",
              "      <td>BaggingClassifier</td>\n",
              "      <td>0.786885</td>\n",
              "    </tr>\n",
              "    <tr>\n",
              "      <th>8</th>\n",
              "      <td>GradientBoostingClassifier</td>\n",
              "      <td>0.770492</td>\n",
              "    </tr>\n",
              "    <tr>\n",
              "      <th>2</th>\n",
              "      <td>LinearSVC</td>\n",
              "      <td>0.704918</td>\n",
              "    </tr>\n",
              "    <tr>\n",
              "      <th>3</th>\n",
              "      <td>SVC</td>\n",
              "      <td>0.704918</td>\n",
              "    </tr>\n",
              "  </tbody>\n",
              "</table>\n",
              "</div>"
            ],
            "text/plain": [
              "                         Model  Accuracy\n",
              "0              RidgeClassifier  0.868852\n",
              "9       RandomForestClassifier  0.852459\n",
              "10               XGBClassifier  0.852459\n",
              "4       DecisionTreeClassifier  0.836066\n",
              "5          ExtraTreeClassifier  0.803279\n",
              "6           AdaBoostClassifier  0.803279\n",
              "1                SGDClassifier  0.786885\n",
              "7            BaggingClassifier  0.786885\n",
              "8   GradientBoostingClassifier  0.770492\n",
              "2                    LinearSVC  0.704918\n",
              "3                          SVC  0.704918"
            ]
          },
          "metadata": {
            "tags": []
          },
          "execution_count": 36
        }
      ]
    },
    {
      "cell_type": "code",
      "metadata": {
        "id": "Cf1g1dW3pEGk",
        "colab_type": "code",
        "colab": {
          "base_uri": "https://localhost:8080/",
          "height": 375
        },
        "outputId": "c189599a-a5a8-4e7d-b016-284710de13e2"
      },
      "source": [
        "# Creating a firsts simple models to predict heart disease. [DUMMY VARIABLE + FEATURE ENGENEERING]\n",
        "\n",
        "def model(X_train, y_train, X_test, y_test):\n",
        "    \n",
        "    # Importing models\n",
        "    from sklearn.linear_model import RidgeClassifier, SGDClassifier\n",
        "    from sklearn.svm import LinearSVC, SVC\n",
        "    from sklearn.tree import DecisionTreeClassifier, ExtraTreeClassifier\n",
        "    from sklearn.ensemble import AdaBoostClassifier, BaggingClassifier, GradientBoostingClassifier, RandomForestClassifier \n",
        "    from xgboost import XGBClassifier\n",
        "    from sklearn.metrics import accuracy_score\n",
        "\n",
        "\n",
        "    models = [RidgeClassifier(), SGDClassifier(), LinearSVC(), SVC(), DecisionTreeClassifier(), ExtraTreeClassifier(),                                      AdaBoostClassifier(), BaggingClassifier(), GradientBoostingClassifier(), RandomForestClassifier(), XGBClassifier()]\n",
        "\n",
        "    models_name = [\"RidgeClassifier\", \"SGDClassifier\", \"LinearSVC\", \"SVC\", \"DecisionTreeClassifier\", \"ExtraTreeClassifier\",                                      \"AdaBoostClassifier\", \"BaggingClassifier\", \"GradientBoostingClassifier\", \"RandomForestClassifier\", \"XGBClassifier\"]\n",
        "    \n",
        "\n",
        "    # Looop for training all models\n",
        "    valor = []\n",
        "\n",
        "    for i in models:\n",
        "        model = i\n",
        "        model.fit(X_train_dummies, y_train_dummies)\n",
        "        y_pred = model.predict(X_test_dummies)\n",
        "        acc = accuracy_score(y_test_dummies, y_pred)\n",
        "        valor.append(acc)\n",
        "        results = pd.DataFrame(list(zip(models_name, valor)), columns=[\"Model\", \"Accuracy\"])\n",
        "    \n",
        "    return results.sort_values(by=['Accuracy'], ascending=False)\n",
        "\n",
        "model(X_train_dummies, y_train_dummies, X_test_dummies, y_test_dummies)"
      ],
      "execution_count": 33,
      "outputs": [
        {
          "output_type": "execute_result",
          "data": {
            "text/html": [
              "<div>\n",
              "<style scoped>\n",
              "    .dataframe tbody tr th:only-of-type {\n",
              "        vertical-align: middle;\n",
              "    }\n",
              "\n",
              "    .dataframe tbody tr th {\n",
              "        vertical-align: top;\n",
              "    }\n",
              "\n",
              "    .dataframe thead th {\n",
              "        text-align: right;\n",
              "    }\n",
              "</style>\n",
              "<table border=\"1\" class=\"dataframe\">\n",
              "  <thead>\n",
              "    <tr style=\"text-align: right;\">\n",
              "      <th></th>\n",
              "      <th>Model</th>\n",
              "      <th>Accuracy</th>\n",
              "    </tr>\n",
              "  </thead>\n",
              "  <tbody>\n",
              "    <tr>\n",
              "      <th>0</th>\n",
              "      <td>RidgeClassifier</td>\n",
              "      <td>0.901639</td>\n",
              "    </tr>\n",
              "    <tr>\n",
              "      <th>3</th>\n",
              "      <td>SVC</td>\n",
              "      <td>0.901639</td>\n",
              "    </tr>\n",
              "    <tr>\n",
              "      <th>10</th>\n",
              "      <td>XGBClassifier</td>\n",
              "      <td>0.885246</td>\n",
              "    </tr>\n",
              "    <tr>\n",
              "      <th>2</th>\n",
              "      <td>LinearSVC</td>\n",
              "      <td>0.868852</td>\n",
              "    </tr>\n",
              "    <tr>\n",
              "      <th>8</th>\n",
              "      <td>GradientBoostingClassifier</td>\n",
              "      <td>0.852459</td>\n",
              "    </tr>\n",
              "    <tr>\n",
              "      <th>9</th>\n",
              "      <td>RandomForestClassifier</td>\n",
              "      <td>0.852459</td>\n",
              "    </tr>\n",
              "    <tr>\n",
              "      <th>1</th>\n",
              "      <td>SGDClassifier</td>\n",
              "      <td>0.819672</td>\n",
              "    </tr>\n",
              "    <tr>\n",
              "      <th>7</th>\n",
              "      <td>BaggingClassifier</td>\n",
              "      <td>0.819672</td>\n",
              "    </tr>\n",
              "    <tr>\n",
              "      <th>5</th>\n",
              "      <td>ExtraTreeClassifier</td>\n",
              "      <td>0.786885</td>\n",
              "    </tr>\n",
              "    <tr>\n",
              "      <th>6</th>\n",
              "      <td>AdaBoostClassifier</td>\n",
              "      <td>0.786885</td>\n",
              "    </tr>\n",
              "    <tr>\n",
              "      <th>4</th>\n",
              "      <td>DecisionTreeClassifier</td>\n",
              "      <td>0.754098</td>\n",
              "    </tr>\n",
              "  </tbody>\n",
              "</table>\n",
              "</div>"
            ],
            "text/plain": [
              "                         Model  Accuracy\n",
              "0              RidgeClassifier  0.901639\n",
              "3                          SVC  0.901639\n",
              "10               XGBClassifier  0.885246\n",
              "2                    LinearSVC  0.868852\n",
              "8   GradientBoostingClassifier  0.852459\n",
              "9       RandomForestClassifier  0.852459\n",
              "1                SGDClassifier  0.819672\n",
              "7            BaggingClassifier  0.819672\n",
              "5          ExtraTreeClassifier  0.786885\n",
              "6           AdaBoostClassifier  0.786885\n",
              "4       DecisionTreeClassifier  0.754098"
            ]
          },
          "metadata": {
            "tags": []
          },
          "execution_count": 33
        }
      ]
    },
    {
      "cell_type": "markdown",
      "metadata": {
        "id": "Zn6-bRLbr_aN",
        "colab_type": "text"
      },
      "source": [
        "Top 3 Models: RidgeClassifier, SVC and XGBClassifier"
      ]
    },
    {
      "cell_type": "code",
      "metadata": {
        "id": "Bths80duyWRT",
        "colab_type": "code",
        "colab": {
          "base_uri": "https://localhost:8080/",
          "height": 67
        },
        "outputId": "b4162170-a2cf-4f4e-81bc-ffe219c90ff5"
      },
      "source": [
        "# RidgeClassifier\n",
        "from sklearn.linear_model import RidgeClassifier\n",
        "\n",
        "ridge = RidgeClassifier()\n",
        "ridge.fit(X_train_dummies, y_train_dummies)\n",
        "y_pred = ridge.predict(X_test_dummies)\n",
        "acc_ridge = accuracy_score(y_test_dummies, y_pred)\n",
        "\n",
        "print('Ridge Classifier accuracy: ', acc_ridge)\n",
        "\n",
        "# SVC\n",
        "from sklearn.svm import SVC\n",
        "\n",
        "svc = SVC()\n",
        "svc.fit(X_train_dummies, y_train_dummies)\n",
        "y_pred = svc.predict(X_test_dummies)\n",
        "acc_svc = accuracy_score(y_test_dummies, y_pred)\n",
        "\n",
        "print('SVClassifier accuracy: ', acc_svc)\n",
        "\n",
        "#XGBoost classifier\n",
        "from xgboost import XGBClassifier\n",
        "\n",
        "xgboost = XGBClassifier()\n",
        "xgboost.fit(X_train_dummies, y_train_dummies)\n",
        "y_pred = xgboost.predict(X_test_dummies)\n",
        "acc_xgboost = accuracy_score(y_test_dummies, y_pred)\n",
        "\n",
        "print('xgboost Classifier accuracy: ', acc_xgboost)"
      ],
      "execution_count": 70,
      "outputs": [
        {
          "output_type": "stream",
          "text": [
            "Ridge Classifier accuracy:  0.9016393442622951\n",
            "SVClassifier accuracy:  0.9016393442622951\n",
            "xgboost Classifier accuracy:  0.8852459016393442\n"
          ],
          "name": "stdout"
        }
      ]
    },
    {
      "cell_type": "code",
      "metadata": {
        "id": "UvwoD3B__htn",
        "colab_type": "code",
        "outputId": "8fe5aa28-355a-49da-846b-ca9c56133bcf",
        "colab": {
          "base_uri": "https://localhost:8080/",
          "height": 584
        }
      },
      "source": [
        "# import Neural Network libraries\n",
        "\n",
        "import keras\n",
        "from keras.models import Sequential\n",
        "from keras.layers import Dense\n",
        "\n",
        "# Create an archteture layer\n",
        "\n",
        "# Create a sequential model\n",
        "model = Sequential()\n",
        "\n",
        "# Create an input layer\n",
        "model.add(Dense(16, input_shape=(40,)))\n",
        "\n",
        "# Create a hidden layer\n",
        "model.add(Dense(16, activation='relu'))\n",
        "\n",
        "# Create a hidden layer\n",
        "model.add(Dense(8, activation='relu'))\n",
        "\n",
        "# Create a output layer\n",
        "model.add(Dense(1, activation='sigmoid'))\n",
        "\n",
        "# Compile my model\n",
        "model.compile(loss='binary_crossentropy', optimizer='adam', metrics=['accuracy'])\n",
        "\n",
        "# Summary of model\n",
        "model.summary()"
      ],
      "execution_count": 80,
      "outputs": [
        {
          "output_type": "stream",
          "text": [
            "Using TensorFlow backend.\n"
          ],
          "name": "stderr"
        },
        {
          "output_type": "display_data",
          "data": {
            "text/html": [
              "<p style=\"color: red;\">\n",
              "The default version of TensorFlow in Colab will soon switch to TensorFlow 2.x.<br>\n",
              "We recommend you <a href=\"https://www.tensorflow.org/guide/migrate\" target=\"_blank\">upgrade</a> now \n",
              "or ensure your notebook will continue to use TensorFlow 1.x via the <code>%tensorflow_version 1.x</code> magic:\n",
              "<a href=\"https://colab.research.google.com/notebooks/tensorflow_version.ipynb\" target=\"_blank\">more info</a>.</p>\n"
            ],
            "text/plain": [
              "<IPython.core.display.HTML object>"
            ]
          },
          "metadata": {
            "tags": []
          }
        },
        {
          "output_type": "stream",
          "text": [
            "WARNING:tensorflow:From /usr/local/lib/python3.6/dist-packages/keras/backend/tensorflow_backend.py:66: The name tf.get_default_graph is deprecated. Please use tf.compat.v1.get_default_graph instead.\n",
            "\n",
            "WARNING:tensorflow:From /usr/local/lib/python3.6/dist-packages/keras/backend/tensorflow_backend.py:541: The name tf.placeholder is deprecated. Please use tf.compat.v1.placeholder instead.\n",
            "\n",
            "WARNING:tensorflow:From /usr/local/lib/python3.6/dist-packages/keras/backend/tensorflow_backend.py:4432: The name tf.random_uniform is deprecated. Please use tf.random.uniform instead.\n",
            "\n",
            "WARNING:tensorflow:From /usr/local/lib/python3.6/dist-packages/keras/optimizers.py:793: The name tf.train.Optimizer is deprecated. Please use tf.compat.v1.train.Optimizer instead.\n",
            "\n",
            "WARNING:tensorflow:From /usr/local/lib/python3.6/dist-packages/keras/backend/tensorflow_backend.py:3657: The name tf.log is deprecated. Please use tf.math.log instead.\n",
            "\n",
            "WARNING:tensorflow:From /usr/local/lib/python3.6/dist-packages/tensorflow_core/python/ops/nn_impl.py:183: where (from tensorflow.python.ops.array_ops) is deprecated and will be removed in a future version.\n",
            "Instructions for updating:\n",
            "Use tf.where in 2.0, which has the same broadcast rule as np.where\n",
            "Model: \"sequential_1\"\n",
            "_________________________________________________________________\n",
            "Layer (type)                 Output Shape              Param #   \n",
            "=================================================================\n",
            "dense_1 (Dense)              (None, 16)                656       \n",
            "_________________________________________________________________\n",
            "dense_2 (Dense)              (None, 16)                272       \n",
            "_________________________________________________________________\n",
            "dense_3 (Dense)              (None, 8)                 136       \n",
            "_________________________________________________________________\n",
            "dense_4 (Dense)              (None, 1)                 9         \n",
            "=================================================================\n",
            "Total params: 1,073\n",
            "Trainable params: 1,073\n",
            "Non-trainable params: 0\n",
            "_________________________________________________________________\n"
          ],
          "name": "stdout"
        }
      ]
    },
    {
      "cell_type": "code",
      "metadata": {
        "id": "VszCE60MCv8F",
        "colab_type": "code",
        "colab": {
          "base_uri": "https://localhost:8080/",
          "height": 1000
        },
        "outputId": "e645b81e-174a-40d3-8f79-ac51a5d1d96d"
      },
      "source": [
        "# fit the model\n",
        "\n",
        "# Train my model for 25 epochs\n",
        "history = model.fit(X_train_dummies, y_train_dummies, epochs=25, validation_data=(X_test_dummies, y_test_dummies))"
      ],
      "execution_count": 81,
      "outputs": [
        {
          "output_type": "stream",
          "text": [
            "WARNING:tensorflow:From /usr/local/lib/python3.6/dist-packages/keras/backend/tensorflow_backend.py:1033: The name tf.assign_add is deprecated. Please use tf.compat.v1.assign_add instead.\n",
            "\n",
            "WARNING:tensorflow:From /usr/local/lib/python3.6/dist-packages/keras/backend/tensorflow_backend.py:1020: The name tf.assign is deprecated. Please use tf.compat.v1.assign instead.\n",
            "\n",
            "WARNING:tensorflow:From /usr/local/lib/python3.6/dist-packages/keras/backend/tensorflow_backend.py:3005: The name tf.Session is deprecated. Please use tf.compat.v1.Session instead.\n",
            "\n",
            "Train on 242 samples, validate on 61 samples\n",
            "Epoch 1/25\n",
            "WARNING:tensorflow:From /usr/local/lib/python3.6/dist-packages/keras/backend/tensorflow_backend.py:190: The name tf.get_default_session is deprecated. Please use tf.compat.v1.get_default_session instead.\n",
            "\n",
            "WARNING:tensorflow:From /usr/local/lib/python3.6/dist-packages/keras/backend/tensorflow_backend.py:197: The name tf.ConfigProto is deprecated. Please use tf.compat.v1.ConfigProto instead.\n",
            "\n",
            "WARNING:tensorflow:From /usr/local/lib/python3.6/dist-packages/keras/backend/tensorflow_backend.py:207: The name tf.global_variables is deprecated. Please use tf.compat.v1.global_variables instead.\n",
            "\n",
            "WARNING:tensorflow:From /usr/local/lib/python3.6/dist-packages/keras/backend/tensorflow_backend.py:216: The name tf.is_variable_initialized is deprecated. Please use tf.compat.v1.is_variable_initialized instead.\n",
            "\n",
            "WARNING:tensorflow:From /usr/local/lib/python3.6/dist-packages/keras/backend/tensorflow_backend.py:223: The name tf.variables_initializer is deprecated. Please use tf.compat.v1.variables_initializer instead.\n",
            "\n",
            "242/242 [==============================] - 1s 3ms/step - loss: 0.7481 - acc: 0.4545 - val_loss: 0.7140 - val_acc: 0.5410\n",
            "Epoch 2/25\n",
            "242/242 [==============================] - 0s 102us/step - loss: 0.6899 - acc: 0.4752 - val_loss: 0.6715 - val_acc: 0.5410\n",
            "Epoch 3/25\n",
            "242/242 [==============================] - 0s 77us/step - loss: 0.6537 - acc: 0.5620 - val_loss: 0.6430 - val_acc: 0.5902\n",
            "Epoch 4/25\n",
            "242/242 [==============================] - 0s 71us/step - loss: 0.6262 - acc: 0.6033 - val_loss: 0.6183 - val_acc: 0.6393\n",
            "Epoch 5/25\n",
            "242/242 [==============================] - 0s 76us/step - loss: 0.6028 - acc: 0.7066 - val_loss: 0.5936 - val_acc: 0.7213\n",
            "Epoch 6/25\n",
            "242/242 [==============================] - 0s 65us/step - loss: 0.5790 - acc: 0.7686 - val_loss: 0.5717 - val_acc: 0.7541\n",
            "Epoch 7/25\n",
            "242/242 [==============================] - 0s 68us/step - loss: 0.5584 - acc: 0.7975 - val_loss: 0.5475 - val_acc: 0.8033\n",
            "Epoch 8/25\n",
            "242/242 [==============================] - 0s 80us/step - loss: 0.5365 - acc: 0.8058 - val_loss: 0.5232 - val_acc: 0.8197\n",
            "Epoch 9/25\n",
            "242/242 [==============================] - 0s 69us/step - loss: 0.5158 - acc: 0.8058 - val_loss: 0.4970 - val_acc: 0.8361\n",
            "Epoch 10/25\n",
            "242/242 [==============================] - 0s 63us/step - loss: 0.4946 - acc: 0.8099 - val_loss: 0.4734 - val_acc: 0.8525\n",
            "Epoch 11/25\n",
            "242/242 [==============================] - 0s 93us/step - loss: 0.4724 - acc: 0.8264 - val_loss: 0.4544 - val_acc: 0.8525\n",
            "Epoch 12/25\n",
            "242/242 [==============================] - 0s 77us/step - loss: 0.4523 - acc: 0.8182 - val_loss: 0.4346 - val_acc: 0.8525\n",
            "Epoch 13/25\n",
            "242/242 [==============================] - 0s 72us/step - loss: 0.4328 - acc: 0.8306 - val_loss: 0.4160 - val_acc: 0.8361\n",
            "Epoch 14/25\n",
            "242/242 [==============================] - 0s 94us/step - loss: 0.4142 - acc: 0.8306 - val_loss: 0.4017 - val_acc: 0.8361\n",
            "Epoch 15/25\n",
            "242/242 [==============================] - 0s 75us/step - loss: 0.3958 - acc: 0.8347 - val_loss: 0.3889 - val_acc: 0.8525\n",
            "Epoch 16/25\n",
            "242/242 [==============================] - 0s 79us/step - loss: 0.3813 - acc: 0.8430 - val_loss: 0.3758 - val_acc: 0.8689\n",
            "Epoch 17/25\n",
            "242/242 [==============================] - 0s 96us/step - loss: 0.3670 - acc: 0.8471 - val_loss: 0.3709 - val_acc: 0.8852\n",
            "Epoch 18/25\n",
            "242/242 [==============================] - 0s 80us/step - loss: 0.3560 - acc: 0.8471 - val_loss: 0.3608 - val_acc: 0.8689\n",
            "Epoch 19/25\n",
            "242/242 [==============================] - 0s 91us/step - loss: 0.3470 - acc: 0.8554 - val_loss: 0.3545 - val_acc: 0.8689\n",
            "Epoch 20/25\n",
            "242/242 [==============================] - 0s 83us/step - loss: 0.3397 - acc: 0.8554 - val_loss: 0.3512 - val_acc: 0.8689\n",
            "Epoch 21/25\n",
            "242/242 [==============================] - 0s 88us/step - loss: 0.3321 - acc: 0.8595 - val_loss: 0.3623 - val_acc: 0.8689\n",
            "Epoch 22/25\n",
            "242/242 [==============================] - 0s 99us/step - loss: 0.3262 - acc: 0.8595 - val_loss: 0.3547 - val_acc: 0.8689\n",
            "Epoch 23/25\n",
            "242/242 [==============================] - 0s 75us/step - loss: 0.3205 - acc: 0.8595 - val_loss: 0.3450 - val_acc: 0.8852\n",
            "Epoch 24/25\n",
            "242/242 [==============================] - 0s 86us/step - loss: 0.3159 - acc: 0.8636 - val_loss: 0.3461 - val_acc: 0.8852\n",
            "Epoch 25/25\n",
            "242/242 [==============================] - 0s 105us/step - loss: 0.3132 - acc: 0.8636 - val_loss: 0.3444 - val_acc: 0.8852\n"
          ],
          "name": "stdout"
        }
      ]
    },
    {
      "cell_type": "code",
      "metadata": {
        "id": "xCR2vlVNK3TO",
        "colab_type": "code",
        "outputId": "abd8a11e-1e8d-46c3-bd48-b65fe6536267",
        "colab": {
          "base_uri": "https://localhost:8080/",
          "height": 295
        }
      },
      "source": [
        "# Plot train vs test accuracy per epoch\n",
        "\n",
        "plt.figure()\n",
        "\n",
        "# Using the history metrics\n",
        "plt.plot(history.history['acc'])\n",
        "plt.plot(history.history['val_acc'])\n",
        "plt.title('model accuracy')\n",
        "plt.ylabel('accuracy')\n",
        "plt.xlabel('epoch')\n",
        "plt.legend(['train', 'test'], loc='upper left')\n",
        "plt.show()"
      ],
      "execution_count": 82,
      "outputs": [
        {
          "output_type": "display_data",
          "data": {
            "image/png": "[encoded data removed]",
            "text/plain": [
              "<Figure size 432x288 with 1 Axes>"
            ]
          },
          "metadata": {
            "tags": []
          }
        }
      ]
    }
  ]
}