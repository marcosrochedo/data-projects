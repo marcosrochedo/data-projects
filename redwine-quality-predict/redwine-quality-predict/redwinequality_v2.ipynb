{
 "cells": [
  {
   "cell_type": "markdown",
   "metadata": {},
   "source": [
    "## Case_I_v2 : Using chemical analysis to determine the quality wines"
   ]
  },
  {
   "cell_type": "code",
   "execution_count": 1,
   "metadata": {},
   "outputs": [],
   "source": [
    "# Import modules\n",
    "\n",
    "import pandas as pd\n",
    "import numpy as np\n",
    "import matplotlib.pyplot as plt\n",
    "import warnings\n",
    "warnings.filterwarnings(\"ignore\")\n",
    "\n",
    "%matplotlib inline "
   ]
  },
  {
   "cell_type": "code",
   "execution_count": 2,
   "metadata": {},
   "outputs": [],
   "source": [
    "# Import dataset\n",
    "\n",
    "wines = pd.read_csv(\"winequality.csv\", sep = ';')"
   ]
  },
  {
   "cell_type": "markdown",
   "metadata": {},
   "source": [
    "## Checking data"
   ]
  },
  {
   "cell_type": "code",
   "execution_count": null,
   "metadata": {},
   "outputs": [],
   "source": [
    "# Checking the data format\n",
    "shape = wines.shape\n",
    "print('Numbers of lines and columns: {0}'.format(shape))"
   ]
  },
  {
   "cell_type": "code",
   "execution_count": 36,
   "metadata": {},
   "outputs": [
    {
     "data": {
      "text/html": [
       "<div>\n",
       "<style scoped>\n",
       "    .dataframe tbody tr th:only-of-type {\n",
       "        vertical-align: middle;\n",
       "    }\n",
       "\n",
       "    .dataframe tbody tr th {\n",
       "        vertical-align: top;\n",
       "    }\n",
       "\n",
       "    .dataframe thead th {\n",
       "        text-align: right;\n",
       "    }\n",
       "</style>\n",
       "<table border=\"1\" class=\"dataframe\">\n",
       "  <thead>\n",
       "    <tr style=\"text-align: right;\">\n",
       "      <th></th>\n",
       "      <th>fixed acidity</th>\n",
       "      <th>volatile acidity</th>\n",
       "      <th>citric acid</th>\n",
       "      <th>residual sugar</th>\n",
       "      <th>chlorides</th>\n",
       "      <th>free sulfur dioxide</th>\n",
       "      <th>total sulfur dioxide</th>\n",
       "      <th>density</th>\n",
       "      <th>pH</th>\n",
       "      <th>sulphates</th>\n",
       "      <th>alcohol</th>\n",
       "      <th>quality</th>\n",
       "    </tr>\n",
       "  </thead>\n",
       "  <tbody>\n",
       "    <tr>\n",
       "      <th>0</th>\n",
       "      <td>7.4</td>\n",
       "      <td>0.70</td>\n",
       "      <td>0.00</td>\n",
       "      <td>1.9</td>\n",
       "      <td>0.076</td>\n",
       "      <td>11.0</td>\n",
       "      <td>34.0</td>\n",
       "      <td>0.9978</td>\n",
       "      <td>3.51</td>\n",
       "      <td>0.56</td>\n",
       "      <td>9.4</td>\n",
       "      <td>5</td>\n",
       "    </tr>\n",
       "    <tr>\n",
       "      <th>1</th>\n",
       "      <td>7.8</td>\n",
       "      <td>0.88</td>\n",
       "      <td>0.00</td>\n",
       "      <td>2.6</td>\n",
       "      <td>0.098</td>\n",
       "      <td>25.0</td>\n",
       "      <td>67.0</td>\n",
       "      <td>0.9968</td>\n",
       "      <td>3.20</td>\n",
       "      <td>0.68</td>\n",
       "      <td>9.8</td>\n",
       "      <td>5</td>\n",
       "    </tr>\n",
       "    <tr>\n",
       "      <th>2</th>\n",
       "      <td>7.8</td>\n",
       "      <td>0.76</td>\n",
       "      <td>0.04</td>\n",
       "      <td>2.3</td>\n",
       "      <td>0.092</td>\n",
       "      <td>15.0</td>\n",
       "      <td>54.0</td>\n",
       "      <td>0.9970</td>\n",
       "      <td>3.26</td>\n",
       "      <td>0.65</td>\n",
       "      <td>9.8</td>\n",
       "      <td>5</td>\n",
       "    </tr>\n",
       "    <tr>\n",
       "      <th>3</th>\n",
       "      <td>11.2</td>\n",
       "      <td>0.28</td>\n",
       "      <td>0.56</td>\n",
       "      <td>1.9</td>\n",
       "      <td>0.075</td>\n",
       "      <td>17.0</td>\n",
       "      <td>60.0</td>\n",
       "      <td>0.9980</td>\n",
       "      <td>3.16</td>\n",
       "      <td>0.58</td>\n",
       "      <td>9.8</td>\n",
       "      <td>6</td>\n",
       "    </tr>\n",
       "    <tr>\n",
       "      <th>4</th>\n",
       "      <td>7.4</td>\n",
       "      <td>0.70</td>\n",
       "      <td>0.00</td>\n",
       "      <td>1.9</td>\n",
       "      <td>0.076</td>\n",
       "      <td>11.0</td>\n",
       "      <td>34.0</td>\n",
       "      <td>0.9978</td>\n",
       "      <td>3.51</td>\n",
       "      <td>0.56</td>\n",
       "      <td>9.4</td>\n",
       "      <td>5</td>\n",
       "    </tr>\n",
       "  </tbody>\n",
       "</table>\n",
       "</div>"
      ],
      "text/plain": [
       "   fixed acidity  volatile acidity  citric acid  residual sugar  chlorides  \\\n",
       "0            7.4              0.70         0.00             1.9      0.076   \n",
       "1            7.8              0.88         0.00             2.6      0.098   \n",
       "2            7.8              0.76         0.04             2.3      0.092   \n",
       "3           11.2              0.28         0.56             1.9      0.075   \n",
       "4            7.4              0.70         0.00             1.9      0.076   \n",
       "\n",
       "   free sulfur dioxide  total sulfur dioxide  density    pH  sulphates  \\\n",
       "0                 11.0                  34.0   0.9978  3.51       0.56   \n",
       "1                 25.0                  67.0   0.9968  3.20       0.68   \n",
       "2                 15.0                  54.0   0.9970  3.26       0.65   \n",
       "3                 17.0                  60.0   0.9980  3.16       0.58   \n",
       "4                 11.0                  34.0   0.9978  3.51       0.56   \n",
       "\n",
       "   alcohol  quality  \n",
       "0      9.4        5  \n",
       "1      9.8        5  \n",
       "2      9.8        5  \n",
       "3      9.8        6  \n",
       "4      9.4        5  "
      ]
     },
     "execution_count": 36,
     "metadata": {},
     "output_type": "execute_result"
    }
   ],
   "source": [
    "# Checking the first five lines\n",
    "wines.head(5)"
   ]
  },
  {
   "cell_type": "code",
   "execution_count": null,
   "metadata": {},
   "outputs": [],
   "source": [
    "# Checking the last five lines\n",
    "wines.tail(5)"
   ]
  },
  {
   "cell_type": "code",
   "execution_count": null,
   "metadata": {},
   "outputs": [],
   "source": [
    "# Checking missing datas\n",
    "wines.isnull().values.any()"
   ]
  },
  {
   "cell_type": "code",
   "execution_count": null,
   "metadata": {},
   "outputs": [],
   "source": [
    "# Missing hidden values\n",
    "print(\"# Lines in dataframe {0}\".format(len(wines)))\n",
    "print(\"# Lines missing fixed acidity: {0}\".format(len(wines.loc[wines['fixed acidity'] == 0])))\n",
    "print(\"# Lines missing volatile acidity: {0}\".format(len(wines.loc[wines['volatile acidity'] == 0])))\n",
    "print(\"# Lines missing citric acid: {0}\".format(len(wines.loc[wines['citric acid'] == 0])))\n",
    "print(\"# Lines missing residual sugar: {0}\".format(len(wines.loc[wines['residual sugar'] == 0])))\n",
    "print(\"# Lines missing chlorides: {0}\".format(len(wines.loc[wines['chlorides'] == 0])))\n",
    "print(\"# Lines missing total sulfur dioxide: {0}\".format(len(wines.loc[wines['total sulfur dioxide'] == 0])))\n",
    "print(\"# Lines missing density: {0}\".format(len(wines.loc[wines['density'] == 0])))\n",
    "print(\"# Lines missing pH: {0}\".format(len(wines.loc[wines['pH'] == 0])))\n",
    "print(\"# Lines missing sulphates: {0}\".format(len(wines.loc[wines['sulphates'] == 0])))\n",
    "print(\"# Lines missing alcohol: {0}\".format(len(wines.loc[wines['alcohol'] == 0])))"
   ]
  },
  {
   "cell_type": "code",
   "execution_count": null,
   "metadata": {},
   "outputs": [],
   "source": [
    "wines.isnull().sum()"
   ]
  },
  {
   "cell_type": "code",
   "execution_count": null,
   "metadata": {},
   "outputs": [],
   "source": [
    "# Treating missing missing values ​​found\n",
    "\n",
    "## from sklearn.impute import SimpleImputer\n",
    "## ocultos = SimpleImputer(missing_values = 0, strategy = \"mean\")"
   ]
  },
  {
   "cell_type": "code",
   "execution_count": null,
   "metadata": {},
   "outputs": [],
   "source": [
    "# Substituting values equal to zero, by the mean of the data\n",
    "\n",
    "## X_treino = ocultos.fit_transform(X_treino)\n",
    "## X_teste = ocultos.fit_transform(X_teste)\n",
    "\n",
    "# CONCLUSION = MAY BE VALUES = 0 IN THIS ATTRIBUTE, THEREFORE, THE TREATMENT WAS NOT EXECUTED"
   ]
  },
  {
   "cell_type": "markdown",
   "metadata": {},
   "source": [
    "## Exploratory data analyzis"
   ]
  },
  {
   "cell_type": "code",
   "execution_count": null,
   "metadata": {},
   "outputs": [],
   "source": [
    "# Identifying correlation between variables\n",
    "\n",
    "def plot_corr(wines, size = 10):\n",
    "    corr = wines.corr()\n",
    "    fig, ax = plt.subplots(figsize = (size, size))\n",
    "    ax.matshow(corr)  \n",
    "    plt.xticks(range(len(corr.columns)), corr.columns) \n",
    "    plt.yticks(range(len(corr.columns)), corr.columns) "
   ]
  },
  {
   "cell_type": "code",
   "execution_count": null,
   "metadata": {},
   "outputs": [],
   "source": [
    "# Plot correlation\n",
    "\n",
    "plot_corr(wines)"
   ]
  },
  {
   "cell_type": "code",
   "execution_count": null,
   "metadata": {},
   "outputs": [],
   "source": [
    "# Viewing the correlation in table\n",
    "# Correlation Coefficient:\n",
    "# +1 = strong positive correlation\n",
    "# 0 = no correlation\n",
    "# -1 = strong negative correlation\n",
    "\n",
    "wines.corr()"
   ]
  },
  {
   "cell_type": "markdown",
   "metadata": {},
   "source": [
    "## Data Splitting"
   ]
  },
  {
   "cell_type": "code",
   "execution_count": 3,
   "metadata": {},
   "outputs": [],
   "source": [
    "# Variable explanatory(Feature Selection)\n",
    "atributes = wines.drop('quality', axis=1)\n",
    "\n",
    "# Variable target\n",
    "predict = wines['quality']\n",
    "\n",
    "# Creating objects\n",
    "X = atributes\n",
    "y = predict"
   ]
  },
  {
   "cell_type": "code",
   "execution_count": 4,
   "metadata": {},
   "outputs": [],
   "source": [
    "# Splitting of data - 75% for training data and 25% for test data\n",
    "# Importing the train_test_split\n",
    "\n",
    "from sklearn.model_selection import train_test_split\n",
    "\n",
    "# Setting split rate\n",
    "split_test_size = 0.25\n",
    "\n",
    "# Creating test data and train data\n",
    "X_train, X_test, y_train, y_test = train_test_split(X, y, test_size = split_test_size, random_state = 42)"
   ]
  },
  {
   "cell_type": "code",
   "execution_count": null,
   "metadata": {},
   "outputs": [],
   "source": [
    "# Printing results\n",
    "\n",
    "print(\"{0:0.2f}% in data train.\".format((len(X_train)/len(wines.index)) * 100))\n",
    "print(\"{0:0.2f}% in data test.\".format((len(X_test)/len(wines.index)) * 100))"
   ]
  },
  {
   "cell_type": "markdown",
   "metadata": {},
   "source": [
    "## Lasso Regression: Building, Trainning and Checking accuracy\n",
    "- Choice of algorithms was decided with the help of FlowChart from ScikitLearn (Regression algorithms)"
   ]
  },
  {
   "cell_type": "code",
   "execution_count": 7,
   "metadata": {},
   "outputs": [
    {
     "name": "stdout",
     "output_type": "stream",
     "text": [
      "Results: \n",
      "Mean absolute error / Train test split / Train data:  0.6529844072314784\n",
      "Mean absolute error / Train test split / Test data:  0.6468353681504646\n",
      "Mean absolute error / Cross Val / Test data:  0.660230613816923\n",
      "[-0.65812805 -0.67347745 -0.64908635]\n"
     ]
    }
   ],
   "source": [
    "# Importing the linear model 'Lasso', make pipeline and mean absolute error metrics.\n",
    "from sklearn.linear_model import Lasso\n",
    "from sklearn.pipeline import make_pipeline\n",
    "from sklearn.metrics import mean_absolute_error\n",
    "\n",
    "#Creating a predict model\n",
    "my_pipeline1 = make_pipeline(Lasso())\n",
    "\n",
    "# Trainning the model\n",
    "my_pipeline1.fit(X_train, y_train)\n",
    "\n",
    "# Predicting Y based on training and test data.\n",
    "predictLassotrain = my_pipeline1.predict(X_train)\n",
    "predictLassotest = my_pipeline1.predict(X_test)\n",
    "\n",
    "# Print results\n",
    "scores_train_lasso = mean_absolute_error(y_train, predictLassotrain)\n",
    "scores_traintestsplit = mean_absolute_error(y_test, predictLassotest)\n",
    "print('Results: ')\n",
    "print('Mean absolute error / Train test split / Train data: ', scores_train_lasso)\n",
    "print('Mean absolute error / Train test split / Test data: ', scores_traintestsplit)\n",
    "\n",
    "# Model with cross validation\n",
    "from sklearn.model_selection import cross_val_score\n",
    "cross_lasso = cross_val_score(my_pipeline1, X, y,  scoring='neg_mean_absolute_error')\n",
    "print('Mean absolute error / Cross Val / Test data: ', cross_lasso.mean() * -1)\n",
    "print(cross_lasso)"
   ]
  },
  {
   "cell_type": "markdown",
   "metadata": {},
   "source": [
    "## Ridge Regression: Building, Trainning and Checking accuracy"
   ]
  },
  {
   "cell_type": "code",
   "execution_count": null,
   "metadata": {},
   "outputs": [],
   "source": [
    "# Importing the linear model 'Ridge Regression'\n",
    "from sklearn.linear_model import Ridge\n",
    "\n",
    "#Creating a predict model\n",
    "my_pipeline2 = make_pipeline(Ridge())\n",
    "\n",
    "#Fitting the model\n",
    "my_pipeline2.fit(X_train, y_train)\n",
    "\n",
    "# Predicting Y based on training and test data.\n",
    "lassopredicttrain = my_pipeline2.predict(X_train)\n",
    "lassopredicttest = my_pipeline2.predict(X_test)\n",
    "\n",
    "#Results\n",
    "scores_train_ridge = mean_absolute_error(y_train, lassopredicttrain)\n",
    "score_test_ridge = mean_absolute_error(y_test, lassopredicttest)\n",
    "print('Results: ')\n",
    "print('Mean absolute error / Train test split / Train data: ', scores_train_ridge)\n",
    "print('Mean absolute error / Train test split / Test data: ', score_test_ridge)\n",
    "\n",
    "#Using Cross validation\n",
    "cross_ridge = cross_val_score(my_pipeline2, X, y, scoring='neg_mean_absolute_error')\n",
    "print('Mean absolute error / Cross Val / Test data: ', cross_ridge.mean() * -1)\n",
    "print(cross_ridge)"
   ]
  },
  {
   "cell_type": "markdown",
   "metadata": {},
   "source": [
    "## Suport Vector Regression: Building, Trainning and Checking accuracy"
   ]
  },
  {
   "cell_type": "code",
   "execution_count": null,
   "metadata": {},
   "outputs": [],
   "source": [
    "# Importing the SVM model 'Suport Vector Regression'\n",
    "from sklearn.svm import SVR\n",
    "\n",
    "#Creating a predict model\n",
    "my_pipeline3 = SVR()\n",
    "\n",
    "# Trainning the model\n",
    "my_pipeline3.fit(X_train, y_train)\n",
    "\n",
    "# Predicting\n",
    "predictSVRtrain = my_pipeline3.predict(X_train)\n",
    "predictSVRtest = my_pipeline3.predict(X_test)\n",
    "\n",
    "# Results\n",
    "scores_train_SVR = mean_absolute_error(y_train, predictSVRtrain)\n",
    "score_test_SVR = mean_absolute_error(y_test, predictSVRtest)\n",
    "print('Results: ')\n",
    "print('Mean absolute error / Train test split / Train data: ', scores_train_SVR)\n",
    "print('Mean absolute error / Train test split / Test data: ', score_test_SVR)\n",
    "\n",
    "#Using Cross validation\n",
    "cross_SVR = cross_val_score(my_pipeline3, X, y, scoring='neg_mean_absolute_error')\n",
    "print('Mean absolute error / Cross Val / Test data: ', cross_SVR.mean() * -1)\n",
    "print(cross_SVR)"
   ]
  },
  {
   "cell_type": "markdown",
   "metadata": {},
   "source": [
    "## Random Forest Regression: Building, Trainning and Checking accuracy"
   ]
  },
  {
   "cell_type": "code",
   "execution_count": null,
   "metadata": {},
   "outputs": [],
   "source": [
    "# Importing the SVM model 'Suport Vector Regression'\n",
    "from sklearn.ensemble import RandomForestRegressor\n",
    "\n",
    "#Creating a predict model\n",
    "my_pipeline4 = RandomForestRegressor()\n",
    "\n",
    "# Trainning the model\n",
    "my_pipeline4.fit(X_train, y_train)\n",
    "\n",
    "# Predicting\n",
    "predictRFtrain = my_pipeline4.predict(X_train)\n",
    "predictRFtest = my_pipeline4.predict(X_test)\n",
    "\n",
    "# Results\n",
    "scores_train_RF = mean_absolute_error(y_train, predictRFtrain)\n",
    "score_test_RF = mean_absolute_error(y_test, predictRFtest)\n",
    "print('Results: ')\n",
    "print('Mean absolute error / Train test split / Train data: ', scores_train_RF)\n",
    "print('Mean absolute error / Train test split / Test data: ', score_test_RF)\n",
    "\n",
    "#Using Cross validation\n",
    "cross_RF = cross_val_score(my_pipeline4, X, y, scoring='neg_mean_absolute_error')\n",
    "print('Mean absolute error / Cross Val / Test data: ', cross_RF.mean() * -1)\n",
    "print(cross_RF)"
   ]
  },
  {
   "cell_type": "markdown",
   "metadata": {},
   "source": [
    "## XGBoost Regressor: Building, Trainning and Checking accuracy"
   ]
  },
  {
   "cell_type": "code",
   "execution_count": 43,
   "metadata": {},
   "outputs": [
    {
     "name": "stdout",
     "output_type": "stream",
     "text": [
      "Results: \n",
      "Mean absolute error / Train test split / Train data:  0.37843953519189627\n",
      "Mean absolute error / Train test split / Test data:  0.4747589588165283\n",
      "Mean absolute error / Cross Val / Test data:  0.5157572233058126\n",
      "[-0.53064563 -0.50785839 -0.50876766]\n"
     ]
    }
   ],
   "source": [
    "# Importing the SVM model 'Suport Vector Regression'\n",
    "from xgboost import XGBRegressor\n",
    "\n",
    "#Creating a predict model\n",
    "my_pipeline5 = XGBRegressor()\n",
    "\n",
    "# Trainning the model\n",
    "my_pipeline5.fit(X_train, y_train)\n",
    "\n",
    "# Predicting\n",
    "predictXGtrain = my_pipeline5.predict(X_train)\n",
    "predictXGtest = my_pipeline5.predict(X_test)\n",
    "\n",
    "# Results\n",
    "scores_train_XG = mean_absolute_error(y_train, predictXGtrain)\n",
    "score_test_XG = mean_absolute_error(y_test, predictXGtest)\n",
    "print('Results: ')\n",
    "print('Mean absolute error / Train test split / Train data: ', scores_train_XG)\n",
    "print('Mean absolute error / Train test split / Test data: ', score_test_XG)\n",
    "\n",
    "#Using Cross validation\n",
    "cross_XG = cross_val_score(my_pipeline5, X, y, scoring='neg_mean_absolute_error')\n",
    "print('Mean absolute error / Cross Val / Test data: ', cross_XG.mean() * -1)\n",
    "print(cross_XG)"
   ]
  },
  {
   "cell_type": "markdown",
   "metadata": {},
   "source": [
    "#### Model Tuning\n",
    "- XGBoost has a few parameters that can dramatically affect your model's accuracy and training speed. The first parameters you should understand are:\n",
    "\n",
    "- GridSearchCV for hyper-parameters tuning XGBoost models using Pipelines"
   ]
  },
  {
   "cell_type": "code",
   "execution_count": 23,
   "metadata": {},
   "outputs": [
    {
     "name": "stderr",
     "output_type": "stream",
     "text": [
      "C:\\Users\\Marcos Rocha\\Anaconda3\\lib\\site-packages\\sklearn\\model_selection\\_search.py:643: DeprecationWarning: \"fit_params\" as a constructor argument was deprecated in version 0.19 and will be removed in version 0.21. Pass fit parameters to the \"fit\" method instead.\n",
      "  '\"fit\" method instead.', DeprecationWarning)\n"
     ]
    },
    {
     "data": {
      "text/plain": [
       "GridSearchCV(cv=5, error_score='raise-deprecating',\n",
       "       estimator=Pipeline(memory=None,\n",
       "     steps=[('xgbrg', XGBRegressor(base_score=0.5, booster='gbtree', colsample_bylevel=1,\n",
       "       colsample_bytree=1, gamma=0, learning_rate=0.1, max_delta_step=0,\n",
       "       max_depth=3, min_child_weight=1, missing=None, n_estimators=100,\n",
       "       n_jobs=1, nthread=None, objective='reg:linear', random_state=0,\n",
       "       reg_alpha=0, reg_lambda=1, scale_pos_weight=1, seed=None,\n",
       "       silent=True, subsample=1))]),\n",
       "       fit_params={'xgbrg__eval_set': [(      fixed acidity  volatile acidity  citric acid  residual sugar  chlorides  \\\n",
       "803             7.7             0.560         0.08            2.50      0.114\n",
       "124             7.8             0.500         0.17            1.60      0.082\n",
       "350            10.7     ...: quality, Length: 400, dtype: int64)], 'xgbrg__early_stopping_rounds': 10, 'xgbrg__verbose': False},\n",
       "       iid='warn', n_jobs=None,\n",
       "       param_grid={'xgbrg__n_estimators': [10, 50, 100, 500], 'xgbrg__learning_rate': [0.1, 0.5, 1]},\n",
       "       pre_dispatch='2*n_jobs', refit=True, return_train_score='warn',\n",
       "       scoring=None, verbose=0)"
      ]
     },
     "execution_count": 23,
     "metadata": {},
     "output_type": "execute_result"
    }
   ],
   "source": [
    "from xgboost import XGBRegressor\n",
    "from sklearn.pipeline import Pipeline\n",
    "from sklearn.model_selection import GridSearchCV\n",
    "\n",
    "my_pipeline10 = Pipeline([('xgbrg', XGBRegressor())])\n",
    "\n",
    "param_grid = {\n",
    "    \"xgbrg__n_estimators\": [10, 50, 100, 500],\n",
    "    \"xgbrg__learning_rate\": [0.1, 0.5, 1],\n",
    "}\n",
    "\n",
    "fit_params = {\"xgbrg__eval_set\": [(X_test, y_test)], \n",
    "              \"xgbrg__early_stopping_rounds\": 10, \n",
    "              \"xgbrg__verbose\": False} \n",
    "\n",
    "searchCV = GridSearchCV(my_pipeline10, cv=5, param_grid=param_grid, fit_params=fit_params)\n",
    "searchCV.fit(X_train, y_train)  "
   ]
  },
  {
   "cell_type": "code",
   "execution_count": 34,
   "metadata": {},
   "outputs": [
    {
     "name": "stdout",
     "output_type": "stream",
     "text": [
      "{'xgbrg__learning_rate': 0.1, 'xgbrg__n_estimators': 50}\n"
     ]
    }
   ],
   "source": [
    "print(searchCV.best_params_)"
   ]
  },
  {
   "cell_type": "code",
   "execution_count": 30,
   "metadata": {},
   "outputs": [
    {
     "name": "stdout",
     "output_type": "stream",
     "text": [
      "[-4.53374937  0.58161972  0.62322726  0.62322726  0.5567434   0.61683099\n",
      "  0.61683099  0.61683099  0.5414556   0.57189637  0.57189637  0.57189637]\n"
     ]
    }
   ],
   "source": [
    "print(searchCV.cv_results_['mean_train_score'])"
   ]
  },
  {
   "cell_type": "code",
   "execution_count": 31,
   "metadata": {},
   "outputs": [
    {
     "name": "stdout",
     "output_type": "stream",
     "text": [
      "[-4.61989065  0.38427072  0.38019653  0.38019653  0.36660551  0.36083244\n",
      "  0.36083244  0.36083244  0.28796901  0.27539071  0.27539071  0.27539071]\n"
     ]
    }
   ],
   "source": [
    "print(searchCV.cv_results_['mean_test_score'])"
   ]
  },
  {
   "cell_type": "code",
   "execution_count": 32,
   "metadata": {},
   "outputs": [
    {
     "name": "stdout",
     "output_type": "stream",
     "text": [
      "0.16322549464067507 -0.07599857604828257\n"
     ]
    }
   ],
   "source": [
    "print(searchCV.cv_results_['mean_train_score'].mean(), searchCV.cv_results_['mean_test_score'].mean())"
   ]
  },
  {
   "cell_type": "code",
   "execution_count": 46,
   "metadata": {},
   "outputs": [
    {
     "data": {
      "text/plain": [
       "<matplotlib.axes._subplots.AxesSubplot at 0x157ad9e99b0>"
      ]
     },
     "execution_count": 46,
     "metadata": {},
     "output_type": "execute_result"
    },
    {
     "data": {
      "image/png": "[encoded data removed]",
      "text/plain": [
       "<Figure size 432x288 with 1 Axes>"
      ]
     },
     "metadata": {
      "needs_background": "light"
     },
     "output_type": "display_data"
    }
   ],
   "source": [
    "# Partial Dependence Plots\n",
    "# Feature importance\n",
    "import xgboost\n",
    "xgboost.plot_importance(my_pipeline5)"
   ]
  },
  {
   "cell_type": "code",
   "execution_count": 50,
   "metadata": {},
   "outputs": [],
   "source": [
    "## xgboost.plot_tree(my_pipeline5) error?"
   ]
  },
  {
   "cell_type": "code",
   "execution_count": 49,
   "metadata": {},
   "outputs": [
    {
     "data": {
      "text/plain": [
       "(<Figure size 1080x684 with 2 Axes>,\n",
       " {'title_ax': <matplotlib.axes._subplots.AxesSubplot at 0x157acf0cef0>,\n",
       "  'pdp_ax': <matplotlib.axes._subplots.AxesSubplot at 0x157ada63e10>})"
      ]
     },
     "execution_count": 49,
     "metadata": {},
     "output_type": "execute_result"
    },
    {
     "data": {
      "image/png": "[encoded data removed]",
      "text/plain": [
       "<Figure size 1080x684 with 2 Axes>"
      ]
     },
     "metadata": {
      "needs_background": "light"
     },
     "output_type": "display_data"
    }
   ],
   "source": [
    "from pdpbox import pdp\n",
    "# convert to DataFrame as pdp package requires a DataFrame\n",
    "X1 = atributes\n",
    "my_model = XGBRegressor()\n",
    "my_model.fit(X1, y)\n",
    "feature = 'total sulfur dioxide'\n",
    "p = pdp.pdp_isolate(my_model, X1, X1.columns, feature)\n",
    "pdp.pdp_plot(p, feature)"
   ]
  },
  {
   "cell_type": "markdown",
   "metadata": {},
   "source": [
    "## Building [Data Splitting and Classification Model]"
   ]
  },
  {
   "cell_type": "markdown",
   "metadata": {},
   "source": [
    "### Data Splitting and Preprocessing"
   ]
  },
  {
   "cell_type": "code",
   "execution_count": null,
   "metadata": {},
   "outputs": [],
   "source": [
    "# Creating classes of quality\n",
    "# 1-4 = Bad wines\n",
    "# 5-6 = Medium wines\n",
    "# 7-10 = Good wines\n",
    "\n",
    "classes = []\n",
    "for i in wines['quality']:\n",
    "    if i >= 1 and i <= 4:\n",
    "        classes.append('1')\n",
    "    elif i >= 5 and i <= 6:\n",
    "        classes.append('2')\n",
    "    elif i >= 7 and i <= 10:\n",
    "        classes.append('3')\n",
    "wines['classes'] = classes"
   ]
  },
  {
   "cell_type": "code",
   "execution_count": null,
   "metadata": {},
   "outputs": [],
   "source": [
    "# Defing X2 = predictive variables Y2 = variavel target\n",
    "atributos2 = ['fixed acidity', 'volatile acidity', 'citric acid', 'residual sugar', 'chlorides', 'free sulfur dioxide', 'total sulfur dioxide', 'density', 'pH', 'sulphates', 'alcohol']\n",
    "classes_pred = ['classes']\n",
    "\n",
    "X2 = wines[atributos2].values\n",
    "Y2 = wines[classes_pred].values"
   ]
  },
  {
   "cell_type": "code",
   "execution_count": null,
   "metadata": {},
   "outputs": [],
   "source": [
    "# Using Standard scaler in predictive variables\n",
    "from sklearn.preprocessing import StandardScaler\n",
    "sc = StandardScaler()\n",
    "X2 = sc.fit_transform(X2)"
   ]
  },
  {
   "cell_type": "code",
   "execution_count": null,
   "metadata": {},
   "outputs": [],
   "source": [
    "# Using PCA technique in predictive variables\n",
    "from sklearn.decomposition import PCA\n",
    "pca = PCA()\n",
    "x_pca = pca.fit_transform(X2)"
   ]
  },
  {
   "cell_type": "code",
   "execution_count": null,
   "metadata": {},
   "outputs": [],
   "source": [
    "# Plot the graph to find the principal components \"8 in this case\"\n",
    "plt.figure(figsize=(10,10))\n",
    "plt.plot(np.cumsum(pca.explained_variance_ratio_), 'ro-')\n",
    "plt.grid()"
   ]
  },
  {
   "cell_type": "code",
   "execution_count": null,
   "metadata": {},
   "outputs": [],
   "source": [
    "#AS per the graph, we can see that 8 principal components attribute for 90% of variation in the data. \n",
    "#we shall pick the first 8 components for our prediction.\n",
    "pca_new = PCA(n_components=8)\n",
    "x_new = pca_new.fit_transform(X2)"
   ]
  },
  {
   "cell_type": "code",
   "execution_count": null,
   "metadata": {},
   "outputs": [],
   "source": [
    "# Setting split rate\n",
    "split_test_size2 = 0.25"
   ]
  },
  {
   "cell_type": "code",
   "execution_count": null,
   "metadata": {},
   "outputs": [],
   "source": [
    "# Creating test data and train data\n",
    "from sklearn.model_selection import train_test_split\n",
    "X_treino2, X_teste2, Y_treino2, Y_teste2 = train_test_split(x_new, Y2, test_size = split_test_size2, random_state = 42)"
   ]
  },
  {
   "cell_type": "markdown",
   "metadata": {},
   "source": [
    "## KNN / SVM / Naive Bayes / DecisionTree / GradientBoosting / RandomForest / SGDC"
   ]
  },
  {
   "cell_type": "code",
   "execution_count": null,
   "metadata": {},
   "outputs": [],
   "source": [
    "# Importing Classifier modules\n",
    "from sklearn.svm import SVC\n",
    "from sklearn.neighbors import KNeighborsClassifier\n",
    "from sklearn.naive_bayes import GaussianNB\n",
    "from sklearn.linear_model import SGDClassifier\n",
    "from sklearn.tree import DecisionTreeClassifier\n",
    "from sklearn.ensemble import RandomForestClassifier\n",
    "from sklearn.ensemble import GradientBoostingClassifier\n",
    "\n",
    "from sklearn.metrics import accuracy_score\n",
    "from sklearn.metrics import confusion_matrix"
   ]
  },
  {
   "cell_type": "code",
   "execution_count": null,
   "metadata": {},
   "outputs": [],
   "source": [
    "model_KNN = KNeighborsClassifier()\n",
    "model_KNN.fit(X_treino2, Y_treino2.ravel())\n",
    "KNN_predict_test = model_KNN.predict(X_teste2)\n",
    "    \n",
    "acc_KNN = accuracy_score(Y_teste2, KNN_predict_test)\n",
    "print(acc_KNN)\n",
    "print(confusion_matrix(Y_teste2, KNN_predict_test))"
   ]
  },
  {
   "cell_type": "code",
   "execution_count": null,
   "metadata": {},
   "outputs": [],
   "source": [
    "print(acc_KNN)"
   ]
  },
  {
   "cell_type": "code",
   "execution_count": null,
   "metadata": {},
   "outputs": [],
   "source": [
    "model_SVC = SVC()\n",
    "model_SVC.fit(X_treino2, Y_treino2.ravel())\n",
    "SVC_predict_test = model_SVC.predict(X_teste2)\n",
    "    \n",
    "acc_SVC = accuracy_score(Y_teste2, SVC_predict_test)\n",
    "print(acc_SVC)\n",
    "print(confusion_matrix(Y_teste2, SVC_predict_test))"
   ]
  },
  {
   "cell_type": "code",
   "execution_count": null,
   "metadata": {},
   "outputs": [],
   "source": [
    "model_NB = GaussianNB()\n",
    "model_NB.fit(X_treino2, Y_treino2.ravel())\n",
    "NB_predict_test = model_NB.predict(X_teste2)\n",
    "\n",
    "acc_NB = accuracy_score(Y_teste2, NB_predict_test)\n",
    "print(acc_NB)\n",
    "print(confusion_matrix(Y_teste2, NB_predict_test))"
   ]
  },
  {
   "cell_type": "code",
   "execution_count": null,
   "metadata": {},
   "outputs": [],
   "source": [
    "model_XG = GradientBoostingClassifier()\n",
    "model_XG.fit(X_treino2, Y_treino2.ravel())\n",
    "XG_predict_test = model_XG.predict(X_teste2)\n",
    "\n",
    "acc_XG = accuracy_score(Y_teste2, XG_predict_test)\n",
    "print(acc_XG)\n",
    "print(confusion_matrix(Y_teste2, XG_predict_test))"
   ]
  },
  {
   "cell_type": "code",
   "execution_count": null,
   "metadata": {},
   "outputs": [],
   "source": [
    "model_SDG = SGDClassifier()\n",
    "model_SDG.fit(X_treino2, Y_treino2.ravel())\n",
    "SDG_predict_test = model_SDG.predict(X_teste2)\n",
    "\n",
    "acc_SDG = accuracy_score(Y_teste2, SDG_predict_test)\n",
    "print(acc_SDG)\n",
    "print(confusion_matrix(Y_teste2, SDG_predict_test))"
   ]
  },
  {
   "cell_type": "code",
   "execution_count": null,
   "metadata": {},
   "outputs": [],
   "source": [
    "model_DT = DecisionTreeClassifier()\n",
    "model_DT.fit(X_treino2, Y_treino2.ravel())\n",
    "DT_predict_test = model_DT.predict(X_teste2)\n",
    "\n",
    "acc_DT = accuracy_score(Y_teste2, DT_predict_test)\n",
    "print(acc_DT)\n",
    "print(confusion_matrix(Y_teste2, DT_predict_test))"
   ]
  },
  {
   "cell_type": "code",
   "execution_count": null,
   "metadata": {},
   "outputs": [],
   "source": [
    "model_RF = RandomForestClassifier()\n",
    "model_RF.fit(X_treino2, Y_treino2.ravel())\n",
    "RF_predict_test = model_RF.predict(X_teste2)\n",
    "\n",
    "acc_RF = accuracy_score(Y_teste2, RF_predict_test)\n",
    "print(acc_RF)\n",
    "print(confusion_matrix(Y_teste2, RF_predict_test))"
   ]
  },
  {
   "cell_type": "markdown",
   "metadata": {},
   "source": [
    "## Resume"
   ]
  },
  {
   "cell_type": "code",
   "execution_count": null,
   "metadata": {},
   "outputs": [],
   "source": [
    "accuracy = [acc_KNN, acc_SVC, acc_NB, acc_XG, acc_SDG, acc_DT, acc_RF]\n",
    "classifier = ['KNearestNeightbors','Support Vector Machine','Naive Bayes','Gradient Booster', 'SGDClassifier','Decision Tree','Random Forest']\n",
    "explain = [explain_SVR, explain_RP, explain_Lasso]\n",
    "regression = ['Support Vector Regression', 'Ridge Regression', 'Lasso Regression']"
   ]
  },
  {
   "cell_type": "code",
   "execution_count": null,
   "metadata": {},
   "outputs": [],
   "source": [
    "c={'Classifier Model':classifier,'Accuracy':accuracy}\n",
    "r={'Regression Model':regression, 'Explained Variance':explain}"
   ]
  },
  {
   "cell_type": "code",
   "execution_count": null,
   "metadata": {},
   "outputs": [],
   "source": [
    "acc_df=pd.DataFrame(c)\n",
    "acc_df"
   ]
  },
  {
   "cell_type": "code",
   "execution_count": null,
   "metadata": {},
   "outputs": [],
   "source": [
    "exp_df=pd.DataFrame(r)\n",
    "exp_df"
   ]
  }
 ],
 "metadata": {
  "kernelspec": {
   "display_name": "Python 3",
   "language": "python",
   "name": "python3"
  },
  "language_info": {
   "codemirror_mode": {
    "name": "ipython",
    "version": 3
   },
   "file_extension": ".py",
   "mimetype": "text/x-python",
   "name": "python",
   "nbconvert_exporter": "python",
   "pygments_lexer": "ipython3",
   "version": "3.7.1"
  }
 },
 "nbformat": 4,
 "nbformat_minor": 2
}
