{
  "nbformat": 4,
  "nbformat_minor": 0,
  "metadata": {
    "kernelspec": {
      "display_name": "Python 3",
      "language": "python",
      "name": "python3"
    },
    "language_info": {
      "codemirror_mode": {
        "name": "ipython",
        "version": 3
      },
      "file_extension": ".py",
      "mimetype": "text/x-python",
      "name": "python",
      "nbconvert_exporter": "python",
      "pygments_lexer": "ipython3",
      "version": "3.7.4"
    },
    "colab": {
      "name": "redwinequality_v2.ipynb",
      "provenance": [],
      "toc_visible": true
    }
  },
  "cells": [
    {
      "cell_type": "markdown",
      "metadata": {
        "id": "Zg4nOoxOhokl",
        "colab_type": "text"
      },
      "source": [
        "### Project 1 : Using chemical analysis to determine the quality wines"
      ]
    },
    {
      "cell_type": "code",
      "metadata": {
        "id": "ZFuyYkT6hokn",
        "colab_type": "code",
        "colab": {}
      },
      "source": [
        "# Import modules\n",
        "\n",
        "import pandas as pd\n",
        "import numpy as np\n",
        "import matplotlib.pyplot as plt\n",
        "import warnings\n",
        "warnings.filterwarnings(\"ignore\")\n",
        "\n",
        "%matplotlib inline"
      ],
      "execution_count": 0,
      "outputs": []
    },
    {
      "cell_type": "code",
      "metadata": {
        "code_folding": [],
        "id": "hMzm7yq-hokv",
        "colab_type": "code",
        "colab": {}
      },
      "source": [
        "# Import dataset\n",
        "df = pd.read_csv(\"https://raw.githubusercontent.com/mp-rocha/data-projects/master/redwine-quality-predict/winequality.csv\", sep = ';')"
      ],
      "execution_count": 0,
      "outputs": []
    },
    {
      "cell_type": "markdown",
      "metadata": {
        "id": "eA1ANsfOhokx",
        "colab_type": "text"
      },
      "source": [
        "---\n",
        "\n",
        ">#### **1) Checking and understanding the data**\n",
        "\n",
        "---\n",
        "\n",
        "*   Checking data format\n",
        "*   Checking missing data\n",
        "*   Checking for hidden data\n",
        "\n",
        "---"
      ]
    },
    {
      "cell_type": "code",
      "metadata": {
        "code_folding": [
          0
        ],
        "id": "8y5ez15whoky",
        "colab_type": "code",
        "colab": {
          "base_uri": "https://localhost:8080/",
          "height": 578
        },
        "outputId": "d2d9fd7f-5ad0-49cb-c6dc-5789ddf6ce54"
      },
      "source": [
        "# Checking the data format\n",
        "print('Numbers of lines and columns: {0}'.format(df.shape))\n",
        "print('\\n')\n",
        "print(df.head())\n",
        "print('\\n')\n",
        "print(df.info())\n",
        "print('\\n')"
      ],
      "execution_count": 48,
      "outputs": [
        {
          "output_type": "stream",
          "text": [
            "Numbers of lines and columns: (1599, 12)\n",
            "\n",
            "\n",
            "   fixed acidity  volatile acidity  citric acid  ...  sulphates  alcohol  quality\n",
            "0            7.4              0.70         0.00  ...       0.56      9.4        5\n",
            "1            7.8              0.88         0.00  ...       0.68      9.8        5\n",
            "2            7.8              0.76         0.04  ...       0.65      9.8        5\n",
            "3           11.2              0.28         0.56  ...       0.58      9.8        6\n",
            "4            7.4              0.70         0.00  ...       0.56      9.4        5\n",
            "\n",
            "[5 rows x 12 columns]\n",
            "\n",
            "\n",
            "<class 'pandas.core.frame.DataFrame'>\n",
            "RangeIndex: 1599 entries, 0 to 1598\n",
            "Data columns (total 12 columns):\n",
            "fixed acidity           1599 non-null float64\n",
            "volatile acidity        1599 non-null float64\n",
            "citric acid             1599 non-null float64\n",
            "residual sugar          1599 non-null float64\n",
            "chlorides               1599 non-null float64\n",
            "free sulfur dioxide     1599 non-null float64\n",
            "total sulfur dioxide    1599 non-null float64\n",
            "density                 1599 non-null float64\n",
            "pH                      1599 non-null float64\n",
            "sulphates               1599 non-null float64\n",
            "alcohol                 1599 non-null float64\n",
            "quality                 1599 non-null int64\n",
            "dtypes: float64(11), int64(1)\n",
            "memory usage: 150.0 KB\n",
            "None\n",
            "\n",
            "\n"
          ],
          "name": "stdout"
        }
      ]
    },
    {
      "cell_type": "code",
      "metadata": {
        "id": "QxBdhMC6hok1",
        "colab_type": "code",
        "colab": {
          "base_uri": "https://localhost:8080/",
          "height": 238
        },
        "outputId": "c88c60f7-6116-46be-d573-023add9101e2"
      },
      "source": [
        "# Checking missing datas\n",
        "\n",
        "print(df.isnull().sum())"
      ],
      "execution_count": 5,
      "outputs": [
        {
          "output_type": "stream",
          "text": [
            "fixed acidity           0\n",
            "volatile acidity        0\n",
            "citric acid             0\n",
            "residual sugar          0\n",
            "chlorides               0\n",
            "free sulfur dioxide     0\n",
            "total sulfur dioxide    0\n",
            "density                 0\n",
            "pH                      0\n",
            "sulphates               0\n",
            "alcohol                 0\n",
            "quality                 0\n",
            "dtype: int64\n"
          ],
          "name": "stdout"
        }
      ]
    },
    {
      "cell_type": "markdown",
      "metadata": {
        "id": "RWzyZexpph-t",
        "colab_type": "text"
      },
      "source": [
        "---\n",
        "\n",
        ">#### **2) Preprocessing data**\n",
        "---\n",
        "*   Treating hidden missing values\n",
        "---"
      ]
    },
    {
      "cell_type": "code",
      "metadata": {
        "id": "oqijxufhhok4",
        "colab_type": "code",
        "colab": {
          "base_uri": "https://localhost:8080/",
          "height": 34
        },
        "outputId": "f51da5f0-044d-4078-bbba-bd933411d4f2"
      },
      "source": [
        "# Find hidden missing values\n",
        "\n",
        "print(\"Number of hidden missing values in citric acid variable: \", df[\"citric acid\"].loc[df[\"citric acid\"] == 0].count())"
      ],
      "execution_count": 49,
      "outputs": [
        {
          "output_type": "stream",
          "text": [
            "Number of hidden missing values in citric acid variable:  132\n"
          ],
          "name": "stdout"
        }
      ]
    },
    {
      "cell_type": "code",
      "metadata": {
        "id": "ABR1cb8Ihok8",
        "colab_type": "code",
        "colab": {}
      },
      "source": [
        "# Treating hidden missing values\n",
        "# Substituting values equal zero by the mean of column.\n",
        "\n",
        "from sklearn.impute import SimpleImputer\n",
        "hidden = SimpleImputer(missing_values = 0, strategy = \"mean\")\n",
        "\n",
        "df['citric acid'] =  hidden.fit_transform(df[['citric acid']])"
      ],
      "execution_count": 0,
      "outputs": []
    },
    {
      "cell_type": "code",
      "metadata": {
        "id": "GRgQdRqihok-",
        "colab_type": "code",
        "colab": {
          "base_uri": "https://localhost:8080/",
          "height": 34
        },
        "outputId": "8e1ea3de-7a42-43fc-eb17-d1ced912a55e"
      },
      "source": [
        "# Checking if exist any hidden values\n",
        "\n",
        "print(\"Number of hidden missing values in citric acid variable: \", df[\"citric acid\"].loc[df[\"citric acid\"] == 0].count())"
      ],
      "execution_count": 9,
      "outputs": [
        {
          "output_type": "stream",
          "text": [
            "Number of hidden missing values in citric acid variable:  0\n"
          ],
          "name": "stdout"
        }
      ]
    },
    {
      "cell_type": "markdown",
      "metadata": {
        "colab_type": "text",
        "id": "CvVXlwx2lt9W"
      },
      "source": [
        "---\n",
        "\n",
        ">#### **3) Exploratory data analysis**\n",
        "\n",
        "---\n",
        "\n",
        "*   Describe data\n",
        "*   Distribution of 'quality' variable\n",
        "*   Correlation matrix\n",
        "*   Violin plot to understand variance of data\n",
        "*   Analyze the average of the variables in relation to the notes\n",
        "\n",
        "---\n"
      ]
    },
    {
      "cell_type": "code",
      "metadata": {
        "id": "4wOaB1ZFholC",
        "colab_type": "code",
        "colab": {
          "base_uri": "https://localhost:8080/",
          "height": 204
        },
        "outputId": "29fc9b9a-1f88-4722-c92c-26d62e2a1939"
      },
      "source": [
        "# Describe data\n",
        "\n",
        "print(df.describe())"
      ],
      "execution_count": 10,
      "outputs": [
        {
          "output_type": "stream",
          "text": [
            "       fixed acidity  volatile acidity  ...      alcohol      quality\n",
            "count    1599.000000       1599.000000  ...  1599.000000  1599.000000\n",
            "mean        8.319637          0.527821  ...    10.422983     5.636023\n",
            "std         1.741096          0.179060  ...     1.065668     0.807569\n",
            "min         4.600000          0.120000  ...     8.400000     3.000000\n",
            "25%         7.100000          0.390000  ...     9.500000     5.000000\n",
            "50%         7.900000          0.520000  ...    10.200000     6.000000\n",
            "75%         9.200000          0.640000  ...    11.100000     6.000000\n",
            "max        15.900000          1.580000  ...    14.900000     8.000000\n",
            "\n",
            "[8 rows x 12 columns]\n"
          ],
          "name": "stdout"
        }
      ]
    },
    {
      "cell_type": "code",
      "metadata": {
        "id": "zioeoE66holE",
        "colab_type": "code",
        "colab": {
          "base_uri": "https://localhost:8080/",
          "height": 282
        },
        "outputId": "4c79d79e-c4ad-4567-a5fb-f208135561fc"
      },
      "source": [
        "df['quality'].value_counts(normalize=True, sort=False).plot.bar()"
      ],
      "execution_count": 51,
      "outputs": [
        {
          "output_type": "execute_result",
          "data": {
            "text/plain": [
              "<matplotlib.axes._subplots.AxesSubplot at 0x7f7099cf2eb8>"
            ]
          },
          "metadata": {
            "tags": []
          },
          "execution_count": 51
        },
        {
          "output_type": "display_data",
          "data": {
            "image/png": "[encoded data removed]",
            "text/plain": [
              "<Figure size 432x288 with 1 Axes>"
            ]
          },
          "metadata": {
            "tags": []
          }
        }
      ]
    },
    {
      "cell_type": "code",
      "metadata": {
        "id": "UjwcO5vtholG",
        "colab_type": "code",
        "colab": {
          "base_uri": "https://localhost:8080/",
          "height": 653
        },
        "outputId": "c2c90dcf-7a45-4514-da4a-20271e839628"
      },
      "source": [
        "import seaborn as sns\n",
        "\n",
        "sns.set(style=\"white\")\n",
        "# Compute the correlation matrix\n",
        "corr = df.corr()\n",
        "\n",
        "# Generate a mask for the upper triangle\n",
        "mask = np.zeros_like(corr, dtype=np.bool)\n",
        "mask[np.triu_indices_from(mask)] = True\n",
        "\n",
        "# Set up the matplotlib figure\n",
        "f, ax = plt.subplots(figsize=(11, 9))\n",
        "\n",
        "# Generate a custom diverging colormap\n",
        "cmap = sns.diverging_palette(220, 10, as_cmap=True)\n",
        "\n",
        "# Draw the heatmap with the mask and correct aspect ratio\n",
        "sns.heatmap(corr, mask=mask, cmap=cmap, vmax=.3, center=0,\n",
        "            square=True, linewidths=.5, cbar_kws={\"shrink\": .5})\n",
        "plt.tight_layout()"
      ],
      "execution_count": 52,
      "outputs": [
        {
          "output_type": "display_data",
          "data": {
            "image/png": "[encoded data removed]",
            "text/plain": [
              "<Figure size 792x648 with 2 Axes>"
            ]
          },
          "metadata": {
            "tags": []
          }
        }
      ]
    },
    {
      "cell_type": "code",
      "metadata": {
        "id": "Hp5xzN7AholJ",
        "colab_type": "code",
        "colab": {
          "base_uri": "https://localhost:8080/",
          "height": 601
        },
        "outputId": "6beae0bf-d8d0-4dd1-96f7-c9285d720c2b"
      },
      "source": [
        "import pandas as pd\n",
        "fig = plt.figure(figsize=(16,8))\n",
        "for i, col in enumerate(df.columns):\n",
        "    ax=plt.subplot(3,4,i+1) \n",
        "    sns.violinplot(data=df[[col]])\n",
        "plt.tight_layout()"
      ],
      "execution_count": 54,
      "outputs": [
        {
          "output_type": "display_data",
          "data": {
            "image/png": "[encoded data removed]",
            "text/plain": [
              "<Figure size 1152x576 with 12 Axes>"
            ]
          },
          "metadata": {
            "tags": []
          }
        }
      ]
    },
    {
      "cell_type": "code",
      "metadata": {
        "id": "AeZVdexOholL",
        "colab_type": "code",
        "colab": {
          "base_uri": "https://localhost:8080/",
          "height": 300
        },
        "outputId": "13284b3b-1930-4f02-c720-e9131f37c643"
      },
      "source": [
        "quality_df = df.groupby(\"quality\")[df.columns].agg('median')\n",
        "quality_df.drop(['quality'], axis=1)"
      ],
      "execution_count": 55,
      "outputs": [
        {
          "output_type": "execute_result",
          "data": {
            "text/html": [
              "<div>\n",
              "<style scoped>\n",
              "    .dataframe tbody tr th:only-of-type {\n",
              "        vertical-align: middle;\n",
              "    }\n",
              "\n",
              "    .dataframe tbody tr th {\n",
              "        vertical-align: top;\n",
              "    }\n",
              "\n",
              "    .dataframe thead th {\n",
              "        text-align: right;\n",
              "    }\n",
              "</style>\n",
              "<table border=\"1\" class=\"dataframe\">\n",
              "  <thead>\n",
              "    <tr style=\"text-align: right;\">\n",
              "      <th></th>\n",
              "      <th>fixed acidity</th>\n",
              "      <th>volatile acidity</th>\n",
              "      <th>citric acid</th>\n",
              "      <th>residual sugar</th>\n",
              "      <th>chlorides</th>\n",
              "      <th>free sulfur dioxide</th>\n",
              "      <th>total sulfur dioxide</th>\n",
              "      <th>density</th>\n",
              "      <th>pH</th>\n",
              "      <th>sulphates</th>\n",
              "      <th>alcohol</th>\n",
              "    </tr>\n",
              "    <tr>\n",
              "      <th>quality</th>\n",
              "      <th></th>\n",
              "      <th></th>\n",
              "      <th></th>\n",
              "      <th></th>\n",
              "      <th></th>\n",
              "      <th></th>\n",
              "      <th></th>\n",
              "      <th></th>\n",
              "      <th></th>\n",
              "      <th></th>\n",
              "      <th></th>\n",
              "    </tr>\n",
              "  </thead>\n",
              "  <tbody>\n",
              "    <tr>\n",
              "      <th>3</th>\n",
              "      <td>7.50</td>\n",
              "      <td>0.845</td>\n",
              "      <td>0.295358</td>\n",
              "      <td>2.1</td>\n",
              "      <td>0.0905</td>\n",
              "      <td>6.0</td>\n",
              "      <td>15.0</td>\n",
              "      <td>0.997565</td>\n",
              "      <td>3.39</td>\n",
              "      <td>0.545</td>\n",
              "      <td>9.925</td>\n",
              "    </tr>\n",
              "    <tr>\n",
              "      <th>4</th>\n",
              "      <td>7.50</td>\n",
              "      <td>0.670</td>\n",
              "      <td>0.240000</td>\n",
              "      <td>2.1</td>\n",
              "      <td>0.0800</td>\n",
              "      <td>11.0</td>\n",
              "      <td>26.0</td>\n",
              "      <td>0.996500</td>\n",
              "      <td>3.37</td>\n",
              "      <td>0.560</td>\n",
              "      <td>10.000</td>\n",
              "    </tr>\n",
              "    <tr>\n",
              "      <th>5</th>\n",
              "      <td>7.80</td>\n",
              "      <td>0.580</td>\n",
              "      <td>0.260000</td>\n",
              "      <td>2.2</td>\n",
              "      <td>0.0810</td>\n",
              "      <td>15.0</td>\n",
              "      <td>47.0</td>\n",
              "      <td>0.997000</td>\n",
              "      <td>3.30</td>\n",
              "      <td>0.580</td>\n",
              "      <td>9.700</td>\n",
              "    </tr>\n",
              "    <tr>\n",
              "      <th>6</th>\n",
              "      <td>7.90</td>\n",
              "      <td>0.490</td>\n",
              "      <td>0.295358</td>\n",
              "      <td>2.2</td>\n",
              "      <td>0.0780</td>\n",
              "      <td>14.0</td>\n",
              "      <td>35.0</td>\n",
              "      <td>0.996560</td>\n",
              "      <td>3.32</td>\n",
              "      <td>0.640</td>\n",
              "      <td>10.500</td>\n",
              "    </tr>\n",
              "    <tr>\n",
              "      <th>7</th>\n",
              "      <td>8.80</td>\n",
              "      <td>0.370</td>\n",
              "      <td>0.400000</td>\n",
              "      <td>2.3</td>\n",
              "      <td>0.0730</td>\n",
              "      <td>11.0</td>\n",
              "      <td>27.0</td>\n",
              "      <td>0.995770</td>\n",
              "      <td>3.28</td>\n",
              "      <td>0.740</td>\n",
              "      <td>11.500</td>\n",
              "    </tr>\n",
              "    <tr>\n",
              "      <th>8</th>\n",
              "      <td>8.25</td>\n",
              "      <td>0.370</td>\n",
              "      <td>0.420000</td>\n",
              "      <td>2.1</td>\n",
              "      <td>0.0705</td>\n",
              "      <td>7.5</td>\n",
              "      <td>21.5</td>\n",
              "      <td>0.994940</td>\n",
              "      <td>3.23</td>\n",
              "      <td>0.740</td>\n",
              "      <td>12.150</td>\n",
              "    </tr>\n",
              "  </tbody>\n",
              "</table>\n",
              "</div>"
            ],
            "text/plain": [
              "         fixed acidity  volatile acidity  citric acid  ...    pH  sulphates  alcohol\n",
              "quality                                                ...                          \n",
              "3                 7.50             0.845     0.295358  ...  3.39      0.545    9.925\n",
              "4                 7.50             0.670     0.240000  ...  3.37      0.560   10.000\n",
              "5                 7.80             0.580     0.260000  ...  3.30      0.580    9.700\n",
              "6                 7.90             0.490     0.295358  ...  3.32      0.640   10.500\n",
              "7                 8.80             0.370     0.400000  ...  3.28      0.740   11.500\n",
              "8                 8.25             0.370     0.420000  ...  3.23      0.740   12.150\n",
              "\n",
              "[6 rows x 11 columns]"
            ]
          },
          "metadata": {
            "tags": []
          },
          "execution_count": 55
        }
      ]
    },
    {
      "cell_type": "code",
      "metadata": {
        "id": "yCvgYw3aholO",
        "colab_type": "code",
        "colab": {
          "base_uri": "https://localhost:8080/",
          "height": 601
        },
        "outputId": "1f6335be-5560-4de0-afd8-938415e546eb"
      },
      "source": [
        "fig = plt.figure(figsize=(16,8))\n",
        "for i, col in enumerate(quality_df.columns):\n",
        "    ax=plt.subplot(3,4,i+1) \n",
        "    quality_df[col].plot.bar()\n",
        "    ax.set\n",
        "    ax.set_ylim([quality_df[col].min()-quality_df[col].min() *0.01,quality_df[col].max()+quality_df[col].max()*0.01])\n",
        "plt.tight_layout()"
      ],
      "execution_count": 56,
      "outputs": [
        {
          "output_type": "display_data",
          "data": {
            "image/png": "[encoded data removed]",
            "text/plain": [
              "<Figure size 1152x576 with 12 Axes>"
            ]
          },
          "metadata": {
            "tags": []
          }
        }
      ]
    },
    {
      "cell_type": "markdown",
      "metadata": {
        "id": "EUK5mO_ZtfA5",
        "colab_type": "text"
      },
      "source": [
        "---\n",
        "\n",
        ">#### **4) Defining variables, metrics and splitting data**\n",
        "\n",
        "---\n",
        "\n",
        "\n",
        "*   Defining exploratory variable\n",
        "*   Defining target variable\n",
        "*   Metrics: Accuracy\n",
        "*   Splitting dataset\n",
        "\n",
        "\n",
        "---\n"
      ]
    },
    {
      "cell_type": "code",
      "metadata": {
        "id": "D9n2IHVjholQ",
        "colab_type": "code",
        "colab": {}
      },
      "source": [
        "# Exploratory variable\n",
        "X = df.drop('quality', axis=1)\n",
        "\n",
        "# Target variable\n",
        "y = df[['quality']]"
      ],
      "execution_count": 0,
      "outputs": []
    },
    {
      "cell_type": "code",
      "metadata": {
        "id": "7xWOh-wSholS",
        "colab_type": "code",
        "colab": {}
      },
      "source": [
        "# Splitting of data - 75% for training data and 25% for test data\n",
        "# Importing the train_test_split\n",
        "from sklearn.model_selection import train_test_split\n",
        "\n",
        "# Setting split rate using train_test_split\n",
        "split_test_size = 0.25\n",
        "\n",
        "# Creating test data and train data\n",
        "X_train, X_test, y_train, y_test = train_test_split(X, y, test_size = split_test_size, random_state = 42)"
      ],
      "execution_count": 0,
      "outputs": []
    },
    {
      "cell_type": "code",
      "metadata": {
        "id": "K_aq6ooGholU",
        "colab_type": "code",
        "colab": {
          "base_uri": "https://localhost:8080/",
          "height": 51
        },
        "outputId": "ba8fda33-d1d3-45bd-d6f4-d4e9d0fb5668"
      },
      "source": [
        "# Printing results\n",
        "\n",
        "print(\"{0:0.2f}% in data train.\".format((len(X_train)/len(df.index)) * 100))\n",
        "print(\"{0:0.2f}% in data test.\".format((len(X_test)/len(df.index)) * 100))"
      ],
      "execution_count": 21,
      "outputs": [
        {
          "output_type": "stream",
          "text": [
            "74.98% in data train.\n",
            "25.02% in data test.\n"
          ],
          "name": "stdout"
        }
      ]
    },
    {
      "cell_type": "markdown",
      "metadata": {
        "id": "v4IkgrHlholW",
        "colab_type": "text"
      },
      "source": [
        "---\n",
        "\n",
        ">#### **5) Construct a baseline and simple models**\n",
        "\n",
        "---\n",
        "*   As approximately 42% of all wine notes in the data set receive a score of 5\n",
        "*   Minimum defined baseline: 42%\n",
        "*   Train classifier models\n",
        "\n",
        "---"
      ]
    },
    {
      "cell_type": "code",
      "metadata": {
        "id": "3KKva95NholZ",
        "colab_type": "code",
        "colab": {
          "base_uri": "https://localhost:8080/",
          "height": 390
        },
        "outputId": "2dbdb0d4-fa3e-41a3-9153-10c430d1a786"
      },
      "source": [
        "# Creating a first simple models to predict quality wine.\n",
        "\n",
        "def model(X_train, y_train, X_test, y_test):\n",
        "    \n",
        "    # Importing models\n",
        "    from sklearn.linear_model import RidgeClassifier, SGDClassifier\n",
        "    from sklearn.svm import LinearSVC, SVC\n",
        "    from sklearn.tree import DecisionTreeClassifier, ExtraTreeClassifier\n",
        "    from sklearn.ensemble import AdaBoostClassifier, BaggingClassifier, GradientBoostingClassifier, RandomForestClassifier \n",
        "    from xgboost import XGBClassifier\n",
        "    from sklearn.metrics import accuracy_score\n",
        "\n",
        "\n",
        "    models = [RidgeClassifier(), SGDClassifier(), LinearSVC(), SVC(), DecisionTreeClassifier(), ExtraTreeClassifier(),                                      AdaBoostClassifier(), BaggingClassifier(), GradientBoostingClassifier(), RandomForestClassifier(), XGBClassifier()]\n",
        "\n",
        "    models_name = [\"RidgeClassifier\", \"SGDClassifier\", \"LinearSVC\", \"SVC\", \"DecisionTreeClassifier\", \"ExtraTreeClassifier\",                                      \"AdaBoostClassifier\", \"BaggingClassifier\", \"GradientBoostingClassifier\", \"RandomForestClassifier\", \"XGBClassifier\"]\n",
        "    \n",
        "\n",
        "    # Looop for training all models\n",
        "    valor = []\n",
        "\n",
        "    for i in models:\n",
        "        model = i\n",
        "        model.fit(X_train, y_train)\n",
        "        y_pred = model.predict(X_test)\n",
        "        acc = accuracy_score(y_test, y_pred)\n",
        "        valor.append(acc)\n",
        "        results = pd.DataFrame(list(zip(models_name, valor)), columns=[\"Model\", \"Accuracy\"])\n",
        "    \n",
        "    return results.sort_values(by=['Accuracy'], ascending=False)\n",
        "\n",
        "model(X_train, y_train, X_test, y_test)"
      ],
      "execution_count": 60,
      "outputs": [
        {
          "output_type": "execute_result",
          "data": {
            "text/html": [
              "<div>\n",
              "<style scoped>\n",
              "    .dataframe tbody tr th:only-of-type {\n",
              "        vertical-align: middle;\n",
              "    }\n",
              "\n",
              "    .dataframe tbody tr th {\n",
              "        vertical-align: top;\n",
              "    }\n",
              "\n",
              "    .dataframe thead th {\n",
              "        text-align: right;\n",
              "    }\n",
              "</style>\n",
              "<table border=\"1\" class=\"dataframe\">\n",
              "  <thead>\n",
              "    <tr style=\"text-align: right;\">\n",
              "      <th></th>\n",
              "      <th>Model</th>\n",
              "      <th>Accuracy</th>\n",
              "    </tr>\n",
              "  </thead>\n",
              "  <tbody>\n",
              "    <tr>\n",
              "      <th>9</th>\n",
              "      <td>RandomForestClassifier</td>\n",
              "      <td>0.6625</td>\n",
              "    </tr>\n",
              "    <tr>\n",
              "      <th>8</th>\n",
              "      <td>GradientBoostingClassifier</td>\n",
              "      <td>0.6425</td>\n",
              "    </tr>\n",
              "    <tr>\n",
              "      <th>7</th>\n",
              "      <td>BaggingClassifier</td>\n",
              "      <td>0.6175</td>\n",
              "    </tr>\n",
              "    <tr>\n",
              "      <th>10</th>\n",
              "      <td>XGBClassifier</td>\n",
              "      <td>0.6075</td>\n",
              "    </tr>\n",
              "    <tr>\n",
              "      <th>4</th>\n",
              "      <td>DecisionTreeClassifier</td>\n",
              "      <td>0.5850</td>\n",
              "    </tr>\n",
              "    <tr>\n",
              "      <th>5</th>\n",
              "      <td>ExtraTreeClassifier</td>\n",
              "      <td>0.5800</td>\n",
              "    </tr>\n",
              "    <tr>\n",
              "      <th>0</th>\n",
              "      <td>RidgeClassifier</td>\n",
              "      <td>0.5675</td>\n",
              "    </tr>\n",
              "    <tr>\n",
              "      <th>6</th>\n",
              "      <td>AdaBoostClassifier</td>\n",
              "      <td>0.5225</td>\n",
              "    </tr>\n",
              "    <tr>\n",
              "      <th>3</th>\n",
              "      <td>SVC</td>\n",
              "      <td>0.5100</td>\n",
              "    </tr>\n",
              "    <tr>\n",
              "      <th>1</th>\n",
              "      <td>SGDClassifier</td>\n",
              "      <td>0.5050</td>\n",
              "    </tr>\n",
              "    <tr>\n",
              "      <th>2</th>\n",
              "      <td>LinearSVC</td>\n",
              "      <td>0.4850</td>\n",
              "    </tr>\n",
              "  </tbody>\n",
              "</table>\n",
              "</div>"
            ],
            "text/plain": [
              "                         Model  Accuracy\n",
              "9       RandomForestClassifier    0.6625\n",
              "8   GradientBoostingClassifier    0.6425\n",
              "7            BaggingClassifier    0.6175\n",
              "10               XGBClassifier    0.6075\n",
              "4       DecisionTreeClassifier    0.5850\n",
              "5          ExtraTreeClassifier    0.5800\n",
              "0              RidgeClassifier    0.5675\n",
              "6           AdaBoostClassifier    0.5225\n",
              "3                          SVC    0.5100\n",
              "1                SGDClassifier    0.5050\n",
              "2                    LinearSVC    0.4850"
            ]
          },
          "metadata": {
            "tags": []
          },
          "execution_count": 60
        }
      ]
    },
    {
      "cell_type": "markdown",
      "metadata": {
        "id": "zti62s9mvqm1",
        "colab_type": "text"
      },
      "source": [
        ">#### **6) Finding the best model**"
      ]
    },
    {
      "cell_type": "markdown",
      "metadata": {
        "id": "cUnEGcsGjLVR",
        "colab_type": "text"
      },
      "source": [
        "#### 6.1) Feature engeneering"
      ]
    },
    {
      "cell_type": "code",
      "metadata": {
        "id": "gLpPkNzHholb",
        "colab_type": "code",
        "colab": {
          "base_uri": "https://localhost:8080/",
          "height": 68
        },
        "outputId": "c9106380-5e14-4638-8384-0a5fa191f73c"
      },
      "source": [
        "# Top 3 Models - BaggingClassifier, GradientBoosting, RandomForest\n",
        "\n",
        "# Cross Validation\n",
        "\n",
        "from sklearn.ensemble import BaggingClassifier, GradientBoostingClassifier, RandomForestClassifier\n",
        "from sklearn.model_selection import cross_val_score\n",
        "\n",
        "bagging_model = BaggingClassifier()\n",
        "gboost_model = GradientBoostingClassifier()\n",
        "ranfo_model = RandomForestClassifier()\n",
        "\n",
        "crosses_models = [bagging_model, gboost_model, ranfo_model]\n",
        "\n",
        "for i in crosses_models:\n",
        "    scores = cross_val_score(i, X_train, y_train, cv=5)\n",
        "    print(scores.mean())"
      ],
      "execution_count": 61,
      "outputs": [
        {
          "output_type": "stream",
          "text": [
            "0.63221059972106\n",
            "0.6347245467224546\n",
            "0.6797873082287309\n"
          ],
          "name": "stdout"
        }
      ]
    },
    {
      "cell_type": "code",
      "metadata": {
        "id": "2lDeian8hold",
        "colab_type": "code",
        "colab": {}
      },
      "source": [
        "# Standard Scalar\n",
        "\n",
        "from sklearn.preprocessing import StandardScaler\n",
        "\n",
        "standard = StandardScaler()\n",
        "X_train_stand = standard.fit_transform(X_train)\n",
        "X_test_stand = standard.fit_transform(X_test)"
      ],
      "execution_count": 0,
      "outputs": []
    },
    {
      "cell_type": "code",
      "metadata": {
        "id": "PYbd0XTLholf",
        "colab_type": "code",
        "colab": {
          "base_uri": "https://localhost:8080/",
          "height": 390
        },
        "outputId": "2d202d1f-ebb7-4f5f-e729-f864ae1c43d5"
      },
      "source": [
        "model(X_train_stand, y_train, X_test_stand, y_test)"
      ],
      "execution_count": 63,
      "outputs": [
        {
          "output_type": "execute_result",
          "data": {
            "text/html": [
              "<div>\n",
              "<style scoped>\n",
              "    .dataframe tbody tr th:only-of-type {\n",
              "        vertical-align: middle;\n",
              "    }\n",
              "\n",
              "    .dataframe tbody tr th {\n",
              "        vertical-align: top;\n",
              "    }\n",
              "\n",
              "    .dataframe thead th {\n",
              "        text-align: right;\n",
              "    }\n",
              "</style>\n",
              "<table border=\"1\" class=\"dataframe\">\n",
              "  <thead>\n",
              "    <tr style=\"text-align: right;\">\n",
              "      <th></th>\n",
              "      <th>Model</th>\n",
              "      <th>Accuracy</th>\n",
              "    </tr>\n",
              "  </thead>\n",
              "  <tbody>\n",
              "    <tr>\n",
              "      <th>9</th>\n",
              "      <td>RandomForestClassifier</td>\n",
              "      <td>0.6600</td>\n",
              "    </tr>\n",
              "    <tr>\n",
              "      <th>3</th>\n",
              "      <td>SVC</td>\n",
              "      <td>0.6175</td>\n",
              "    </tr>\n",
              "    <tr>\n",
              "      <th>10</th>\n",
              "      <td>XGBClassifier</td>\n",
              "      <td>0.6000</td>\n",
              "    </tr>\n",
              "    <tr>\n",
              "      <th>7</th>\n",
              "      <td>BaggingClassifier</td>\n",
              "      <td>0.5875</td>\n",
              "    </tr>\n",
              "    <tr>\n",
              "      <th>8</th>\n",
              "      <td>GradientBoostingClassifier</td>\n",
              "      <td>0.5875</td>\n",
              "    </tr>\n",
              "    <tr>\n",
              "      <th>4</th>\n",
              "      <td>DecisionTreeClassifier</td>\n",
              "      <td>0.5800</td>\n",
              "    </tr>\n",
              "    <tr>\n",
              "      <th>0</th>\n",
              "      <td>RidgeClassifier</td>\n",
              "      <td>0.5675</td>\n",
              "    </tr>\n",
              "    <tr>\n",
              "      <th>2</th>\n",
              "      <td>LinearSVC</td>\n",
              "      <td>0.5675</td>\n",
              "    </tr>\n",
              "    <tr>\n",
              "      <th>5</th>\n",
              "      <td>ExtraTreeClassifier</td>\n",
              "      <td>0.5375</td>\n",
              "    </tr>\n",
              "    <tr>\n",
              "      <th>1</th>\n",
              "      <td>SGDClassifier</td>\n",
              "      <td>0.5200</td>\n",
              "    </tr>\n",
              "    <tr>\n",
              "      <th>6</th>\n",
              "      <td>AdaBoostClassifier</td>\n",
              "      <td>0.5200</td>\n",
              "    </tr>\n",
              "  </tbody>\n",
              "</table>\n",
              "</div>"
            ],
            "text/plain": [
              "                         Model  Accuracy\n",
              "9       RandomForestClassifier    0.6600\n",
              "3                          SVC    0.6175\n",
              "10               XGBClassifier    0.6000\n",
              "7            BaggingClassifier    0.5875\n",
              "8   GradientBoostingClassifier    0.5875\n",
              "4       DecisionTreeClassifier    0.5800\n",
              "0              RidgeClassifier    0.5675\n",
              "2                    LinearSVC    0.5675\n",
              "5          ExtraTreeClassifier    0.5375\n",
              "1                SGDClassifier    0.5200\n",
              "6           AdaBoostClassifier    0.5200"
            ]
          },
          "metadata": {
            "tags": []
          },
          "execution_count": 63
        }
      ]
    },
    {
      "cell_type": "code",
      "metadata": {
        "id": "pW6_ktwjholh",
        "colab_type": "code",
        "colab": {}
      },
      "source": [
        "# Converting Age in Class\n",
        "\n",
        "# Creating classes of quality\n",
        "# 1-4 = Bad wines\n",
        "# 5-6 = Medium wines\n",
        "# 7-10 = Good wines\n",
        "\n",
        "# Defining the intervals in which the quality classes will be added in train data\n",
        "quality_bins_train = [0, 4, 6, 10]\n",
        "quality_labels_train = [\"Low\", \"Med\", \"High\"]\n",
        "\n",
        "#Converting the numerical variable [\"quality\"] to categorical variable in train data\n",
        "y_train['quality'] = pd.cut(y_train['quality'], quality_bins_train, labels=quality_labels_train, \n",
        "    right=True, include_lowest=True)\n",
        "\n",
        "# Defining the intervals in which the age classes will be added in test data\n",
        "quality_bins_test = [0, 4, 6, 10]\n",
        "quality_labels_test = [\"Low\", \"Med\", \"High\"]\n",
        "\n",
        "#Converting the numerical variable [\"Age\"] to categorical variable in test data\n",
        "y_test['quality'] = pd.cut(y_test['quality'], quality_bins_test, labels=quality_labels_test, \n",
        "    right=True, include_lowest=True)"
      ],
      "execution_count": 0,
      "outputs": []
    },
    {
      "cell_type": "code",
      "metadata": {
        "id": "2l00SrHQholk",
        "colab_type": "code",
        "colab": {
          "base_uri": "https://localhost:8080/",
          "height": 293
        },
        "outputId": "6e16cd02-d7e0-4830-88e4-c66b0513db02"
      },
      "source": [
        "y_train['quality'].value_counts(normalize=True, sort=False).plot.bar()\n",
        "y_test['quality'].value_counts(normalize=True, sort=False).plot.bar()\n",
        "plt.tight_layout()"
      ],
      "execution_count": 28,
      "outputs": [
        {
          "output_type": "display_data",
          "data": {
            "image/png": "[encoded data removed]",
            "text/plain": [
              "<Figure size 432x288 with 1 Axes>"
            ]
          },
          "metadata": {
            "tags": []
          }
        }
      ]
    },
    {
      "cell_type": "code",
      "metadata": {
        "id": "CYRiz9Cmholm",
        "colab_type": "code",
        "colab": {
          "base_uri": "https://localhost:8080/",
          "height": 390
        },
        "outputId": "2b637f64-c757-4948-aeae-1e141c633c55"
      },
      "source": [
        "model(X_train_stand, y_train, X_test_stand, y_test)"
      ],
      "execution_count": 29,
      "outputs": [
        {
          "output_type": "execute_result",
          "data": {
            "text/html": [
              "<div>\n",
              "<style scoped>\n",
              "    .dataframe tbody tr th:only-of-type {\n",
              "        vertical-align: middle;\n",
              "    }\n",
              "\n",
              "    .dataframe tbody tr th {\n",
              "        vertical-align: top;\n",
              "    }\n",
              "\n",
              "    .dataframe thead th {\n",
              "        text-align: right;\n",
              "    }\n",
              "</style>\n",
              "<table border=\"1\" class=\"dataframe\">\n",
              "  <thead>\n",
              "    <tr style=\"text-align: right;\">\n",
              "      <th></th>\n",
              "      <th>Model</th>\n",
              "      <th>Accuracy</th>\n",
              "    </tr>\n",
              "  </thead>\n",
              "  <tbody>\n",
              "    <tr>\n",
              "      <th>0</th>\n",
              "      <td>RidgeClassifier</td>\n",
              "      <td>0.8425</td>\n",
              "    </tr>\n",
              "    <tr>\n",
              "      <th>1</th>\n",
              "      <td>SGDClassifier</td>\n",
              "      <td>0.8200</td>\n",
              "    </tr>\n",
              "    <tr>\n",
              "      <th>2</th>\n",
              "      <td>LinearSVC</td>\n",
              "      <td>0.8450</td>\n",
              "    </tr>\n",
              "    <tr>\n",
              "      <th>3</th>\n",
              "      <td>SVC</td>\n",
              "      <td>0.8575</td>\n",
              "    </tr>\n",
              "    <tr>\n",
              "      <th>4</th>\n",
              "      <td>DecisionTreeClassifier</td>\n",
              "      <td>0.7925</td>\n",
              "    </tr>\n",
              "    <tr>\n",
              "      <th>5</th>\n",
              "      <td>ExtraTreeClassifier</td>\n",
              "      <td>0.7875</td>\n",
              "    </tr>\n",
              "    <tr>\n",
              "      <th>6</th>\n",
              "      <td>AdaBoostClassifier</td>\n",
              "      <td>0.7300</td>\n",
              "    </tr>\n",
              "    <tr>\n",
              "      <th>7</th>\n",
              "      <td>BaggingClassifier</td>\n",
              "      <td>0.8425</td>\n",
              "    </tr>\n",
              "    <tr>\n",
              "      <th>8</th>\n",
              "      <td>GradientBoostingClassifier</td>\n",
              "      <td>0.8200</td>\n",
              "    </tr>\n",
              "    <tr>\n",
              "      <th>9</th>\n",
              "      <td>RandomForestClassifier</td>\n",
              "      <td>0.8525</td>\n",
              "    </tr>\n",
              "    <tr>\n",
              "      <th>10</th>\n",
              "      <td>XGBClassifier</td>\n",
              "      <td>0.8475</td>\n",
              "    </tr>\n",
              "  </tbody>\n",
              "</table>\n",
              "</div>"
            ],
            "text/plain": [
              "                         Model  Accuracy\n",
              "0              RidgeClassifier    0.8425\n",
              "1                SGDClassifier    0.8200\n",
              "2                    LinearSVC    0.8450\n",
              "3                          SVC    0.8575\n",
              "4       DecisionTreeClassifier    0.7925\n",
              "5          ExtraTreeClassifier    0.7875\n",
              "6           AdaBoostClassifier    0.7300\n",
              "7            BaggingClassifier    0.8425\n",
              "8   GradientBoostingClassifier    0.8200\n",
              "9       RandomForestClassifier    0.8525\n",
              "10               XGBClassifier    0.8475"
            ]
          },
          "metadata": {
            "tags": []
          },
          "execution_count": 29
        }
      ]
    },
    {
      "cell_type": "markdown",
      "metadata": {
        "id": "6fW4FyJ5jojE",
        "colab_type": "text"
      },
      "source": [
        "#### 6.2) Tuning parameters"
      ]
    },
    {
      "cell_type": "code",
      "metadata": {
        "id": "0gUUpLAxholo",
        "colab_type": "code",
        "colab": {}
      },
      "source": [
        "def treinar_modelo(params):\n",
        "  from sklearn.metrics import accuracy_score\n",
        "  max_leaf_nodes = params[0]\n",
        "  n_estimators = params[1]\n",
        "  max_depth = params[2]\n",
        "\n",
        "  rf = RandomForestClassifier(max_leaf_nodes = max_leaf_nodes, n_estimators = n_estimators, max_depth=max_depth)\n",
        "  rf.fit(X_train_stand, y_train)\n",
        "  predict_rf = rf.predict(X_test_stand)\n",
        "  \n",
        "  return accuracy_score(y_test, predict_rf)"
      ],
      "execution_count": 0,
      "outputs": []
    },
    {
      "cell_type": "code",
      "metadata": {
        "id": "4ls1NhcYhols",
        "colab_type": "code",
        "colab": {},
        "outputId": "738ae671-1909-4488-e574-3235c5be7f0b"
      },
      "source": [
        "pip install scikit-optimize"
      ],
      "execution_count": 0,
      "outputs": [
        {
          "output_type": "stream",
          "text": [
            "Collecting scikit-optimize\n",
            "  Downloading https://files.pythonhosted.org/packages/f4/44/60f82c97d1caa98752c7da2c1681cab5c7a390a0fdd3a55fac672b321cac/scikit_optimize-0.5.2-py2.py3-none-any.whl (74kB)\n",
            "Requirement already satisfied: scipy>=0.14.0 in c:\\users\\mpaul\\anaconda3\\lib\\site-packages (from scikit-optimize) (1.3.1)\n",
            "Requirement already satisfied: numpy in c:\\users\\mpaul\\anaconda3\\lib\\site-packages (from scikit-optimize) (1.16.5)\n",
            "Requirement already satisfied: scikit-learn>=0.19.1 in c:\\users\\mpaul\\anaconda3\\lib\\site-packages (from scikit-optimize) (0.21.3)\n",
            "Requirement already satisfied: joblib>=0.11 in c:\\users\\mpaul\\anaconda3\\lib\\site-packages (from scikit-learn>=0.19.1->scikit-optimize) (0.13.2)\n",
            "Installing collected packages: scikit-optimize\n",
            "Successfully installed scikit-optimize-0.5.2\n",
            "Note: you may need to restart the kernel to use updated packages.\n"
          ],
          "name": "stdout"
        }
      ]
    },
    {
      "cell_type": "code",
      "metadata": {
        "id": "jF-GVxZ9holu",
        "colab_type": "code",
        "colab": {},
        "outputId": "135758d3-7aac-425f-df30-5dd496f542c4"
      },
      "source": [
        "from skopt import dummy_minimize"
      ],
      "execution_count": 0,
      "outputs": [
        {
          "output_type": "stream",
          "text": [
            "C:\\Users\\mpaul\\Anaconda3\\lib\\site-packages\\sklearn\\externals\\joblib\\__init__.py:15: DeprecationWarning: sklearn.externals.joblib is deprecated in 0.21 and will be removed in 0.23. Please import this functionality directly from joblib, which can be installed with: pip install joblib. If this warning is raised when loading pickled models, you may need to re-serialize those models with scikit-learn 0.21+.\n",
            "  warnings.warn(msg, category=DeprecationWarning)\n"
          ],
          "name": "stderr"
        }
      ]
    },
    {
      "cell_type": "code",
      "metadata": {
        "id": "yP5WW7Ipholw",
        "colab_type": "code",
        "colab": {},
        "outputId": "4b70d993-f5f3-465c-c11b-866f7fe43f2c"
      },
      "source": [
        "\n",
        "# Dummy minimize will be use to find parameters at randomly from a sample\n",
        "space = [(2, 145), (50, 1000), (50, 1000)]\n",
        "random_result = dummy_minimize(treinar_modelo, dimensions=space, random_state=42, verbose=0)\n"
      ],
      "execution_count": 0,
      "outputs": [
        {
          "output_type": "stream",
          "text": [
            "[3, 393, 541]\n"
          ],
          "name": "stdout"
        },
        {
          "output_type": "error",
          "ename": "NameError",
          "evalue": "name 'random_result_dummies' is not defined",
          "traceback": [
            "\u001b[1;31m---------------------------------------------------------------------------\u001b[0m",
            "\u001b[1;31mNameError\u001b[0m                                 Traceback (most recent call last)",
            "\u001b[1;32m<ipython-input-20-e02ad0e66ddc>\u001b[0m in \u001b[0;36m<module>\u001b[1;34m\u001b[0m\n\u001b[0;32m      4\u001b[0m \u001b[1;31m# Best parameters\u001b[0m\u001b[1;33m\u001b[0m\u001b[1;33m\u001b[0m\u001b[1;33m\u001b[0m\u001b[0m\n\u001b[0;32m      5\u001b[0m \u001b[0mprint\u001b[0m\u001b[1;33m(\u001b[0m\u001b[0mrandom_result\u001b[0m\u001b[1;33m.\u001b[0m\u001b[0mx\u001b[0m\u001b[1;33m)\u001b[0m\u001b[1;33m\u001b[0m\u001b[1;33m\u001b[0m\u001b[0m\n\u001b[1;32m----> 6\u001b[1;33m \u001b[0mprint\u001b[0m\u001b[1;33m(\u001b[0m\u001b[0mrandom_result_dummies\u001b[0m\u001b[1;33m.\u001b[0m\u001b[0mx\u001b[0m\u001b[1;33m)\u001b[0m\u001b[1;33m\u001b[0m\u001b[1;33m\u001b[0m\u001b[0m\n\u001b[0m\u001b[0;32m      7\u001b[0m \u001b[1;31m# Score of the best model\u001b[0m\u001b[1;33m\u001b[0m\u001b[1;33m\u001b[0m\u001b[1;33m\u001b[0m\u001b[0m\n\u001b[0;32m      8\u001b[0m \u001b[0mprint\u001b[0m\u001b[1;33m(\u001b[0m\u001b[0mrandom_result\u001b[0m\u001b[1;33m.\u001b[0m\u001b[0mfun\u001b[0m\u001b[1;33m)\u001b[0m\u001b[1;33m\u001b[0m\u001b[1;33m\u001b[0m\u001b[0m\n",
            "\u001b[1;31mNameError\u001b[0m: name 'random_result_dummies' is not defined"
          ]
        }
      ]
    },
    {
      "cell_type": "code",
      "metadata": {
        "id": "Pojb9sDiholy",
        "colab_type": "code",
        "colab": {},
        "outputId": "c05bbb81-74cc-49b3-d197-f357cace04fc"
      },
      "source": [
        "# Best parameters\n",
        "print(random_result.x)\n",
        "# Score of the best model\n",
        "print(random_result.fun)"
      ],
      "execution_count": 0,
      "outputs": [
        {
          "output_type": "stream",
          "text": [
            "[3, 393, 541]\n",
            "0.835\n"
          ],
          "name": "stdout"
        }
      ]
    },
    {
      "cell_type": "markdown",
      "metadata": {
        "id": "XAKXLASwCAIB",
        "colab_type": "text"
      },
      "source": [
        "#### 7) Machine Learning Explainability"
      ]
    },
    {
      "cell_type": "markdown",
      "metadata": {
        "id": "oelBlEbVCNIo",
        "colab_type": "text"
      },
      "source": [
        "#### 8) Deploy"
      ]
    }
  ]
}